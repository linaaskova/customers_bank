{
 "cells": [
  {
   "cell_type": "markdown",
   "metadata": {
    "toc": true
   },
   "source": [
    "<h1>Содержание<span class=\"tocSkip\"></span></h1>\n",
    "<div class=\"toc\"><ul class=\"toc-item\"><li><span><a href=\"#Подготовка-данных\" data-toc-modified-id=\"Подготовка-данных-1\"><span class=\"toc-item-num\">1&nbsp;&nbsp;</span>Подготовка данных</a></span></li><li><span><a href=\"#Исследование-задачи\" data-toc-modified-id=\"Исследование-задачи-2\"><span class=\"toc-item-num\">2&nbsp;&nbsp;</span>Исследование задачи</a></span></li><li><span><a href=\"#Борьба-с-дисбалансом\" data-toc-modified-id=\"Борьба-с-дисбалансом-3\"><span class=\"toc-item-num\">3&nbsp;&nbsp;</span>Борьба с дисбалансом</a></span></li><li><span><a href=\"#Тестирование-модели\" data-toc-modified-id=\"Тестирование-модели-4\"><span class=\"toc-item-num\">4&nbsp;&nbsp;</span>Тестирование модели</a></span></li><li><span><a href=\"#Чек-лист-готовности-проекта\" data-toc-modified-id=\"Чек-лист-готовности-проекта-5\"><span class=\"toc-item-num\">5&nbsp;&nbsp;</span>Чек-лист готовности проекта</a></span></li></ul></div>"
   ]
  },
  {
   "cell_type": "markdown",
   "metadata": {},
   "source": [
    "# Отток клиентов"
   ]
  },
  {
   "cell_type": "markdown",
   "metadata": {},
   "source": [
    "Из «Бета-Банка» стали уходить клиенты. Каждый месяц. Немного, но заметно. Банковские маркетологи посчитали: сохранять текущих клиентов дешевле, чем привлекать новых.\n",
    "\n",
    "Нужно спрогнозировать, уйдёт клиент из банка в ближайшее время или нет. Вам предоставлены исторические данные о поведении клиентов и расторжении договоров с банком. \n",
    "\n",
    "Постройте модель с предельно большим значением *F1*-меры. Чтобы сдать проект успешно, нужно довести метрику до 0.59. Проверьте *F1*-меру на тестовой выборке самостоятельно.\n",
    "\n",
    "Дополнительно измеряйте *AUC-ROC*, сравнивайте её значение с *F1*-мерой.\n",
    "\n",
    "Источник данных: [https://www.kaggle.com/barelydedicated/bank-customer-churn-modeling](https://www.kaggle.com/barelydedicated/bank-customer-churn-modeling)"
   ]
  },
  {
   "cell_type": "markdown",
   "metadata": {},
   "source": [
    "## Подготовка данных"
   ]
  },
  {
   "cell_type": "code",
   "execution_count": 1,
   "metadata": {
    "scrolled": false
   },
   "outputs": [
    {
     "name": "stdout",
     "output_type": "stream",
     "text": [
      "Requirement already satisfied: scikit-learn in /opt/conda/lib/python3.9/site-packages (1.1.3)\n",
      "Requirement already satisfied: numpy>=1.17.3 in /opt/conda/lib/python3.9/site-packages (from scikit-learn) (1.21.1)\n",
      "Requirement already satisfied: threadpoolctl>=2.0.0 in /opt/conda/lib/python3.9/site-packages (from scikit-learn) (3.1.0)\n",
      "Requirement already satisfied: scipy>=1.3.2 in /opt/conda/lib/python3.9/site-packages (from scikit-learn) (1.9.1)\n",
      "Requirement already satisfied: joblib>=1.0.0 in /opt/conda/lib/python3.9/site-packages (from scikit-learn) (1.1.0)\n"
     ]
    }
   ],
   "source": [
    "!pip install -U scikit-learn"
   ]
  },
  {
   "cell_type": "code",
   "execution_count": 2,
   "metadata": {},
   "outputs": [
    {
     "name": "stdout",
     "output_type": "stream",
     "text": [
      "Requirement already satisfied: imbalanced-learn in /opt/conda/lib/python3.9/site-packages (0.9.1)\n",
      "Requirement already satisfied: numpy>=1.17.3 in /opt/conda/lib/python3.9/site-packages (from imbalanced-learn) (1.21.1)\n",
      "Requirement already satisfied: scikit-learn>=1.1.0 in /opt/conda/lib/python3.9/site-packages (from imbalanced-learn) (1.1.3)\n",
      "Requirement already satisfied: joblib>=1.0.0 in /opt/conda/lib/python3.9/site-packages (from imbalanced-learn) (1.1.0)\n",
      "Requirement already satisfied: scipy>=1.3.2 in /opt/conda/lib/python3.9/site-packages (from imbalanced-learn) (1.9.1)\n",
      "Requirement already satisfied: threadpoolctl>=2.0.0 in /opt/conda/lib/python3.9/site-packages (from imbalanced-learn) (3.1.0)\n"
     ]
    }
   ],
   "source": [
    "!pip install -U imbalanced-learn"
   ]
  },
  {
   "cell_type": "code",
   "execution_count": 4,
   "metadata": {},
   "outputs": [],
   "source": [
    "#импортируем необходимые библиотеки\n",
    "\n",
    "import pandas as pd\n",
    "import seaborn as sns\n",
    "\n",
    "from sklearn.preprocessing import OneHotEncoder\n",
    "from sklearn.preprocessing import StandardScaler\n",
    "\n",
    "from sklearn.model_selection import train_test_split\n",
    "from sklearn.model_selection import GridSearchCV\n",
    "\n",
    "from sklearn.utils import shuffle\n",
    "\n",
    "from sklearn.tree import DecisionTreeClassifier\n",
    "from sklearn.ensemble import RandomForestClassifier\n",
    "from sklearn.linear_model import LogisticRegression\n",
    "\n",
    "\n",
    "from sklearn.metrics import accuracy_score\n",
    "from sklearn.metrics import f1_score\n",
    "from sklearn.metrics import recall_score\n",
    "from sklearn.metrics import precision_score\n",
    "from sklearn.metrics import roc_auc_score\n",
    "\n",
    "from imblearn.over_sampling import SMOTE #вот тут закомментировано было - теперь все ок\n",
    "from imblearn.under_sampling import TomekLinks"
   ]
  },
  {
   "cell_type": "code",
   "execution_count": 5,
   "metadata": {},
   "outputs": [
    {
     "data": {
      "text/html": [
       "<div>\n",
       "<style scoped>\n",
       "    .dataframe tbody tr th:only-of-type {\n",
       "        vertical-align: middle;\n",
       "    }\n",
       "\n",
       "    .dataframe tbody tr th {\n",
       "        vertical-align: top;\n",
       "    }\n",
       "\n",
       "    .dataframe thead th {\n",
       "        text-align: right;\n",
       "    }\n",
       "</style>\n",
       "<table border=\"1\" class=\"dataframe\">\n",
       "  <thead>\n",
       "    <tr style=\"text-align: right;\">\n",
       "      <th></th>\n",
       "      <th>RowNumber</th>\n",
       "      <th>CustomerId</th>\n",
       "      <th>Surname</th>\n",
       "      <th>CreditScore</th>\n",
       "      <th>Geography</th>\n",
       "      <th>Gender</th>\n",
       "      <th>Age</th>\n",
       "      <th>Tenure</th>\n",
       "      <th>Balance</th>\n",
       "      <th>NumOfProducts</th>\n",
       "      <th>HasCrCard</th>\n",
       "      <th>IsActiveMember</th>\n",
       "      <th>EstimatedSalary</th>\n",
       "      <th>Exited</th>\n",
       "    </tr>\n",
       "  </thead>\n",
       "  <tbody>\n",
       "    <tr>\n",
       "      <th>0</th>\n",
       "      <td>1</td>\n",
       "      <td>15634602</td>\n",
       "      <td>Hargrave</td>\n",
       "      <td>619</td>\n",
       "      <td>France</td>\n",
       "      <td>Female</td>\n",
       "      <td>42</td>\n",
       "      <td>2.0</td>\n",
       "      <td>0.00</td>\n",
       "      <td>1</td>\n",
       "      <td>1</td>\n",
       "      <td>1</td>\n",
       "      <td>101348.88</td>\n",
       "      <td>1</td>\n",
       "    </tr>\n",
       "    <tr>\n",
       "      <th>1</th>\n",
       "      <td>2</td>\n",
       "      <td>15647311</td>\n",
       "      <td>Hill</td>\n",
       "      <td>608</td>\n",
       "      <td>Spain</td>\n",
       "      <td>Female</td>\n",
       "      <td>41</td>\n",
       "      <td>1.0</td>\n",
       "      <td>83807.86</td>\n",
       "      <td>1</td>\n",
       "      <td>0</td>\n",
       "      <td>1</td>\n",
       "      <td>112542.58</td>\n",
       "      <td>0</td>\n",
       "    </tr>\n",
       "    <tr>\n",
       "      <th>2</th>\n",
       "      <td>3</td>\n",
       "      <td>15619304</td>\n",
       "      <td>Onio</td>\n",
       "      <td>502</td>\n",
       "      <td>France</td>\n",
       "      <td>Female</td>\n",
       "      <td>42</td>\n",
       "      <td>8.0</td>\n",
       "      <td>159660.80</td>\n",
       "      <td>3</td>\n",
       "      <td>1</td>\n",
       "      <td>0</td>\n",
       "      <td>113931.57</td>\n",
       "      <td>1</td>\n",
       "    </tr>\n",
       "    <tr>\n",
       "      <th>3</th>\n",
       "      <td>4</td>\n",
       "      <td>15701354</td>\n",
       "      <td>Boni</td>\n",
       "      <td>699</td>\n",
       "      <td>France</td>\n",
       "      <td>Female</td>\n",
       "      <td>39</td>\n",
       "      <td>1.0</td>\n",
       "      <td>0.00</td>\n",
       "      <td>2</td>\n",
       "      <td>0</td>\n",
       "      <td>0</td>\n",
       "      <td>93826.63</td>\n",
       "      <td>0</td>\n",
       "    </tr>\n",
       "    <tr>\n",
       "      <th>4</th>\n",
       "      <td>5</td>\n",
       "      <td>15737888</td>\n",
       "      <td>Mitchell</td>\n",
       "      <td>850</td>\n",
       "      <td>Spain</td>\n",
       "      <td>Female</td>\n",
       "      <td>43</td>\n",
       "      <td>2.0</td>\n",
       "      <td>125510.82</td>\n",
       "      <td>1</td>\n",
       "      <td>1</td>\n",
       "      <td>1</td>\n",
       "      <td>79084.10</td>\n",
       "      <td>0</td>\n",
       "    </tr>\n",
       "  </tbody>\n",
       "</table>\n",
       "</div>"
      ],
      "text/plain": [
       "   RowNumber  CustomerId   Surname  CreditScore Geography  Gender  Age  \\\n",
       "0          1    15634602  Hargrave          619    France  Female   42   \n",
       "1          2    15647311      Hill          608     Spain  Female   41   \n",
       "2          3    15619304      Onio          502    France  Female   42   \n",
       "3          4    15701354      Boni          699    France  Female   39   \n",
       "4          5    15737888  Mitchell          850     Spain  Female   43   \n",
       "\n",
       "   Tenure    Balance  NumOfProducts  HasCrCard  IsActiveMember  \\\n",
       "0     2.0       0.00              1          1               1   \n",
       "1     1.0   83807.86              1          0               1   \n",
       "2     8.0  159660.80              3          1               0   \n",
       "3     1.0       0.00              2          0               0   \n",
       "4     2.0  125510.82              1          1               1   \n",
       "\n",
       "   EstimatedSalary  Exited  \n",
       "0        101348.88       1  \n",
       "1        112542.58       0  \n",
       "2        113931.57       1  \n",
       "3         93826.63       0  \n",
       "4         79084.10       0  "
      ]
     },
     "metadata": {},
     "output_type": "display_data"
    },
    {
     "name": "stdout",
     "output_type": "stream",
     "text": [
      "<class 'pandas.core.frame.DataFrame'>\n",
      "RangeIndex: 10000 entries, 0 to 9999\n",
      "Data columns (total 14 columns):\n",
      " #   Column           Non-Null Count  Dtype  \n",
      "---  ------           --------------  -----  \n",
      " 0   RowNumber        10000 non-null  int64  \n",
      " 1   CustomerId       10000 non-null  int64  \n",
      " 2   Surname          10000 non-null  object \n",
      " 3   CreditScore      10000 non-null  int64  \n",
      " 4   Geography        10000 non-null  object \n",
      " 5   Gender           10000 non-null  object \n",
      " 6   Age              10000 non-null  int64  \n",
      " 7   Tenure           9091 non-null   float64\n",
      " 8   Balance          10000 non-null  float64\n",
      " 9   NumOfProducts    10000 non-null  int64  \n",
      " 10  HasCrCard        10000 non-null  int64  \n",
      " 11  IsActiveMember   10000 non-null  int64  \n",
      " 12  EstimatedSalary  10000 non-null  float64\n",
      " 13  Exited           10000 non-null  int64  \n",
      "dtypes: float64(3), int64(8), object(3)\n",
      "memory usage: 1.1+ MB\n",
      "None\n"
     ]
    },
    {
     "data": {
      "text/html": [
       "<div>\n",
       "<style scoped>\n",
       "    .dataframe tbody tr th:only-of-type {\n",
       "        vertical-align: middle;\n",
       "    }\n",
       "\n",
       "    .dataframe tbody tr th {\n",
       "        vertical-align: top;\n",
       "    }\n",
       "\n",
       "    .dataframe thead th {\n",
       "        text-align: right;\n",
       "    }\n",
       "</style>\n",
       "<table border=\"1\" class=\"dataframe\">\n",
       "  <thead>\n",
       "    <tr style=\"text-align: right;\">\n",
       "      <th></th>\n",
       "      <th>RowNumber</th>\n",
       "      <th>CustomerId</th>\n",
       "      <th>CreditScore</th>\n",
       "      <th>Age</th>\n",
       "      <th>Tenure</th>\n",
       "      <th>Balance</th>\n",
       "      <th>NumOfProducts</th>\n",
       "      <th>HasCrCard</th>\n",
       "      <th>IsActiveMember</th>\n",
       "      <th>EstimatedSalary</th>\n",
       "      <th>Exited</th>\n",
       "    </tr>\n",
       "  </thead>\n",
       "  <tbody>\n",
       "    <tr>\n",
       "      <th>count</th>\n",
       "      <td>10000.00000</td>\n",
       "      <td>1.000000e+04</td>\n",
       "      <td>10000.000000</td>\n",
       "      <td>10000.000000</td>\n",
       "      <td>9091.000000</td>\n",
       "      <td>10000.000000</td>\n",
       "      <td>10000.000000</td>\n",
       "      <td>10000.00000</td>\n",
       "      <td>10000.000000</td>\n",
       "      <td>10000.000000</td>\n",
       "      <td>10000.000000</td>\n",
       "    </tr>\n",
       "    <tr>\n",
       "      <th>mean</th>\n",
       "      <td>5000.50000</td>\n",
       "      <td>1.569094e+07</td>\n",
       "      <td>650.528800</td>\n",
       "      <td>38.921800</td>\n",
       "      <td>4.997690</td>\n",
       "      <td>76485.889288</td>\n",
       "      <td>1.530200</td>\n",
       "      <td>0.70550</td>\n",
       "      <td>0.515100</td>\n",
       "      <td>100090.239881</td>\n",
       "      <td>0.203700</td>\n",
       "    </tr>\n",
       "    <tr>\n",
       "      <th>std</th>\n",
       "      <td>2886.89568</td>\n",
       "      <td>7.193619e+04</td>\n",
       "      <td>96.653299</td>\n",
       "      <td>10.487806</td>\n",
       "      <td>2.894723</td>\n",
       "      <td>62397.405202</td>\n",
       "      <td>0.581654</td>\n",
       "      <td>0.45584</td>\n",
       "      <td>0.499797</td>\n",
       "      <td>57510.492818</td>\n",
       "      <td>0.402769</td>\n",
       "    </tr>\n",
       "    <tr>\n",
       "      <th>min</th>\n",
       "      <td>1.00000</td>\n",
       "      <td>1.556570e+07</td>\n",
       "      <td>350.000000</td>\n",
       "      <td>18.000000</td>\n",
       "      <td>0.000000</td>\n",
       "      <td>0.000000</td>\n",
       "      <td>1.000000</td>\n",
       "      <td>0.00000</td>\n",
       "      <td>0.000000</td>\n",
       "      <td>11.580000</td>\n",
       "      <td>0.000000</td>\n",
       "    </tr>\n",
       "    <tr>\n",
       "      <th>25%</th>\n",
       "      <td>2500.75000</td>\n",
       "      <td>1.562853e+07</td>\n",
       "      <td>584.000000</td>\n",
       "      <td>32.000000</td>\n",
       "      <td>2.000000</td>\n",
       "      <td>0.000000</td>\n",
       "      <td>1.000000</td>\n",
       "      <td>0.00000</td>\n",
       "      <td>0.000000</td>\n",
       "      <td>51002.110000</td>\n",
       "      <td>0.000000</td>\n",
       "    </tr>\n",
       "    <tr>\n",
       "      <th>50%</th>\n",
       "      <td>5000.50000</td>\n",
       "      <td>1.569074e+07</td>\n",
       "      <td>652.000000</td>\n",
       "      <td>37.000000</td>\n",
       "      <td>5.000000</td>\n",
       "      <td>97198.540000</td>\n",
       "      <td>1.000000</td>\n",
       "      <td>1.00000</td>\n",
       "      <td>1.000000</td>\n",
       "      <td>100193.915000</td>\n",
       "      <td>0.000000</td>\n",
       "    </tr>\n",
       "    <tr>\n",
       "      <th>75%</th>\n",
       "      <td>7500.25000</td>\n",
       "      <td>1.575323e+07</td>\n",
       "      <td>718.000000</td>\n",
       "      <td>44.000000</td>\n",
       "      <td>7.000000</td>\n",
       "      <td>127644.240000</td>\n",
       "      <td>2.000000</td>\n",
       "      <td>1.00000</td>\n",
       "      <td>1.000000</td>\n",
       "      <td>149388.247500</td>\n",
       "      <td>0.000000</td>\n",
       "    </tr>\n",
       "    <tr>\n",
       "      <th>max</th>\n",
       "      <td>10000.00000</td>\n",
       "      <td>1.581569e+07</td>\n",
       "      <td>850.000000</td>\n",
       "      <td>92.000000</td>\n",
       "      <td>10.000000</td>\n",
       "      <td>250898.090000</td>\n",
       "      <td>4.000000</td>\n",
       "      <td>1.00000</td>\n",
       "      <td>1.000000</td>\n",
       "      <td>199992.480000</td>\n",
       "      <td>1.000000</td>\n",
       "    </tr>\n",
       "  </tbody>\n",
       "</table>\n",
       "</div>"
      ],
      "text/plain": [
       "         RowNumber    CustomerId   CreditScore           Age       Tenure  \\\n",
       "count  10000.00000  1.000000e+04  10000.000000  10000.000000  9091.000000   \n",
       "mean    5000.50000  1.569094e+07    650.528800     38.921800     4.997690   \n",
       "std     2886.89568  7.193619e+04     96.653299     10.487806     2.894723   \n",
       "min        1.00000  1.556570e+07    350.000000     18.000000     0.000000   \n",
       "25%     2500.75000  1.562853e+07    584.000000     32.000000     2.000000   \n",
       "50%     5000.50000  1.569074e+07    652.000000     37.000000     5.000000   \n",
       "75%     7500.25000  1.575323e+07    718.000000     44.000000     7.000000   \n",
       "max    10000.00000  1.581569e+07    850.000000     92.000000    10.000000   \n",
       "\n",
       "             Balance  NumOfProducts    HasCrCard  IsActiveMember  \\\n",
       "count   10000.000000   10000.000000  10000.00000    10000.000000   \n",
       "mean    76485.889288       1.530200      0.70550        0.515100   \n",
       "std     62397.405202       0.581654      0.45584        0.499797   \n",
       "min         0.000000       1.000000      0.00000        0.000000   \n",
       "25%         0.000000       1.000000      0.00000        0.000000   \n",
       "50%     97198.540000       1.000000      1.00000        1.000000   \n",
       "75%    127644.240000       2.000000      1.00000        1.000000   \n",
       "max    250898.090000       4.000000      1.00000        1.000000   \n",
       "\n",
       "       EstimatedSalary        Exited  \n",
       "count     10000.000000  10000.000000  \n",
       "mean     100090.239881      0.203700  \n",
       "std       57510.492818      0.402769  \n",
       "min          11.580000      0.000000  \n",
       "25%       51002.110000      0.000000  \n",
       "50%      100193.915000      0.000000  \n",
       "75%      149388.247500      0.000000  \n",
       "max      199992.480000      1.000000  "
      ]
     },
     "metadata": {},
     "output_type": "display_data"
    }
   ],
   "source": [
    "#создадим датафрейм с данными из исходного csv файла\n",
    "\n",
    "data = pd.read_csv('/datasets/Churn.csv')\n",
    "\n",
    "#просмотрим структуру датафрейма\n",
    "\n",
    "display(data.head())\n",
    "\n",
    "print(data.info())\n",
    "\n",
    "display(data.describe())"
   ]
  },
  {
   "cell_type": "markdown",
   "metadata": {},
   "source": [
    "Исходный датафрейм включает в себя информацию об оборотах банка. Датафрейм содержит следующие данные:\n",
    "\n",
    "        Признаки:\n",
    "\n",
    "RowNumber — индекс строки в данных\n",
    "\n",
    "CustomerId — уникальный идентификатор клиента\n",
    "\n",
    "Surname — фамилия\n",
    "\n",
    "CreditScore — кредитный рейтинг\n",
    "\n",
    "Geography — страна проживания\n",
    "\n",
    "Gender — пол\n",
    "\n",
    "Age — возраст\n",
    "\n",
    "Tenure — сколько лет человек является клиентом банка\n",
    "\n",
    "Balance — баланс на счёте\n",
    "\n",
    "NumOfProducts — количество продуктов банка, используемых клиентом\n",
    "\n",
    "HasCrCard — наличие кредитной карты\n",
    "\n",
    "IsActiveMember — активность клиента\n",
    "\n",
    "EstimatedSalary — предполагаемая зарплата\n",
    "\n",
    "\n",
    "        Целевой признак:\n",
    "\n",
    "\n",
    "Exited — факт ухода клиента\n",
    "\n",
    "\n",
    "\n",
    "На основании этих данных необходимо спрогнозировать отток клиентов банка."
   ]
  },
  {
   "cell_type": "markdown",
   "metadata": {},
   "source": [
    "Всего в датафрейме 10000 строк, однако поле Tenure содержит пустые значения, что вероятно приводит к типу данных float, хотя очевидно что количество человек может быть строго целочисленным. "
   ]
  },
  {
   "cell_type": "code",
   "execution_count": 6,
   "metadata": {
    "scrolled": true
   },
   "outputs": [
    {
     "data": {
      "text/html": [
       "<div>\n",
       "<style scoped>\n",
       "    .dataframe tbody tr th:only-of-type {\n",
       "        vertical-align: middle;\n",
       "    }\n",
       "\n",
       "    .dataframe tbody tr th {\n",
       "        vertical-align: top;\n",
       "    }\n",
       "\n",
       "    .dataframe thead th {\n",
       "        text-align: right;\n",
       "    }\n",
       "</style>\n",
       "<table border=\"1\" class=\"dataframe\">\n",
       "  <thead>\n",
       "    <tr style=\"text-align: right;\">\n",
       "      <th></th>\n",
       "      <th>RowNumber</th>\n",
       "      <th>CustomerId</th>\n",
       "      <th>Surname</th>\n",
       "      <th>CreditScore</th>\n",
       "      <th>Geography</th>\n",
       "      <th>Gender</th>\n",
       "      <th>Age</th>\n",
       "      <th>Tenure</th>\n",
       "      <th>Balance</th>\n",
       "      <th>NumOfProducts</th>\n",
       "      <th>HasCrCard</th>\n",
       "      <th>IsActiveMember</th>\n",
       "      <th>EstimatedSalary</th>\n",
       "      <th>Exited</th>\n",
       "    </tr>\n",
       "  </thead>\n",
       "  <tbody>\n",
       "    <tr>\n",
       "      <th>30</th>\n",
       "      <td>31</td>\n",
       "      <td>15589475</td>\n",
       "      <td>Azikiwe</td>\n",
       "      <td>591</td>\n",
       "      <td>Spain</td>\n",
       "      <td>Female</td>\n",
       "      <td>39</td>\n",
       "      <td>NaN</td>\n",
       "      <td>0.00</td>\n",
       "      <td>3</td>\n",
       "      <td>1</td>\n",
       "      <td>0</td>\n",
       "      <td>140469.38</td>\n",
       "      <td>1</td>\n",
       "    </tr>\n",
       "    <tr>\n",
       "      <th>48</th>\n",
       "      <td>49</td>\n",
       "      <td>15766205</td>\n",
       "      <td>Yin</td>\n",
       "      <td>550</td>\n",
       "      <td>Germany</td>\n",
       "      <td>Male</td>\n",
       "      <td>38</td>\n",
       "      <td>NaN</td>\n",
       "      <td>103391.38</td>\n",
       "      <td>1</td>\n",
       "      <td>0</td>\n",
       "      <td>1</td>\n",
       "      <td>90878.13</td>\n",
       "      <td>0</td>\n",
       "    </tr>\n",
       "    <tr>\n",
       "      <th>51</th>\n",
       "      <td>52</td>\n",
       "      <td>15768193</td>\n",
       "      <td>Trevisani</td>\n",
       "      <td>585</td>\n",
       "      <td>Germany</td>\n",
       "      <td>Male</td>\n",
       "      <td>36</td>\n",
       "      <td>NaN</td>\n",
       "      <td>146050.97</td>\n",
       "      <td>2</td>\n",
       "      <td>0</td>\n",
       "      <td>0</td>\n",
       "      <td>86424.57</td>\n",
       "      <td>0</td>\n",
       "    </tr>\n",
       "    <tr>\n",
       "      <th>53</th>\n",
       "      <td>54</td>\n",
       "      <td>15702298</td>\n",
       "      <td>Parkhill</td>\n",
       "      <td>655</td>\n",
       "      <td>Germany</td>\n",
       "      <td>Male</td>\n",
       "      <td>41</td>\n",
       "      <td>NaN</td>\n",
       "      <td>125561.97</td>\n",
       "      <td>1</td>\n",
       "      <td>0</td>\n",
       "      <td>0</td>\n",
       "      <td>164040.94</td>\n",
       "      <td>1</td>\n",
       "    </tr>\n",
       "    <tr>\n",
       "      <th>60</th>\n",
       "      <td>61</td>\n",
       "      <td>15651280</td>\n",
       "      <td>Hunter</td>\n",
       "      <td>742</td>\n",
       "      <td>Germany</td>\n",
       "      <td>Male</td>\n",
       "      <td>35</td>\n",
       "      <td>NaN</td>\n",
       "      <td>136857.00</td>\n",
       "      <td>1</td>\n",
       "      <td>0</td>\n",
       "      <td>0</td>\n",
       "      <td>84509.57</td>\n",
       "      <td>0</td>\n",
       "    </tr>\n",
       "    <tr>\n",
       "      <th>...</th>\n",
       "      <td>...</td>\n",
       "      <td>...</td>\n",
       "      <td>...</td>\n",
       "      <td>...</td>\n",
       "      <td>...</td>\n",
       "      <td>...</td>\n",
       "      <td>...</td>\n",
       "      <td>...</td>\n",
       "      <td>...</td>\n",
       "      <td>...</td>\n",
       "      <td>...</td>\n",
       "      <td>...</td>\n",
       "      <td>...</td>\n",
       "      <td>...</td>\n",
       "    </tr>\n",
       "    <tr>\n",
       "      <th>9944</th>\n",
       "      <td>9945</td>\n",
       "      <td>15703923</td>\n",
       "      <td>Cameron</td>\n",
       "      <td>744</td>\n",
       "      <td>Germany</td>\n",
       "      <td>Male</td>\n",
       "      <td>41</td>\n",
       "      <td>NaN</td>\n",
       "      <td>190409.34</td>\n",
       "      <td>2</td>\n",
       "      <td>1</td>\n",
       "      <td>1</td>\n",
       "      <td>138361.48</td>\n",
       "      <td>0</td>\n",
       "    </tr>\n",
       "    <tr>\n",
       "      <th>9956</th>\n",
       "      <td>9957</td>\n",
       "      <td>15707861</td>\n",
       "      <td>Nucci</td>\n",
       "      <td>520</td>\n",
       "      <td>France</td>\n",
       "      <td>Female</td>\n",
       "      <td>46</td>\n",
       "      <td>NaN</td>\n",
       "      <td>85216.61</td>\n",
       "      <td>1</td>\n",
       "      <td>1</td>\n",
       "      <td>0</td>\n",
       "      <td>117369.52</td>\n",
       "      <td>1</td>\n",
       "    </tr>\n",
       "    <tr>\n",
       "      <th>9964</th>\n",
       "      <td>9965</td>\n",
       "      <td>15642785</td>\n",
       "      <td>Douglas</td>\n",
       "      <td>479</td>\n",
       "      <td>France</td>\n",
       "      <td>Male</td>\n",
       "      <td>34</td>\n",
       "      <td>NaN</td>\n",
       "      <td>117593.48</td>\n",
       "      <td>2</td>\n",
       "      <td>0</td>\n",
       "      <td>0</td>\n",
       "      <td>113308.29</td>\n",
       "      <td>0</td>\n",
       "    </tr>\n",
       "    <tr>\n",
       "      <th>9985</th>\n",
       "      <td>9986</td>\n",
       "      <td>15586914</td>\n",
       "      <td>Nepean</td>\n",
       "      <td>659</td>\n",
       "      <td>France</td>\n",
       "      <td>Male</td>\n",
       "      <td>36</td>\n",
       "      <td>NaN</td>\n",
       "      <td>123841.49</td>\n",
       "      <td>2</td>\n",
       "      <td>1</td>\n",
       "      <td>0</td>\n",
       "      <td>96833.00</td>\n",
       "      <td>0</td>\n",
       "    </tr>\n",
       "    <tr>\n",
       "      <th>9999</th>\n",
       "      <td>10000</td>\n",
       "      <td>15628319</td>\n",
       "      <td>Walker</td>\n",
       "      <td>792</td>\n",
       "      <td>France</td>\n",
       "      <td>Female</td>\n",
       "      <td>28</td>\n",
       "      <td>NaN</td>\n",
       "      <td>130142.79</td>\n",
       "      <td>1</td>\n",
       "      <td>1</td>\n",
       "      <td>0</td>\n",
       "      <td>38190.78</td>\n",
       "      <td>0</td>\n",
       "    </tr>\n",
       "  </tbody>\n",
       "</table>\n",
       "<p>909 rows × 14 columns</p>\n",
       "</div>"
      ],
      "text/plain": [
       "      RowNumber  CustomerId    Surname  CreditScore Geography  Gender  Age  \\\n",
       "30           31    15589475    Azikiwe          591     Spain  Female   39   \n",
       "48           49    15766205        Yin          550   Germany    Male   38   \n",
       "51           52    15768193  Trevisani          585   Germany    Male   36   \n",
       "53           54    15702298   Parkhill          655   Germany    Male   41   \n",
       "60           61    15651280     Hunter          742   Germany    Male   35   \n",
       "...         ...         ...        ...          ...       ...     ...  ...   \n",
       "9944       9945    15703923    Cameron          744   Germany    Male   41   \n",
       "9956       9957    15707861      Nucci          520    France  Female   46   \n",
       "9964       9965    15642785    Douglas          479    France    Male   34   \n",
       "9985       9986    15586914     Nepean          659    France    Male   36   \n",
       "9999      10000    15628319     Walker          792    France  Female   28   \n",
       "\n",
       "      Tenure    Balance  NumOfProducts  HasCrCard  IsActiveMember  \\\n",
       "30       NaN       0.00              3          1               0   \n",
       "48       NaN  103391.38              1          0               1   \n",
       "51       NaN  146050.97              2          0               0   \n",
       "53       NaN  125561.97              1          0               0   \n",
       "60       NaN  136857.00              1          0               0   \n",
       "...      ...        ...            ...        ...             ...   \n",
       "9944     NaN  190409.34              2          1               1   \n",
       "9956     NaN   85216.61              1          1               0   \n",
       "9964     NaN  117593.48              2          0               0   \n",
       "9985     NaN  123841.49              2          1               0   \n",
       "9999     NaN  130142.79              1          1               0   \n",
       "\n",
       "      EstimatedSalary  Exited  \n",
       "30          140469.38       1  \n",
       "48           90878.13       0  \n",
       "51           86424.57       0  \n",
       "53          164040.94       1  \n",
       "60           84509.57       0  \n",
       "...               ...     ...  \n",
       "9944        138361.48       0  \n",
       "9956        117369.52       1  \n",
       "9964        113308.29       0  \n",
       "9985         96833.00       0  \n",
       "9999         38190.78       0  \n",
       "\n",
       "[909 rows x 14 columns]"
      ]
     },
     "metadata": {},
     "output_type": "display_data"
    }
   ],
   "source": [
    "#исследуем поле tenure\n",
    "\n",
    "display(data[data['Tenure'].isna()])\n",
    "\n",
    "#909 элементов из 10000 являются пустыми - величина существенная. Преобразуем строки с пустыми значениями Tenure. \n",
    "\n",
    "data['Tenure'] = data['Tenure'].fillna(0)"
   ]
  },
  {
   "cell_type": "markdown",
   "metadata": {},
   "source": [
    "Далее просмотрим зависимость параметров. Для этого выделим категориальные и количественные признаки:\n",
    "\n",
    "RowNumber — порядковый\n",
    "\n",
    "CustomerId — категориальный\n",
    "\n",
    "Surname — категориальные\n",
    "\n",
    "CreditScore — количественные\n",
    "\n",
    "Geography — категориальные\n",
    "\n",
    "Gender — категориальные\n",
    "\n",
    "Age — количественные\n",
    "\n",
    "Tenure — количественные\n",
    "\n",
    "Balance — количественные\n",
    "\n",
    "NumOfProducts — количественные\n",
    "\n",
    "HasCrCard — категориальные\n",
    "\n",
    "IsActiveMember — категориальные\n",
    "\n",
    "EstimatedSalary — количественные\n",
    "\n",
    "Целевой признак - категориальный\n"
   ]
  },
  {
   "cell_type": "code",
   "execution_count": 7,
   "metadata": {},
   "outputs": [
    {
     "data": {
      "text/html": [
       "<div>\n",
       "<style scoped>\n",
       "    .dataframe tbody tr th:only-of-type {\n",
       "        vertical-align: middle;\n",
       "    }\n",
       "\n",
       "    .dataframe tbody tr th {\n",
       "        vertical-align: top;\n",
       "    }\n",
       "\n",
       "    .dataframe thead th {\n",
       "        text-align: right;\n",
       "    }\n",
       "</style>\n",
       "<table border=\"1\" class=\"dataframe\">\n",
       "  <thead>\n",
       "    <tr style=\"text-align: right;\">\n",
       "      <th></th>\n",
       "      <th>CreditScore</th>\n",
       "      <th>Age</th>\n",
       "      <th>Tenure</th>\n",
       "      <th>Balance</th>\n",
       "      <th>NumOfProducts</th>\n",
       "      <th>EstimatedSalary</th>\n",
       "    </tr>\n",
       "  </thead>\n",
       "  <tbody>\n",
       "    <tr>\n",
       "      <th>CreditScore</th>\n",
       "      <td>1.000000</td>\n",
       "      <td>-0.003965</td>\n",
       "      <td>0.003087</td>\n",
       "      <td>0.006268</td>\n",
       "      <td>0.012238</td>\n",
       "      <td>-0.001384</td>\n",
       "    </tr>\n",
       "    <tr>\n",
       "      <th>Age</th>\n",
       "      <td>-0.003965</td>\n",
       "      <td>1.000000</td>\n",
       "      <td>-0.007368</td>\n",
       "      <td>0.028308</td>\n",
       "      <td>-0.030680</td>\n",
       "      <td>-0.007201</td>\n",
       "    </tr>\n",
       "    <tr>\n",
       "      <th>Tenure</th>\n",
       "      <td>0.003087</td>\n",
       "      <td>-0.007368</td>\n",
       "      <td>1.000000</td>\n",
       "      <td>-0.005821</td>\n",
       "      <td>0.010106</td>\n",
       "      <td>0.011225</td>\n",
       "    </tr>\n",
       "    <tr>\n",
       "      <th>Balance</th>\n",
       "      <td>0.006268</td>\n",
       "      <td>0.028308</td>\n",
       "      <td>-0.005821</td>\n",
       "      <td>1.000000</td>\n",
       "      <td>-0.304180</td>\n",
       "      <td>0.012797</td>\n",
       "    </tr>\n",
       "    <tr>\n",
       "      <th>NumOfProducts</th>\n",
       "      <td>0.012238</td>\n",
       "      <td>-0.030680</td>\n",
       "      <td>0.010106</td>\n",
       "      <td>-0.304180</td>\n",
       "      <td>1.000000</td>\n",
       "      <td>0.014204</td>\n",
       "    </tr>\n",
       "    <tr>\n",
       "      <th>EstimatedSalary</th>\n",
       "      <td>-0.001384</td>\n",
       "      <td>-0.007201</td>\n",
       "      <td>0.011225</td>\n",
       "      <td>0.012797</td>\n",
       "      <td>0.014204</td>\n",
       "      <td>1.000000</td>\n",
       "    </tr>\n",
       "  </tbody>\n",
       "</table>\n",
       "</div>"
      ],
      "text/plain": [
       "                 CreditScore       Age    Tenure   Balance  NumOfProducts  \\\n",
       "CreditScore         1.000000 -0.003965  0.003087  0.006268       0.012238   \n",
       "Age                -0.003965  1.000000 -0.007368  0.028308      -0.030680   \n",
       "Tenure              0.003087 -0.007368  1.000000 -0.005821       0.010106   \n",
       "Balance             0.006268  0.028308 -0.005821  1.000000      -0.304180   \n",
       "NumOfProducts       0.012238 -0.030680  0.010106 -0.304180       1.000000   \n",
       "EstimatedSalary    -0.001384 -0.007201  0.011225  0.012797       0.014204   \n",
       "\n",
       "                 EstimatedSalary  \n",
       "CreditScore            -0.001384  \n",
       "Age                    -0.007201  \n",
       "Tenure                  0.011225  \n",
       "Balance                 0.012797  \n",
       "NumOfProducts           0.014204  \n",
       "EstimatedSalary         1.000000  "
      ]
     },
     "execution_count": 7,
     "metadata": {},
     "output_type": "execute_result"
    }
   ],
   "source": [
    "#оценим связь количественных признаков\n",
    "\n",
    "series = ['CreditScore','Age','Tenure','Balance','NumOfProducts','EstimatedSalary']\n",
    "\n",
    "data[series].corr()"
   ]
  },
  {
   "cell_type": "code",
   "execution_count": 8,
   "metadata": {
    "scrolled": true
   },
   "outputs": [
    {
     "data": {
      "text/plain": [
       "<seaborn.axisgrid.PairGrid at 0x7f3e3d19bbe0>"
      ]
     },
     "execution_count": 8,
     "metadata": {},
     "output_type": "execute_result"
    },
    {
     "data": {
      "image/png": "[encoded data removed]",
      "text/plain": [
       "<Figure size 1080x1080 with 42 Axes>"
      ]
     },
     "metadata": {
      "needs_background": "light"
     },
     "output_type": "display_data"
    }
   ],
   "source": [
    "sns.pairplot(data[series])"
   ]
  },
  {
   "cell_type": "markdown",
   "metadata": {},
   "source": [
    "По итогу анализа мультиколлинеарности в количественных признаках не выявлено, однако очевидно что для дальнейшей работы можно убрать поля Фамилии, порядковый признак и уникальный идентификатор."
   ]
  },
  {
   "cell_type": "code",
   "execution_count": 9,
   "metadata": {},
   "outputs": [],
   "source": [
    "data_prev = data\n",
    "data = data.drop(['RowNumber','CustomerId','Surname'], axis = 1)"
   ]
  },
  {
   "cell_type": "markdown",
   "metadata": {},
   "source": [
    "Для дальнейшем работы - выделим фичи и целевой признак. Поделим исходный датафрейм на обучающую и тестовую выборки, после чего выделим валидационную выборки - соотношение 60/20/20"
   ]
  },
  {
   "cell_type": "code",
   "execution_count": 11,
   "metadata": {},
   "outputs": [],
   "source": [
    "X = data.drop('Exited', axis = 1)\n",
    "Y = data['Exited']\n",
    "\n",
    "X_train, X_test, Y_train, Y_test = train_test_split(\n",
    "                                                                X,Y, \n",
    "                                                                train_size=0.60, \n",
    "                                                                random_state = 12345)\n",
    "X_test, X_valid = train_test_split(\n",
    "                                                X_test, \n",
    "                                                test_size=0.50, \n",
    "                                                random_state = 12345)\n",
    "\n",
    "Y_test, Y_valid = train_test_split(\n",
    "                                                Y_test, \n",
    "                                                test_size=0.50, \n",
    "                                                random_state = 12345)\n"
   ]
  },
  {
   "cell_type": "code",
   "execution_count": 12,
   "metadata": {
    "scrolled": true
   },
   "outputs": [
    {
     "name": "stdout",
     "output_type": "stream",
     "text": [
      "Количество объектов внутри тестовой выборки 2000\n",
      "Количество объектов внутри обучающей выборки 6000\n",
      "Количество объектов внутри валидационной выборки 2000\n",
      "Величина тестовой выборки 0.2\n",
      "Величина обучающей выборки 0.6\n",
      "Величина валидационной выборки 0.2\n"
     ]
    }
   ],
   "source": [
    "print('Количество объектов внутри тестовой выборки',X_test['Age'].count())\n",
    "print('Количество объектов внутри обучающей выборки',X_train['Age'].count())\n",
    "print('Количество объектов внутри валидационной выборки',X_valid['Age'].count())\n",
    "\n",
    "print('Величина тестовой выборки',X_test['Age'].count()/data['Age'].count())\n",
    "print('Величина обучающей выборки',X_train['Age'].count()/data['Age'].count())\n",
    "print('Величина валидационной выборки',X_valid['Age'].count()/data['Age'].count())"
   ]
  },
  {
   "cell_type": "markdown",
   "metadata": {},
   "source": [
    "В исходном датафрейме есть часть категориальных признаков, которые необходимо закодировать  - для задачи классификации модель не сможет использовать категориальные признаки - Geography, Gender.\n",
    "\n",
    "Прочие категориальные признаки могут быть использованы в моделях.\n",
    "\n",
    "Воспользуемся методом One-Hot Encoding."
   ]
  },
  {
   "cell_type": "markdown",
   "metadata": {},
   "source": [
    "Разбросы и значения EstimatedSalary больше чем Age. Чтобы все признаки были равнозначными - следующим этапом масштабируем количественные признаки в обучающей и валидаицонной выборках."
   ]
  },
  {
   "cell_type": "code",
   "execution_count": 14,
   "metadata": {},
   "outputs": [],
   "source": [
    "#масштабирование признаков\n",
    "\n",
    "\n",
    "cat = list(X_train.select_dtypes('object').columns) #категориальные признаки\n",
    "num = list(X_train.select_dtypes(exclude='object').columns) #количественные признаки\n",
    "\n",
    "\n",
    "scaler = StandardScaler()\n",
    "X_train_scaled = pd.DataFrame(scaler.fit_transform(X_train[num]), columns=[num], index=X_train.index)\n",
    "X_valid_scaled = pd.DataFrame(scaler.transform(X_valid[num]), columns=[num], index=X_valid.index)\n",
    "X_test_scaled = pd.DataFrame(scaler.transform(X_test[num]), columns=[num], index=X_test.index)"
   ]
  },
  {
   "cell_type": "code",
   "execution_count": 15,
   "metadata": {},
   "outputs": [],
   "source": [
    "#кодирование OHE\n",
    "\n",
    "\n",
    "enc = OneHotEncoder(handle_unknown='error', drop='first')\n",
    "\n",
    "X_train_ohe = enc.fit_transform(X_train[cat]) \n",
    "X_valid_ohe = enc.transform(X_valid[cat]) \n",
    "X_test_ohe = enc.transform(X_test[cat]) \n"
   ]
  },
  {
   "cell_type": "code",
   "execution_count": 16,
   "metadata": {},
   "outputs": [
    {
     "data": {
      "text/html": [
       "<div>\n",
       "<style scoped>\n",
       "    .dataframe tbody tr th:only-of-type {\n",
       "        vertical-align: middle;\n",
       "    }\n",
       "\n",
       "    .dataframe tbody tr th {\n",
       "        vertical-align: top;\n",
       "    }\n",
       "\n",
       "    .dataframe thead th {\n",
       "        text-align: right;\n",
       "    }\n",
       "</style>\n",
       "<table border=\"1\" class=\"dataframe\">\n",
       "  <thead>\n",
       "    <tr style=\"text-align: right;\">\n",
       "      <th></th>\n",
       "      <th>(CreditScore,)</th>\n",
       "      <th>(Age,)</th>\n",
       "      <th>(Tenure,)</th>\n",
       "      <th>(Balance,)</th>\n",
       "      <th>(NumOfProducts,)</th>\n",
       "      <th>(HasCrCard,)</th>\n",
       "      <th>(IsActiveMember,)</th>\n",
       "      <th>(EstimatedSalary,)</th>\n",
       "      <th>0</th>\n",
       "      <th>1</th>\n",
       "      <th>2</th>\n",
       "    </tr>\n",
       "  </thead>\n",
       "  <tbody>\n",
       "    <tr>\n",
       "      <th>7479</th>\n",
       "      <td>-0.886751</td>\n",
       "      <td>-0.373192</td>\n",
       "      <td>1.104696</td>\n",
       "      <td>1.232271</td>\n",
       "      <td>-0.891560</td>\n",
       "      <td>0.642466</td>\n",
       "      <td>-1.055187</td>\n",
       "      <td>-0.187705</td>\n",
       "      <td>0.0</td>\n",
       "      <td>1.0</td>\n",
       "      <td>1.0</td>\n",
       "    </tr>\n",
       "    <tr>\n",
       "      <th>3411</th>\n",
       "      <td>0.608663</td>\n",
       "      <td>-0.183385</td>\n",
       "      <td>1.104696</td>\n",
       "      <td>0.600563</td>\n",
       "      <td>-0.891560</td>\n",
       "      <td>-1.556504</td>\n",
       "      <td>-1.055187</td>\n",
       "      <td>-0.333945</td>\n",
       "      <td>0.0</td>\n",
       "      <td>0.0</td>\n",
       "      <td>0.0</td>\n",
       "    </tr>\n",
       "    <tr>\n",
       "      <th>6027</th>\n",
       "      <td>2.052152</td>\n",
       "      <td>0.480939</td>\n",
       "      <td>-0.503694</td>\n",
       "      <td>1.027098</td>\n",
       "      <td>0.830152</td>\n",
       "      <td>-1.556504</td>\n",
       "      <td>0.947699</td>\n",
       "      <td>1.503095</td>\n",
       "      <td>1.0</td>\n",
       "      <td>0.0</td>\n",
       "      <td>1.0</td>\n",
       "    </tr>\n",
       "  </tbody>\n",
       "</table>\n",
       "</div>"
      ],
      "text/plain": [
       "      (CreditScore,)    (Age,)  (Tenure,)  (Balance,)  (NumOfProducts,)  \\\n",
       "7479       -0.886751 -0.373192   1.104696    1.232271         -0.891560   \n",
       "3411        0.608663 -0.183385   1.104696    0.600563         -0.891560   \n",
       "6027        2.052152  0.480939  -0.503694    1.027098          0.830152   \n",
       "\n",
       "      (HasCrCard,)  (IsActiveMember,)  (EstimatedSalary,)    0    1    2  \n",
       "7479      0.642466          -1.055187           -0.187705  0.0  1.0  1.0  \n",
       "3411     -1.556504          -1.055187           -0.333945  0.0  0.0  0.0  \n",
       "6027     -1.556504           0.947699            1.503095  1.0  0.0  1.0  "
      ]
     },
     "metadata": {},
     "output_type": "display_data"
    },
    {
     "data": {
      "text/html": [
       "<div>\n",
       "<style scoped>\n",
       "    .dataframe tbody tr th:only-of-type {\n",
       "        vertical-align: middle;\n",
       "    }\n",
       "\n",
       "    .dataframe tbody tr th {\n",
       "        vertical-align: top;\n",
       "    }\n",
       "\n",
       "    .dataframe thead th {\n",
       "        text-align: right;\n",
       "    }\n",
       "</style>\n",
       "<table border=\"1\" class=\"dataframe\">\n",
       "  <thead>\n",
       "    <tr style=\"text-align: right;\">\n",
       "      <th></th>\n",
       "      <th>(CreditScore,)</th>\n",
       "      <th>(Age,)</th>\n",
       "      <th>(Tenure,)</th>\n",
       "      <th>(Balance,)</th>\n",
       "      <th>(NumOfProducts,)</th>\n",
       "      <th>(HasCrCard,)</th>\n",
       "      <th>(IsActiveMember,)</th>\n",
       "      <th>(EstimatedSalary,)</th>\n",
       "      <th>0</th>\n",
       "      <th>1</th>\n",
       "      <th>2</th>\n",
       "    </tr>\n",
       "  </thead>\n",
       "  <tbody>\n",
       "    <tr>\n",
       "      <th>7041</th>\n",
       "      <td>-2.226392</td>\n",
       "      <td>-0.088482</td>\n",
       "      <td>-0.825373</td>\n",
       "      <td>-1.233163</td>\n",
       "      <td>0.830152</td>\n",
       "      <td>0.642466</td>\n",
       "      <td>-1.055187</td>\n",
       "      <td>0.647083</td>\n",
       "      <td>0.0</td>\n",
       "      <td>0.0</td>\n",
       "      <td>1.0</td>\n",
       "    </tr>\n",
       "    <tr>\n",
       "      <th>5709</th>\n",
       "      <td>-0.087120</td>\n",
       "      <td>0.006422</td>\n",
       "      <td>1.426375</td>\n",
       "      <td>-1.233163</td>\n",
       "      <td>-0.891560</td>\n",
       "      <td>0.642466</td>\n",
       "      <td>-1.055187</td>\n",
       "      <td>-1.658410</td>\n",
       "      <td>0.0</td>\n",
       "      <td>0.0</td>\n",
       "      <td>0.0</td>\n",
       "    </tr>\n",
       "    <tr>\n",
       "      <th>7117</th>\n",
       "      <td>-0.917905</td>\n",
       "      <td>-0.752805</td>\n",
       "      <td>0.139662</td>\n",
       "      <td>0.722307</td>\n",
       "      <td>-0.891560</td>\n",
       "      <td>0.642466</td>\n",
       "      <td>0.947699</td>\n",
       "      <td>-1.369334</td>\n",
       "      <td>0.0</td>\n",
       "      <td>1.0</td>\n",
       "      <td>1.0</td>\n",
       "    </tr>\n",
       "  </tbody>\n",
       "</table>\n",
       "</div>"
      ],
      "text/plain": [
       "      (CreditScore,)    (Age,)  (Tenure,)  (Balance,)  (NumOfProducts,)  \\\n",
       "7041       -2.226392 -0.088482  -0.825373   -1.233163          0.830152   \n",
       "5709       -0.087120  0.006422   1.426375   -1.233163         -0.891560   \n",
       "7117       -0.917905 -0.752805   0.139662    0.722307         -0.891560   \n",
       "\n",
       "      (HasCrCard,)  (IsActiveMember,)  (EstimatedSalary,)    0    1    2  \n",
       "7041      0.642466          -1.055187            0.647083  0.0  0.0  1.0  \n",
       "5709      0.642466          -1.055187           -1.658410  0.0  0.0  0.0  \n",
       "7117      0.642466           0.947699           -1.369334  0.0  1.0  1.0  "
      ]
     },
     "metadata": {},
     "output_type": "display_data"
    },
    {
     "data": {
      "text/html": [
       "<div>\n",
       "<style scoped>\n",
       "    .dataframe tbody tr th:only-of-type {\n",
       "        vertical-align: middle;\n",
       "    }\n",
       "\n",
       "    .dataframe tbody tr th {\n",
       "        vertical-align: top;\n",
       "    }\n",
       "\n",
       "    .dataframe thead th {\n",
       "        text-align: right;\n",
       "    }\n",
       "</style>\n",
       "<table border=\"1\" class=\"dataframe\">\n",
       "  <thead>\n",
       "    <tr style=\"text-align: right;\">\n",
       "      <th></th>\n",
       "      <th>(CreditScore,)</th>\n",
       "      <th>(Age,)</th>\n",
       "      <th>(Tenure,)</th>\n",
       "      <th>(Balance,)</th>\n",
       "      <th>(NumOfProducts,)</th>\n",
       "      <th>(HasCrCard,)</th>\n",
       "      <th>(IsActiveMember,)</th>\n",
       "      <th>(EstimatedSalary,)</th>\n",
       "      <th>0</th>\n",
       "      <th>1</th>\n",
       "      <th>2</th>\n",
       "    </tr>\n",
       "  </thead>\n",
       "  <tbody>\n",
       "    <tr>\n",
       "      <th>8532</th>\n",
       "      <td>-0.699824</td>\n",
       "      <td>-0.373192</td>\n",
       "      <td>-0.825373</td>\n",
       "      <td>-1.233163</td>\n",
       "      <td>0.830152</td>\n",
       "      <td>0.642466</td>\n",
       "      <td>-1.055187</td>\n",
       "      <td>-0.015173</td>\n",
       "      <td>0.0</td>\n",
       "      <td>0.0</td>\n",
       "      <td>0.0</td>\n",
       "    </tr>\n",
       "    <tr>\n",
       "      <th>5799</th>\n",
       "      <td>-0.284431</td>\n",
       "      <td>0.575842</td>\n",
       "      <td>-0.503694</td>\n",
       "      <td>-1.233163</td>\n",
       "      <td>-0.891560</td>\n",
       "      <td>0.642466</td>\n",
       "      <td>0.947699</td>\n",
       "      <td>1.471724</td>\n",
       "      <td>0.0</td>\n",
       "      <td>0.0</td>\n",
       "      <td>0.0</td>\n",
       "    </tr>\n",
       "    <tr>\n",
       "      <th>5511</th>\n",
       "      <td>0.151731</td>\n",
       "      <td>-0.657902</td>\n",
       "      <td>-1.468729</td>\n",
       "      <td>0.438711</td>\n",
       "      <td>-0.891560</td>\n",
       "      <td>0.642466</td>\n",
       "      <td>-1.055187</td>\n",
       "      <td>-1.367107</td>\n",
       "      <td>1.0</td>\n",
       "      <td>0.0</td>\n",
       "      <td>1.0</td>\n",
       "    </tr>\n",
       "  </tbody>\n",
       "</table>\n",
       "</div>"
      ],
      "text/plain": [
       "      (CreditScore,)    (Age,)  (Tenure,)  (Balance,)  (NumOfProducts,)  \\\n",
       "8532       -0.699824 -0.373192  -0.825373   -1.233163          0.830152   \n",
       "5799       -0.284431  0.575842  -0.503694   -1.233163         -0.891560   \n",
       "5511        0.151731 -0.657902  -1.468729    0.438711         -0.891560   \n",
       "\n",
       "      (HasCrCard,)  (IsActiveMember,)  (EstimatedSalary,)    0    1    2  \n",
       "8532      0.642466          -1.055187           -0.015173  0.0  0.0  0.0  \n",
       "5799      0.642466           0.947699            1.471724  0.0  0.0  0.0  \n",
       "5511      0.642466          -1.055187           -1.367107  1.0  0.0  1.0  "
      ]
     },
     "metadata": {},
     "output_type": "display_data"
    }
   ],
   "source": [
    "#формирование единых выборок \n",
    "\n",
    "X_train = pd.concat(\n",
    "                    [X_train_scaled, \n",
    "                    pd.DataFrame(X_train_ohe.toarray(), index=X_train.index)], axis=1\n",
    "                        )\n",
    "\n",
    "X_valid = pd.concat(\n",
    "                    [X_valid_scaled, \n",
    "                    pd.DataFrame(X_valid_ohe.toarray(), index=X_valid.index)], axis=1\n",
    "                        )\n",
    "\n",
    "\n",
    "X_test = pd.concat(\n",
    "                    [X_test_scaled, \n",
    "                    pd.DataFrame(X_test_ohe.toarray(), index=X_test.index)], axis=1\n",
    "                        )\n",
    "\n",
    "\n",
    "display(X_train.head(3))\n",
    "\n",
    "display(X_valid.head(3))\n",
    "\n",
    "display(X_test.head(3))"
   ]
  },
  {
   "cell_type": "markdown",
   "metadata": {},
   "source": [
    "Исходные данные не содержат незакодированных категориальных признаков.\n",
    "\n",
    "Завершив анализ датафрейма, немного скорректировав его и закодировав ряд признаков возможно приступать к дальнейшей работе с данными."
   ]
  },
  {
   "cell_type": "markdown",
   "metadata": {},
   "source": [
    "## Исследование задачи"
   ]
  },
  {
   "cell_type": "markdown",
   "metadata": {},
   "source": [
    "Цель - построить прогнозную модель оттока клиентов банка. Для каждой модели подберем наилучшие параметры сравнивая метрику f1."
   ]
  },
  {
   "cell_type": "code",
   "execution_count": 17,
   "metadata": {},
   "outputs": [
    {
     "data": {
      "text/plain": [
       "{'max_depth': 10}"
      ]
     },
     "execution_count": 17,
     "metadata": {},
     "output_type": "execute_result"
    }
   ],
   "source": [
    "tree = DecisionTreeClassifier(random_state=12345)\n",
    "\n",
    "parametrs = { 'max_depth': range (2,16, 2)}\n",
    "grid = GridSearchCV(tree, parametrs, scoring = 'f1')\n",
    "grid.fit(X_train, Y_train)\n",
    "\n",
    "grid.best_params_"
   ]
  },
  {
   "cell_type": "code",
   "execution_count": 18,
   "metadata": {},
   "outputs": [
    {
     "data": {
      "text/html": [
       "<style>#sk-container-id-1 {color: black;background-color: white;}#sk-container-id-1 pre{padding: 0;}#sk-container-id-1 div.sk-toggleable {background-color: white;}#sk-container-id-1 label.sk-toggleable__label {cursor: pointer;display: block;width: 100%;margin-bottom: 0;padding: 0.3em;box-sizing: border-box;text-align: center;}#sk-container-id-1 label.sk-toggleable__label-arrow:before {content: \"▸\";float: left;margin-right: 0.25em;color: #696969;}#sk-container-id-1 label.sk-toggleable__label-arrow:hover:before {color: black;}#sk-container-id-1 div.sk-estimator:hover label.sk-toggleable__label-arrow:before {color: black;}#sk-container-id-1 div.sk-toggleable__content {max-height: 0;max-width: 0;overflow: hidden;text-align: left;background-color: #f0f8ff;}#sk-container-id-1 div.sk-toggleable__content pre {margin: 0.2em;color: black;border-radius: 0.25em;background-color: #f0f8ff;}#sk-container-id-1 input.sk-toggleable__control:checked~div.sk-toggleable__content {max-height: 200px;max-width: 100%;overflow: auto;}#sk-container-id-1 input.sk-toggleable__control:checked~label.sk-toggleable__label-arrow:before {content: \"▾\";}#sk-container-id-1 div.sk-estimator input.sk-toggleable__control:checked~label.sk-toggleable__label {background-color: #d4ebff;}#sk-container-id-1 div.sk-label input.sk-toggleable__control:checked~label.sk-toggleable__label {background-color: #d4ebff;}#sk-container-id-1 input.sk-hidden--visually {border: 0;clip: rect(1px 1px 1px 1px);clip: rect(1px, 1px, 1px, 1px);height: 1px;margin: -1px;overflow: hidden;padding: 0;position: absolute;width: 1px;}#sk-container-id-1 div.sk-estimator {font-family: monospace;background-color: #f0f8ff;border: 1px dotted black;border-radius: 0.25em;box-sizing: border-box;margin-bottom: 0.5em;}#sk-container-id-1 div.sk-estimator:hover {background-color: #d4ebff;}#sk-container-id-1 div.sk-parallel-item::after {content: \"\";width: 100%;border-bottom: 1px solid gray;flex-grow: 1;}#sk-container-id-1 div.sk-label:hover label.sk-toggleable__label {background-color: #d4ebff;}#sk-container-id-1 div.sk-serial::before {content: \"\";position: absolute;border-left: 1px solid gray;box-sizing: border-box;top: 0;bottom: 0;left: 50%;z-index: 0;}#sk-container-id-1 div.sk-serial {display: flex;flex-direction: column;align-items: center;background-color: white;padding-right: 0.2em;padding-left: 0.2em;position: relative;}#sk-container-id-1 div.sk-item {position: relative;z-index: 1;}#sk-container-id-1 div.sk-parallel {display: flex;align-items: stretch;justify-content: center;background-color: white;position: relative;}#sk-container-id-1 div.sk-item::before, #sk-container-id-1 div.sk-parallel-item::before {content: \"\";position: absolute;border-left: 1px solid gray;box-sizing: border-box;top: 0;bottom: 0;left: 50%;z-index: -1;}#sk-container-id-1 div.sk-parallel-item {display: flex;flex-direction: column;z-index: 1;position: relative;background-color: white;}#sk-container-id-1 div.sk-parallel-item:first-child::after {align-self: flex-end;width: 50%;}#sk-container-id-1 div.sk-parallel-item:last-child::after {align-self: flex-start;width: 50%;}#sk-container-id-1 div.sk-parallel-item:only-child::after {width: 0;}#sk-container-id-1 div.sk-dashed-wrapped {border: 1px dashed gray;margin: 0 0.4em 0.5em 0.4em;box-sizing: border-box;padding-bottom: 0.4em;background-color: white;}#sk-container-id-1 div.sk-label label {font-family: monospace;font-weight: bold;display: inline-block;line-height: 1.2em;}#sk-container-id-1 div.sk-label-container {text-align: center;}#sk-container-id-1 div.sk-container {/* jupyter's `normalize.less` sets `[hidden] { display: none; }` but bootstrap.min.css set `[hidden] { display: none !important; }` so we also need the `!important` here to be able to override the default hidden behavior on the sphinx rendered scikit-learn.org. See: https://github.com/scikit-learn/scikit-learn/issues/21755 */display: inline-block !important;position: relative;}#sk-container-id-1 div.sk-text-repr-fallback {display: none;}</style><div id=\"sk-container-id-1\" class=\"sk-top-container\"><div class=\"sk-text-repr-fallback\"><pre>DecisionTreeClassifier(max_depth=10, random_state=12345)</pre><b>In a Jupyter environment, please rerun this cell to show the HTML representation or trust the notebook. <br />On GitHub, the HTML representation is unable to render, please try loading this page with nbviewer.org.</b></div><div class=\"sk-container\" hidden><div class=\"sk-item\"><div class=\"sk-estimator sk-toggleable\"><input class=\"sk-toggleable__control sk-hidden--visually\" id=\"sk-estimator-id-1\" type=\"checkbox\" checked><label for=\"sk-estimator-id-1\" class=\"sk-toggleable__label sk-toggleable__label-arrow\">DecisionTreeClassifier</label><div class=\"sk-toggleable__content\"><pre>DecisionTreeClassifier(max_depth=10, random_state=12345)</pre></div></div></div></div></div>"
      ],
      "text/plain": [
       "DecisionTreeClassifier(max_depth=10, random_state=12345)"
      ]
     },
     "execution_count": 18,
     "metadata": {},
     "output_type": "execute_result"
    }
   ],
   "source": [
    "model_tree = DecisionTreeClassifier(random_state=12345,max_depth = 10 )\n",
    "model_tree.fit(X_train, Y_train)"
   ]
  },
  {
   "cell_type": "code",
   "execution_count": 19,
   "metadata": {},
   "outputs": [
    {
     "name": "stdout",
     "output_type": "stream",
     "text": [
      "F1 лучшей модели: 0.27478260869565213 при количестве 10\n"
     ]
    }
   ],
   "source": [
    "best_model=None\n",
    "best_result=0\n",
    "best_est=0\n",
    "for n in range(10,500,10):\n",
    "    model=LogisticRegression(random_state=12345,solver='liblinear',max_iter=n)\n",
    "    model.fit(X_train,Y_train)\n",
    "    predictions=model.predict(X_valid)\n",
    "    result=f1_score(Y_valid,predictions)\n",
    "    if result>best_result:\n",
    "        best_model=model\n",
    "        best_result=result\n",
    "        best_est=n\n",
    "        \n",
    "print(\"F1 лучшей модели:\", best_result, 'при количестве', best_est)   "
   ]
  },
  {
   "cell_type": "code",
   "execution_count": 20,
   "metadata": {},
   "outputs": [
    {
     "data": {
      "text/html": [
       "<style>#sk-container-id-2 {color: black;background-color: white;}#sk-container-id-2 pre{padding: 0;}#sk-container-id-2 div.sk-toggleable {background-color: white;}#sk-container-id-2 label.sk-toggleable__label {cursor: pointer;display: block;width: 100%;margin-bottom: 0;padding: 0.3em;box-sizing: border-box;text-align: center;}#sk-container-id-2 label.sk-toggleable__label-arrow:before {content: \"▸\";float: left;margin-right: 0.25em;color: #696969;}#sk-container-id-2 label.sk-toggleable__label-arrow:hover:before {color: black;}#sk-container-id-2 div.sk-estimator:hover label.sk-toggleable__label-arrow:before {color: black;}#sk-container-id-2 div.sk-toggleable__content {max-height: 0;max-width: 0;overflow: hidden;text-align: left;background-color: #f0f8ff;}#sk-container-id-2 div.sk-toggleable__content pre {margin: 0.2em;color: black;border-radius: 0.25em;background-color: #f0f8ff;}#sk-container-id-2 input.sk-toggleable__control:checked~div.sk-toggleable__content {max-height: 200px;max-width: 100%;overflow: auto;}#sk-container-id-2 input.sk-toggleable__control:checked~label.sk-toggleable__label-arrow:before {content: \"▾\";}#sk-container-id-2 div.sk-estimator input.sk-toggleable__control:checked~label.sk-toggleable__label {background-color: #d4ebff;}#sk-container-id-2 div.sk-label input.sk-toggleable__control:checked~label.sk-toggleable__label {background-color: #d4ebff;}#sk-container-id-2 input.sk-hidden--visually {border: 0;clip: rect(1px 1px 1px 1px);clip: rect(1px, 1px, 1px, 1px);height: 1px;margin: -1px;overflow: hidden;padding: 0;position: absolute;width: 1px;}#sk-container-id-2 div.sk-estimator {font-family: monospace;background-color: #f0f8ff;border: 1px dotted black;border-radius: 0.25em;box-sizing: border-box;margin-bottom: 0.5em;}#sk-container-id-2 div.sk-estimator:hover {background-color: #d4ebff;}#sk-container-id-2 div.sk-parallel-item::after {content: \"\";width: 100%;border-bottom: 1px solid gray;flex-grow: 1;}#sk-container-id-2 div.sk-label:hover label.sk-toggleable__label {background-color: #d4ebff;}#sk-container-id-2 div.sk-serial::before {content: \"\";position: absolute;border-left: 1px solid gray;box-sizing: border-box;top: 0;bottom: 0;left: 50%;z-index: 0;}#sk-container-id-2 div.sk-serial {display: flex;flex-direction: column;align-items: center;background-color: white;padding-right: 0.2em;padding-left: 0.2em;position: relative;}#sk-container-id-2 div.sk-item {position: relative;z-index: 1;}#sk-container-id-2 div.sk-parallel {display: flex;align-items: stretch;justify-content: center;background-color: white;position: relative;}#sk-container-id-2 div.sk-item::before, #sk-container-id-2 div.sk-parallel-item::before {content: \"\";position: absolute;border-left: 1px solid gray;box-sizing: border-box;top: 0;bottom: 0;left: 50%;z-index: -1;}#sk-container-id-2 div.sk-parallel-item {display: flex;flex-direction: column;z-index: 1;position: relative;background-color: white;}#sk-container-id-2 div.sk-parallel-item:first-child::after {align-self: flex-end;width: 50%;}#sk-container-id-2 div.sk-parallel-item:last-child::after {align-self: flex-start;width: 50%;}#sk-container-id-2 div.sk-parallel-item:only-child::after {width: 0;}#sk-container-id-2 div.sk-dashed-wrapped {border: 1px dashed gray;margin: 0 0.4em 0.5em 0.4em;box-sizing: border-box;padding-bottom: 0.4em;background-color: white;}#sk-container-id-2 div.sk-label label {font-family: monospace;font-weight: bold;display: inline-block;line-height: 1.2em;}#sk-container-id-2 div.sk-label-container {text-align: center;}#sk-container-id-2 div.sk-container {/* jupyter's `normalize.less` sets `[hidden] { display: none; }` but bootstrap.min.css set `[hidden] { display: none !important; }` so we also need the `!important` here to be able to override the default hidden behavior on the sphinx rendered scikit-learn.org. See: https://github.com/scikit-learn/scikit-learn/issues/21755 */display: inline-block !important;position: relative;}#sk-container-id-2 div.sk-text-repr-fallback {display: none;}</style><div id=\"sk-container-id-2\" class=\"sk-top-container\"><div class=\"sk-text-repr-fallback\"><pre>LogisticRegression(max_iter=10, random_state=12345, solver=&#x27;liblinear&#x27;)</pre><b>In a Jupyter environment, please rerun this cell to show the HTML representation or trust the notebook. <br />On GitHub, the HTML representation is unable to render, please try loading this page with nbviewer.org.</b></div><div class=\"sk-container\" hidden><div class=\"sk-item\"><div class=\"sk-estimator sk-toggleable\"><input class=\"sk-toggleable__control sk-hidden--visually\" id=\"sk-estimator-id-2\" type=\"checkbox\" checked><label for=\"sk-estimator-id-2\" class=\"sk-toggleable__label sk-toggleable__label-arrow\">LogisticRegression</label><div class=\"sk-toggleable__content\"><pre>LogisticRegression(max_iter=10, random_state=12345, solver=&#x27;liblinear&#x27;)</pre></div></div></div></div></div>"
      ],
      "text/plain": [
       "LogisticRegression(max_iter=10, random_state=12345, solver='liblinear')"
      ]
     },
     "execution_count": 20,
     "metadata": {},
     "output_type": "execute_result"
    }
   ],
   "source": [
    "model_log = LogisticRegression(random_state=12345,solver='liblinear',max_iter=10)\n",
    "model_log.fit(X_train, Y_train)"
   ]
  },
  {
   "cell_type": "code",
   "execution_count": 21,
   "metadata": {},
   "outputs": [
    {
     "data": {
      "text/plain": [
       "{'max_depth': 8, 'n_estimators': 30}"
      ]
     },
     "execution_count": 21,
     "metadata": {},
     "output_type": "execute_result"
    }
   ],
   "source": [
    "forest = RandomForestClassifier(random_state=12345)\n",
    "\n",
    "parametrs = { 'n_estimators': range (10, 51, 10),\n",
    "              'max_depth': range (2,10, 2) }\n",
    "grid = GridSearchCV(forest, parametrs, scoring = 'f1')\n",
    "grid.fit(X_train, Y_train)\n",
    "\n",
    "grid.best_params_"
   ]
  },
  {
   "cell_type": "code",
   "execution_count": 22,
   "metadata": {},
   "outputs": [
    {
     "data": {
      "text/html": [
       "<style>#sk-container-id-3 {color: black;background-color: white;}#sk-container-id-3 pre{padding: 0;}#sk-container-id-3 div.sk-toggleable {background-color: white;}#sk-container-id-3 label.sk-toggleable__label {cursor: pointer;display: block;width: 100%;margin-bottom: 0;padding: 0.3em;box-sizing: border-box;text-align: center;}#sk-container-id-3 label.sk-toggleable__label-arrow:before {content: \"▸\";float: left;margin-right: 0.25em;color: #696969;}#sk-container-id-3 label.sk-toggleable__label-arrow:hover:before {color: black;}#sk-container-id-3 div.sk-estimator:hover label.sk-toggleable__label-arrow:before {color: black;}#sk-container-id-3 div.sk-toggleable__content {max-height: 0;max-width: 0;overflow: hidden;text-align: left;background-color: #f0f8ff;}#sk-container-id-3 div.sk-toggleable__content pre {margin: 0.2em;color: black;border-radius: 0.25em;background-color: #f0f8ff;}#sk-container-id-3 input.sk-toggleable__control:checked~div.sk-toggleable__content {max-height: 200px;max-width: 100%;overflow: auto;}#sk-container-id-3 input.sk-toggleable__control:checked~label.sk-toggleable__label-arrow:before {content: \"▾\";}#sk-container-id-3 div.sk-estimator input.sk-toggleable__control:checked~label.sk-toggleable__label {background-color: #d4ebff;}#sk-container-id-3 div.sk-label input.sk-toggleable__control:checked~label.sk-toggleable__label {background-color: #d4ebff;}#sk-container-id-3 input.sk-hidden--visually {border: 0;clip: rect(1px 1px 1px 1px);clip: rect(1px, 1px, 1px, 1px);height: 1px;margin: -1px;overflow: hidden;padding: 0;position: absolute;width: 1px;}#sk-container-id-3 div.sk-estimator {font-family: monospace;background-color: #f0f8ff;border: 1px dotted black;border-radius: 0.25em;box-sizing: border-box;margin-bottom: 0.5em;}#sk-container-id-3 div.sk-estimator:hover {background-color: #d4ebff;}#sk-container-id-3 div.sk-parallel-item::after {content: \"\";width: 100%;border-bottom: 1px solid gray;flex-grow: 1;}#sk-container-id-3 div.sk-label:hover label.sk-toggleable__label {background-color: #d4ebff;}#sk-container-id-3 div.sk-serial::before {content: \"\";position: absolute;border-left: 1px solid gray;box-sizing: border-box;top: 0;bottom: 0;left: 50%;z-index: 0;}#sk-container-id-3 div.sk-serial {display: flex;flex-direction: column;align-items: center;background-color: white;padding-right: 0.2em;padding-left: 0.2em;position: relative;}#sk-container-id-3 div.sk-item {position: relative;z-index: 1;}#sk-container-id-3 div.sk-parallel {display: flex;align-items: stretch;justify-content: center;background-color: white;position: relative;}#sk-container-id-3 div.sk-item::before, #sk-container-id-3 div.sk-parallel-item::before {content: \"\";position: absolute;border-left: 1px solid gray;box-sizing: border-box;top: 0;bottom: 0;left: 50%;z-index: -1;}#sk-container-id-3 div.sk-parallel-item {display: flex;flex-direction: column;z-index: 1;position: relative;background-color: white;}#sk-container-id-3 div.sk-parallel-item:first-child::after {align-self: flex-end;width: 50%;}#sk-container-id-3 div.sk-parallel-item:last-child::after {align-self: flex-start;width: 50%;}#sk-container-id-3 div.sk-parallel-item:only-child::after {width: 0;}#sk-container-id-3 div.sk-dashed-wrapped {border: 1px dashed gray;margin: 0 0.4em 0.5em 0.4em;box-sizing: border-box;padding-bottom: 0.4em;background-color: white;}#sk-container-id-3 div.sk-label label {font-family: monospace;font-weight: bold;display: inline-block;line-height: 1.2em;}#sk-container-id-3 div.sk-label-container {text-align: center;}#sk-container-id-3 div.sk-container {/* jupyter's `normalize.less` sets `[hidden] { display: none; }` but bootstrap.min.css set `[hidden] { display: none !important; }` so we also need the `!important` here to be able to override the default hidden behavior on the sphinx rendered scikit-learn.org. See: https://github.com/scikit-learn/scikit-learn/issues/21755 */display: inline-block !important;position: relative;}#sk-container-id-3 div.sk-text-repr-fallback {display: none;}</style><div id=\"sk-container-id-3\" class=\"sk-top-container\"><div class=\"sk-text-repr-fallback\"><pre>RandomForestClassifier(max_depth=8, n_estimators=20, random_state=12345)</pre><b>In a Jupyter environment, please rerun this cell to show the HTML representation or trust the notebook. <br />On GitHub, the HTML representation is unable to render, please try loading this page with nbviewer.org.</b></div><div class=\"sk-container\" hidden><div class=\"sk-item\"><div class=\"sk-estimator sk-toggleable\"><input class=\"sk-toggleable__control sk-hidden--visually\" id=\"sk-estimator-id-3\" type=\"checkbox\" checked><label for=\"sk-estimator-id-3\" class=\"sk-toggleable__label sk-toggleable__label-arrow\">RandomForestClassifier</label><div class=\"sk-toggleable__content\"><pre>RandomForestClassifier(max_depth=8, n_estimators=20, random_state=12345)</pre></div></div></div></div></div>"
      ],
      "text/plain": [
       "RandomForestClassifier(max_depth=8, n_estimators=20, random_state=12345)"
      ]
     },
     "execution_count": 22,
     "metadata": {},
     "output_type": "execute_result"
    }
   ],
   "source": [
    "model_forest = RandomForestClassifier(random_state=12345,n_estimators = 20,max_depth = 8)\n",
    "model_forest.fit(X_train, Y_train)"
   ]
  },
  {
   "cell_type": "code",
   "execution_count": 23,
   "metadata": {
    "scrolled": false
   },
   "outputs": [
    {
     "name": "stdout",
     "output_type": "stream",
     "text": [
      "0    0.7963\n",
      "1    0.2037\n",
      "Name: Exited, dtype: float64\n"
     ]
    },
    {
     "data": {
      "text/plain": [
       "<AxesSubplot:>"
      ]
     },
     "execution_count": 23,
     "metadata": {},
     "output_type": "execute_result"
    },
    {
     "data": {
      "image/png": "[encoded data removed]",
      "text/plain": [
       "<Figure size 432x288 with 1 Axes>"
      ]
     },
     "metadata": {
      "needs_background": "light"
     },
     "output_type": "display_data"
    }
   ],
   "source": [
    "#оценим частоту каждого класса целевого признака.\n",
    "\n",
    "class_frequency = data['Exited'].value_counts(normalize=True)\n",
    "\n",
    "print(class_frequency)\n",
    "\n",
    "class_frequency.plot(kind='bar')"
   ]
  },
  {
   "cell_type": "code",
   "execution_count": 24,
   "metadata": {},
   "outputs": [
    {
     "name": "stdout",
     "output_type": "stream",
     "text": [
      "Оценка параметров дерева решений\n",
      "0.41843971631205673\n",
      "0.6483516483516484\n",
      "0.5086206896551724\n",
      "Оценка параметров логистической регрессии\n",
      "0.1867612293144208\n",
      "0.5197368421052632\n",
      "0.27478260869565213\n",
      "Оценка параметров случайного леса\n",
      "0.3617021276595745\n",
      "0.765\n",
      "0.49117174959871585\n"
     ]
    }
   ],
   "source": [
    "predicted_valid = model_tree.predict(X_valid)\n",
    "\n",
    "print('Оценка параметров дерева решений')\n",
    "print(recall_score(Y_valid,predicted_valid))\n",
    "print(precision_score(Y_valid,predicted_valid))\n",
    "print(f1_score(Y_valid,predicted_valid))\n",
    "\n",
    "\n",
    "\n",
    "predicted_valid = model_log.predict(X_valid)\n",
    "\n",
    "print('Оценка параметров логистической регрессии')\n",
    "print(recall_score(Y_valid,predicted_valid))\n",
    "print(precision_score(Y_valid,predicted_valid))\n",
    "print(f1_score(Y_valid,predicted_valid))\n",
    "\n",
    "\n",
    "\n",
    "\n",
    "predicted_valid = model_forest.predict(X_valid)\n",
    "\n",
    "print('Оценка параметров случайного леса')\n",
    "print(recall_score(Y_valid,predicted_valid))\n",
    "print(precision_score(Y_valid,predicted_valid))\n",
    "print(f1_score(Y_valid,predicted_valid))"
   ]
  },
  {
   "cell_type": "markdown",
   "metadata": {},
   "source": [
    "Частота класса 0 = 80%, класса 1 = 20%.\n",
    "\n",
    "Наилучшая метрика f1 у дерева решений, при этом f1 ниже 59%.\n",
    "\n",
    "Приступим к исправлению дисбаланса."
   ]
  },
  {
   "cell_type": "markdown",
   "metadata": {},
   "source": [
    "## Борьба с дисбалансом"
   ]
  },
  {
   "cell_type": "markdown",
   "metadata": {},
   "source": [
    "Для решения проблемы с дисбалансом классов есть несколько методов. Воспользуемся каждым и определим F1 меру."
   ]
  },
  {
   "cell_type": "code",
   "execution_count": 25,
   "metadata": {},
   "outputs": [
    {
     "data": {
      "text/plain": [
       "{'max_depth': 6}"
      ]
     },
     "execution_count": 25,
     "metadata": {},
     "output_type": "execute_result"
    }
   ],
   "source": [
    "#воспользуемся взвешиванием классов и подберем наилучшие параметры.\n",
    "\n",
    "tree = DecisionTreeClassifier(random_state=12345,class_weight='balanced')\n",
    "\n",
    "parametrs = { 'max_depth': range (2,16, 2)}\n",
    "grid = GridSearchCV(tree, parametrs, scoring = 'f1')\n",
    "grid.fit(X_train, Y_train)\n",
    "\n",
    "grid.best_params_"
   ]
  },
  {
   "cell_type": "code",
   "execution_count": 26,
   "metadata": {},
   "outputs": [
    {
     "data": {
      "text/plain": [
       "{'max_depth': 8, 'n_estimators': 20}"
      ]
     },
     "execution_count": 26,
     "metadata": {},
     "output_type": "execute_result"
    }
   ],
   "source": [
    "forest = RandomForestClassifier(random_state=12345,class_weight='balanced')\n",
    "\n",
    "parametrs = { 'n_estimators': range (10, 51, 10),\n",
    "              'max_depth': range (2,10, 2) }\n",
    "grid = GridSearchCV(forest, parametrs, scoring = 'f1')\n",
    "grid.fit(X_train, Y_train)\n",
    "\n",
    "grid.best_params_"
   ]
  },
  {
   "cell_type": "code",
   "execution_count": 27,
   "metadata": {},
   "outputs": [
    {
     "data": {
      "text/plain": [
       "{'max_iter': 10}"
      ]
     },
     "execution_count": 27,
     "metadata": {},
     "output_type": "execute_result"
    }
   ],
   "source": [
    "logist_model = LogisticRegression(random_state=12345,solver='liblinear',class_weight='balanced')\n",
    "\n",
    "\n",
    "parametrs = { 'max_iter': range (10, 1000, 10)}\n",
    "grid = GridSearchCV(logist_model, parametrs, scoring = 'f1')\n",
    "grid.fit(X_train, Y_train)\n",
    "\n",
    "grid.best_params_\n"
   ]
  },
  {
   "cell_type": "code",
   "execution_count": 28,
   "metadata": {},
   "outputs": [
    {
     "name": "stdout",
     "output_type": "stream",
     "text": [
      "Оценка параметров дерева решений\n",
      "0.5643835616438356\n",
      "0.8194375111494879\n",
      "Оценка параметров логистической регрессии\n",
      "0.4797238999137188\n",
      "0.7417276421850147\n",
      "Оценка параметров случайного леса\n",
      "0.6052631578947368\n",
      "0.848522870878812\n"
     ]
    }
   ],
   "source": [
    "#оценим f1 меру\n",
    "\n",
    "model_tree = DecisionTreeClassifier(random_state=12345, max_depth = 6, class_weight='balanced')\n",
    "model_log = LogisticRegression(random_state=12345,solver='liblinear',class_weight='balanced', max_iter = 10)\n",
    "model_forest = RandomForestClassifier(random_state=12345,class_weight='balanced', max_depth= 8, n_estimators= 20)\n",
    "\n",
    "model_tree.fit(X_train, Y_train)\n",
    "model_log.fit(X_train, Y_train)\n",
    "model_forest.fit(X_train, Y_train)\n",
    "\n",
    "\n",
    "predicted_valid = model_tree.predict(X_valid)\n",
    "probabilities_valid = model_tree.predict_proba(X_valid)\n",
    "probabilities_one_valid = probabilities_valid[:, 1]\n",
    "\n",
    "print('Оценка параметров дерева решений')\n",
    "print(f1_score(Y_valid,predicted_valid))\n",
    "print(roc_auc_score(Y_valid,probabilities_one_valid))\n",
    "\n",
    "\n",
    "predicted_valid = model_log.predict(X_valid)\n",
    "probabilities_valid = model_log.predict_proba(X_valid)\n",
    "probabilities_one_valid = probabilities_valid[:, 1]\n",
    "\n",
    "print('Оценка параметров логистической регрессии')\n",
    "print(f1_score(Y_valid,predicted_valid))\n",
    "print(roc_auc_score(Y_valid,probabilities_one_valid))\n",
    "\n",
    "\n",
    "\n",
    "predicted_valid = model_forest.predict(X_valid)\n",
    "probabilities_valid = model_forest.predict_proba(X_valid)\n",
    "probabilities_one_valid = probabilities_valid[:, 1]\n",
    "\n",
    "print('Оценка параметров случайного леса')\n",
    "print(f1_score(Y_valid,predicted_valid))\n",
    "print(roc_auc_score(Y_valid,probabilities_one_valid))"
   ]
  },
  {
   "cell_type": "markdown",
   "metadata": {},
   "source": [
    "Метод взвешивания классов дает наилучшую F1 меру 60,5% по случайному лесу - по данной модели также наилучший auc_roc.\n",
    "\n",
    "Приступим к методу увеличения выборки."
   ]
  },
  {
   "cell_type": "code",
   "execution_count": 30,
   "metadata": {
    "scrolled": true
   },
   "outputs": [],
   "source": [
    "sm = SMOTE(random_state=12345, sampling_strategy = 'minority')"
   ]
  },
  {
   "cell_type": "code",
   "execution_count": 31,
   "metadata": {},
   "outputs": [],
   "source": [
    "X_upsampled, Y_upsampled = sm.fit_resample(X_train, Y_train)"
   ]
  },
  {
   "cell_type": "code",
   "execution_count": 32,
   "metadata": {},
   "outputs": [
    {
     "data": {
      "text/plain": [
       "{'max_depth': 14}"
      ]
     },
     "execution_count": 32,
     "metadata": {},
     "output_type": "execute_result"
    }
   ],
   "source": [
    "tree = DecisionTreeClassifier(random_state=12345)\n",
    "\n",
    "parametrs = { 'max_depth': range (2,16, 2)}\n",
    "grid = GridSearchCV(tree, parametrs, scoring = 'f1')\n",
    "grid.fit(X_upsampled, Y_upsampled)\n",
    "\n",
    "grid.best_params_"
   ]
  },
  {
   "cell_type": "code",
   "execution_count": 33,
   "metadata": {},
   "outputs": [
    {
     "data": {
      "text/plain": [
       "{'max_depth': 8, 'n_estimators': 30}"
      ]
     },
     "execution_count": 33,
     "metadata": {},
     "output_type": "execute_result"
    }
   ],
   "source": [
    "forest = RandomForestClassifier(random_state=12345)\n",
    "\n",
    "parametrs = { 'n_estimators': range (10, 51, 10),\n",
    "              'max_depth': range (2,10, 2) }\n",
    "grid = GridSearchCV(forest, parametrs, scoring = 'f1')\n",
    "grid.fit(X_upsampled, Y_upsampled)\n",
    "\n",
    "grid.best_params_"
   ]
  },
  {
   "cell_type": "code",
   "execution_count": 34,
   "metadata": {},
   "outputs": [
    {
     "data": {
      "text/plain": [
       "{'max_iter': 10}"
      ]
     },
     "execution_count": 34,
     "metadata": {},
     "output_type": "execute_result"
    }
   ],
   "source": [
    "logist_model = LogisticRegression(random_state=12345,solver='liblinear')\n",
    "\n",
    "\n",
    "parametrs = { 'max_iter': range (10, 1000, 10)}\n",
    "grid = GridSearchCV(logist_model, parametrs, scoring = 'f1')\n",
    "grid.fit(X_upsampled, Y_upsampled)\n",
    "\n",
    "grid.best_params_"
   ]
  },
  {
   "cell_type": "code",
   "execution_count": 35,
   "metadata": {},
   "outputs": [
    {
     "name": "stdout",
     "output_type": "stream",
     "text": [
      "Оценка параметров дерева решений\n",
      "0.4830188679245283\n",
      "0.6830659704888986\n",
      "Оценка параметров логистической регрессии\n",
      "0.27478260869565213\n",
      "0.7386664987684968\n",
      "Оценка параметров случайного леса\n",
      "0.49025974025974023\n",
      "0.8485850831470713\n"
     ]
    }
   ],
   "source": [
    "#оценим f1 меру\n",
    "\n",
    "model_tree = DecisionTreeClassifier(random_state=12345, max_depth = 14)\n",
    "model_log = LogisticRegression(random_state=12345,solver='liblinear', max_iter = 10)\n",
    "model_forest = RandomForestClassifier(random_state=12345, max_depth= 8, n_estimators= 30)\n",
    "\n",
    "model_tree.fit(X_train, Y_train)\n",
    "model_log.fit(X_train, Y_train)\n",
    "model_forest.fit(X_train, Y_train)\n",
    "\n",
    "\n",
    "predicted_valid = model_tree.predict(X_valid)\n",
    "probabilities_valid = model_tree.predict_proba(X_valid)\n",
    "probabilities_one_valid = probabilities_valid[:, 1]\n",
    "\n",
    "print('Оценка параметров дерева решений')\n",
    "print(f1_score(Y_valid,predicted_valid))\n",
    "print(roc_auc_score(Y_valid,probabilities_one_valid))\n",
    "\n",
    "\n",
    "predicted_valid = model_log.predict(X_valid)\n",
    "probabilities_valid = model_log.predict_proba(X_valid)\n",
    "probabilities_one_valid = probabilities_valid[:, 1]\n",
    "\n",
    "print('Оценка параметров логистической регрессии')\n",
    "print(f1_score(Y_valid,predicted_valid))\n",
    "print(roc_auc_score(Y_valid,probabilities_one_valid))\n",
    "\n",
    "\n",
    "\n",
    "predicted_valid = model_forest.predict(X_valid)\n",
    "probabilities_valid = model_forest.predict_proba(X_valid)\n",
    "probabilities_one_valid = probabilities_valid[:, 1]\n",
    "\n",
    "print('Оценка параметров случайного леса')\n",
    "print(f1_score(Y_valid,predicted_valid))\n",
    "print(roc_auc_score(Y_valid,probabilities_one_valid))"
   ]
  },
  {
   "cell_type": "markdown",
   "metadata": {},
   "source": [
    "Метод увеличения выборки дает F1 меру меньше 50% по всем использованным моделям. Метрика auc_roc больше всего отличается от метрики случайной модели - в модели случайного леса, в этой же модели наилучшая f1 мера при оверсэмплинге.\n",
    "\n",
    "Далее попробуем метод уменьшения выборки"
   ]
  },
  {
   "cell_type": "code",
   "execution_count": 37,
   "metadata": {},
   "outputs": [],
   "source": [
    "tl = TomekLinks(sampling_strategy='majority')"
   ]
  },
  {
   "cell_type": "code",
   "execution_count": 38,
   "metadata": {
    "scrolled": true
   },
   "outputs": [],
   "source": [
    "X_downsampled, Y_downsampled = tl.fit_resample(X_train, Y_train)"
   ]
  },
  {
   "cell_type": "code",
   "execution_count": 39,
   "metadata": {},
   "outputs": [
    {
     "data": {
      "text/plain": [
       "{'max_depth': 8}"
      ]
     },
     "execution_count": 39,
     "metadata": {},
     "output_type": "execute_result"
    }
   ],
   "source": [
    "tree = DecisionTreeClassifier(random_state=12345)\n",
    "\n",
    "parametrs = { 'max_depth': range (2,16, 2)}\n",
    "grid = GridSearchCV(tree, parametrs, scoring = 'f1')\n",
    "grid.fit(X_downsampled, Y_downsampled)\n",
    "\n",
    "grid.best_params_"
   ]
  },
  {
   "cell_type": "code",
   "execution_count": 40,
   "metadata": {},
   "outputs": [
    {
     "data": {
      "text/plain": [
       "{'max_depth': 8, 'n_estimators': 40}"
      ]
     },
     "execution_count": 40,
     "metadata": {},
     "output_type": "execute_result"
    }
   ],
   "source": [
    "forest = RandomForestClassifier(random_state=12345)\n",
    "\n",
    "parametrs = { 'n_estimators': range (10, 51, 10),\n",
    "              'max_depth': range (2,10, 2) }\n",
    "grid = GridSearchCV(forest, parametrs, scoring = 'f1')\n",
    "grid.fit(X_downsampled, Y_downsampled)\n",
    "\n",
    "grid.best_params_"
   ]
  },
  {
   "cell_type": "code",
   "execution_count": 41,
   "metadata": {},
   "outputs": [
    {
     "data": {
      "text/plain": [
       "{'max_iter': 10}"
      ]
     },
     "execution_count": 41,
     "metadata": {},
     "output_type": "execute_result"
    }
   ],
   "source": [
    "logist_model = LogisticRegression(random_state=12345,solver='liblinear')\n",
    "\n",
    "\n",
    "parametrs = { 'max_iter': range (10, 1000, 10)}\n",
    "grid = GridSearchCV(logist_model, parametrs, scoring = 'f1')\n",
    "grid.fit(X_downsampled, Y_downsampled)\n",
    "\n",
    "grid.best_params_"
   ]
  },
  {
   "cell_type": "code",
   "execution_count": 42,
   "metadata": {},
   "outputs": [
    {
     "name": "stdout",
     "output_type": "stream",
     "text": [
      "Оценка параметров дерева решений\n",
      "0.4992343032159265\n",
      "0.8044436049535956\n",
      "Оценка параметров логистической регрессии\n",
      "0.27478260869565213\n",
      "0.7386664987684968\n",
      "Оценка параметров случайного леса\n",
      "0.4761904761904762\n",
      "0.8530201432830987\n"
     ]
    }
   ],
   "source": [
    "#оценим f1 меру\n",
    "\n",
    "model_tree = DecisionTreeClassifier(random_state=12345, max_depth = 8)\n",
    "model_log = LogisticRegression(random_state=12345,solver='liblinear', max_iter = 10)\n",
    "model_forest = RandomForestClassifier(random_state=12345, max_depth= 8, n_estimators= 40)\n",
    "\n",
    "model_tree.fit(X_train, Y_train)\n",
    "model_log.fit(X_train, Y_train)\n",
    "model_forest.fit(X_train, Y_train)\n",
    "\n",
    "\n",
    "predicted_valid = model_tree.predict(X_valid)\n",
    "probabilities_valid = model_tree.predict_proba(X_valid)\n",
    "probabilities_one_valid = probabilities_valid[:, 1]\n",
    "\n",
    "print('Оценка параметров дерева решений')\n",
    "print(f1_score(Y_valid,predicted_valid))\n",
    "print(roc_auc_score(Y_valid,probabilities_one_valid))\n",
    "\n",
    "\n",
    "predicted_valid = model_log.predict(X_valid)\n",
    "probabilities_valid = model_log.predict_proba(X_valid)\n",
    "probabilities_one_valid = probabilities_valid[:, 1]\n",
    "\n",
    "print('Оценка параметров логистической регрессии')\n",
    "print(f1_score(Y_valid,predicted_valid))\n",
    "print(roc_auc_score(Y_valid,probabilities_one_valid))\n",
    "\n",
    "\n",
    "\n",
    "predicted_valid = model_forest.predict(X_valid)\n",
    "probabilities_valid = model_forest.predict_proba(X_valid)\n",
    "probabilities_one_valid = probabilities_valid[:, 1]\n",
    "\n",
    "print('Оценка параметров случайного леса')\n",
    "print(f1_score(Y_valid,predicted_valid))\n",
    "print(roc_auc_score(Y_valid,probabilities_one_valid))"
   ]
  },
  {
   "cell_type": "markdown",
   "metadata": {},
   "source": [
    "Андерсэмплинг выборки все также дает F1 меру меньше 50% по всем использованным моделям. Метрика auc_roc больше всего отличается от метрики случайной модели - в модели случайного леса, в этой же модели наилучшая f1 мера при андерсэмплинге."
   ]
  },
  {
   "cell_type": "code",
   "execution_count": 43,
   "metadata": {},
   "outputs": [
    {
     "data": {
      "text/html": [
       "<style>#sk-container-id-4 {color: black;background-color: white;}#sk-container-id-4 pre{padding: 0;}#sk-container-id-4 div.sk-toggleable {background-color: white;}#sk-container-id-4 label.sk-toggleable__label {cursor: pointer;display: block;width: 100%;margin-bottom: 0;padding: 0.3em;box-sizing: border-box;text-align: center;}#sk-container-id-4 label.sk-toggleable__label-arrow:before {content: \"▸\";float: left;margin-right: 0.25em;color: #696969;}#sk-container-id-4 label.sk-toggleable__label-arrow:hover:before {color: black;}#sk-container-id-4 div.sk-estimator:hover label.sk-toggleable__label-arrow:before {color: black;}#sk-container-id-4 div.sk-toggleable__content {max-height: 0;max-width: 0;overflow: hidden;text-align: left;background-color: #f0f8ff;}#sk-container-id-4 div.sk-toggleable__content pre {margin: 0.2em;color: black;border-radius: 0.25em;background-color: #f0f8ff;}#sk-container-id-4 input.sk-toggleable__control:checked~div.sk-toggleable__content {max-height: 200px;max-width: 100%;overflow: auto;}#sk-container-id-4 input.sk-toggleable__control:checked~label.sk-toggleable__label-arrow:before {content: \"▾\";}#sk-container-id-4 div.sk-estimator input.sk-toggleable__control:checked~label.sk-toggleable__label {background-color: #d4ebff;}#sk-container-id-4 div.sk-label input.sk-toggleable__control:checked~label.sk-toggleable__label {background-color: #d4ebff;}#sk-container-id-4 input.sk-hidden--visually {border: 0;clip: rect(1px 1px 1px 1px);clip: rect(1px, 1px, 1px, 1px);height: 1px;margin: -1px;overflow: hidden;padding: 0;position: absolute;width: 1px;}#sk-container-id-4 div.sk-estimator {font-family: monospace;background-color: #f0f8ff;border: 1px dotted black;border-radius: 0.25em;box-sizing: border-box;margin-bottom: 0.5em;}#sk-container-id-4 div.sk-estimator:hover {background-color: #d4ebff;}#sk-container-id-4 div.sk-parallel-item::after {content: \"\";width: 100%;border-bottom: 1px solid gray;flex-grow: 1;}#sk-container-id-4 div.sk-label:hover label.sk-toggleable__label {background-color: #d4ebff;}#sk-container-id-4 div.sk-serial::before {content: \"\";position: absolute;border-left: 1px solid gray;box-sizing: border-box;top: 0;bottom: 0;left: 50%;z-index: 0;}#sk-container-id-4 div.sk-serial {display: flex;flex-direction: column;align-items: center;background-color: white;padding-right: 0.2em;padding-left: 0.2em;position: relative;}#sk-container-id-4 div.sk-item {position: relative;z-index: 1;}#sk-container-id-4 div.sk-parallel {display: flex;align-items: stretch;justify-content: center;background-color: white;position: relative;}#sk-container-id-4 div.sk-item::before, #sk-container-id-4 div.sk-parallel-item::before {content: \"\";position: absolute;border-left: 1px solid gray;box-sizing: border-box;top: 0;bottom: 0;left: 50%;z-index: -1;}#sk-container-id-4 div.sk-parallel-item {display: flex;flex-direction: column;z-index: 1;position: relative;background-color: white;}#sk-container-id-4 div.sk-parallel-item:first-child::after {align-self: flex-end;width: 50%;}#sk-container-id-4 div.sk-parallel-item:last-child::after {align-self: flex-start;width: 50%;}#sk-container-id-4 div.sk-parallel-item:only-child::after {width: 0;}#sk-container-id-4 div.sk-dashed-wrapped {border: 1px dashed gray;margin: 0 0.4em 0.5em 0.4em;box-sizing: border-box;padding-bottom: 0.4em;background-color: white;}#sk-container-id-4 div.sk-label label {font-family: monospace;font-weight: bold;display: inline-block;line-height: 1.2em;}#sk-container-id-4 div.sk-label-container {text-align: center;}#sk-container-id-4 div.sk-container {/* jupyter's `normalize.less` sets `[hidden] { display: none; }` but bootstrap.min.css set `[hidden] { display: none !important; }` so we also need the `!important` here to be able to override the default hidden behavior on the sphinx rendered scikit-learn.org. See: https://github.com/scikit-learn/scikit-learn/issues/21755 */display: inline-block !important;position: relative;}#sk-container-id-4 div.sk-text-repr-fallback {display: none;}</style><div id=\"sk-container-id-4\" class=\"sk-top-container\"><div class=\"sk-text-repr-fallback\"><pre>RandomForestClassifier(class_weight=&#x27;balanced&#x27;, max_depth=8, n_estimators=20,\n",
       "                       random_state=12345)</pre><b>In a Jupyter environment, please rerun this cell to show the HTML representation or trust the notebook. <br />On GitHub, the HTML representation is unable to render, please try loading this page with nbviewer.org.</b></div><div class=\"sk-container\" hidden><div class=\"sk-item\"><div class=\"sk-estimator sk-toggleable\"><input class=\"sk-toggleable__control sk-hidden--visually\" id=\"sk-estimator-id-4\" type=\"checkbox\" checked><label for=\"sk-estimator-id-4\" class=\"sk-toggleable__label sk-toggleable__label-arrow\">RandomForestClassifier</label><div class=\"sk-toggleable__content\"><pre>RandomForestClassifier(class_weight=&#x27;balanced&#x27;, max_depth=8, n_estimators=20,\n",
       "                       random_state=12345)</pre></div></div></div></div></div>"
      ],
      "text/plain": [
       "RandomForestClassifier(class_weight='balanced', max_depth=8, n_estimators=20,\n",
       "                       random_state=12345)"
      ]
     },
     "execution_count": 43,
     "metadata": {},
     "output_type": "execute_result"
    }
   ],
   "source": [
    "model_forest = RandomForestClassifier(random_state=12345,class_weight='balanced', max_depth= 8, n_estimators= 20)\n",
    "model_forest.fit(X_train, Y_train)"
   ]
  },
  {
   "cell_type": "markdown",
   "metadata": {},
   "source": [
    "Таким образом, наилучшая модель - случайный лес при методе - взвешивание классов. F1 мера - 60,5%, auc-roc = 84%."
   ]
  },
  {
   "cell_type": "markdown",
   "metadata": {},
   "source": [
    "## Тестирование модели"
   ]
  },
  {
   "cell_type": "code",
   "execution_count": 44,
   "metadata": {},
   "outputs": [
    {
     "name": "stdout",
     "output_type": "stream",
     "text": [
      "F1 на тестовой выборке: 0.6143790849673202\n",
      "Auc-Roc на тестовой выборке: 0.7684204477404292\n"
     ]
    }
   ],
   "source": [
    "predictions_test=model_forest.predict(X_test)\n",
    "result=f1_score(Y_test,predictions_test)\n",
    "auc_roc = roc_auc_score(Y_test,predictions_test)\n",
    "probabilities_valid = model_forest.predict_proba(X_test)\n",
    "probabilities_one_valid = probabilities_valid[:, 1]\n",
    "\n",
    "\n",
    "print('F1 на тестовой выборке:',result)\n",
    "\n",
    "print('Auc-Roc на тестовой выборке:',auc_roc)"
   ]
  },
  {
   "cell_type": "markdown",
   "metadata": {},
   "source": [
    "Таким образом, наилучшая модель по F1 мере по тестовой выборке - случайный лес при взвешивании классов. Но при этом auc-roc наибольший в модели случайного леса при андерсэмплинге с помощью TomekLinks."
   ]
  },
  {
   "cell_type": "markdown",
   "metadata": {},
   "source": [
    "Итоговый вывод:\n",
    "    \n",
    "    1. данные были обработаны на пустые значения, были закодированы категориальные признаки и масштабированы количественные признаки\n",
    "    2. первоначальные модели были оценены на адекватность с учетом подобранных параметров\n",
    "    3. при выявлении несбалансированности классов были использованы три метода: взвешивание, уменьшение и увеличение выборок\n",
    "    4. итоговые модели были протестированы на тестовой выборке и выбраны наилучшая по F1 мере и auc_roc - случайный лес при получении сбалансированности классов при помощи взвешивания."
   ]
  },
  {
   "cell_type": "markdown",
   "metadata": {},
   "source": [
    "## Чек-лист готовности проекта"
   ]
  },
  {
   "cell_type": "markdown",
   "metadata": {},
   "source": [
    "Поставьте 'x' в выполненных пунктах. Далее нажмите Shift+Enter."
   ]
  },
  {
   "cell_type": "markdown",
   "metadata": {},
   "source": [
    "- [x]  Jupyter Notebook открыт\n",
    "- [x]  Весь код выполняется без ошибок\n",
    "- [x]  Ячейки с кодом расположены в порядке исполнения\n",
    "- [x]  Выполнен шаг 1: данные подготовлены\n",
    "- [x]  Выполнен шаг 2: задача исследована\n",
    "    - [x]  Исследован баланс классов\n",
    "    - [x]  Изучены модели без учёта дисбаланса\n",
    "    - [x]  Написаны выводы по результатам исследования\n",
    "- [x]  Выполнен шаг 3: учтён дисбаланс\n",
    "    - [x]  Применено несколько способов борьбы с дисбалансом\n",
    "    - [x]  Написаны выводы по результатам исследования\n",
    "- [x]  Выполнен шаг 4: проведено тестирование\n",
    "- [x]  Удалось достичь *F1*-меры не менее 0.59\n",
    "- [x]  Исследована метрика *AUC-ROC*"
   ]
  }
 ],
 "metadata": {
  "ExecuteTimeLog": [
   {
    "duration": 44,
    "start_time": "2022-11-29T22:06:58.646Z"
   },
   {
    "duration": 408,
    "start_time": "2022-11-29T22:07:02.573Z"
   },
   {
    "duration": 188,
    "start_time": "2022-11-29T22:07:02.983Z"
   },
   {
    "duration": 56,
    "start_time": "2022-11-29T22:07:18.562Z"
   },
   {
    "duration": 1185,
    "start_time": "2022-11-29T22:17:53.535Z"
   },
   {
    "duration": 6,
    "start_time": "2022-11-29T22:18:06.772Z"
   },
   {
    "duration": 5,
    "start_time": "2022-11-29T22:19:00.296Z"
   },
   {
    "duration": 5,
    "start_time": "2022-11-29T22:19:04.164Z"
   },
   {
    "duration": 5,
    "start_time": "2022-11-29T22:19:19.342Z"
   },
   {
    "duration": 23,
    "start_time": "2022-11-29T22:19:31.596Z"
   },
   {
    "duration": 20,
    "start_time": "2022-11-29T22:21:46.864Z"
   },
   {
    "duration": 6,
    "start_time": "2022-11-29T22:23:20.084Z"
   },
   {
    "duration": 9,
    "start_time": "2022-11-29T22:23:36.175Z"
   },
   {
    "duration": 20,
    "start_time": "2022-11-29T22:33:08.217Z"
   },
   {
    "duration": 12,
    "start_time": "2022-11-29T22:35:32.124Z"
   },
   {
    "duration": 87,
    "start_time": "2022-11-29T22:35:58.824Z"
   },
   {
    "duration": 883,
    "start_time": "2022-11-29T22:38:29.623Z"
   },
   {
    "duration": 1056,
    "start_time": "2022-11-29T22:38:49.636Z"
   },
   {
    "duration": 95,
    "start_time": "2022-11-29T22:38:50.694Z"
   },
   {
    "duration": 22,
    "start_time": "2022-11-29T22:38:50.790Z"
   },
   {
    "duration": 11,
    "start_time": "2022-11-29T22:38:50.814Z"
   },
   {
    "duration": 49749,
    "start_time": "2022-11-29T22:38:50.827Z"
   },
   {
    "duration": 5615,
    "start_time": "2022-11-29T22:40:56.424Z"
   },
   {
    "duration": 6,
    "start_time": "2022-11-29T22:46:34.180Z"
   },
   {
    "duration": 6,
    "start_time": "2022-11-29T22:47:21.048Z"
   },
   {
    "duration": 4,
    "start_time": "2022-11-29T22:49:38.116Z"
   },
   {
    "duration": 9,
    "start_time": "2022-11-29T22:56:36.255Z"
   },
   {
    "duration": 1580,
    "start_time": "2022-11-30T11:25:11.578Z"
   },
   {
    "duration": 48,
    "start_time": "2022-11-30T11:30:07.620Z"
   },
   {
    "duration": 1378,
    "start_time": "2022-11-30T11:30:18.628Z"
   },
   {
    "duration": 136,
    "start_time": "2022-11-30T11:30:20.009Z"
   },
   {
    "duration": 21,
    "start_time": "2022-11-30T11:30:20.146Z"
   },
   {
    "duration": 12,
    "start_time": "2022-11-30T11:30:20.170Z"
   },
   {
    "duration": 5430,
    "start_time": "2022-11-30T11:30:20.183Z"
   },
   {
    "duration": 5,
    "start_time": "2022-11-30T11:30:25.615Z"
   },
   {
    "duration": 59,
    "start_time": "2022-11-30T11:30:25.621Z"
   },
   {
    "duration": 4,
    "start_time": "2022-11-30T11:32:13.916Z"
   },
   {
    "duration": 12,
    "start_time": "2022-11-30T11:32:27.450Z"
   },
   {
    "duration": 9,
    "start_time": "2022-11-30T11:33:01.170Z"
   },
   {
    "duration": 110,
    "start_time": "2022-11-30T11:33:16.777Z"
   },
   {
    "duration": 15,
    "start_time": "2022-11-30T11:34:13.538Z"
   },
   {
    "duration": 15,
    "start_time": "2022-11-30T11:35:26.972Z"
   },
   {
    "duration": 16,
    "start_time": "2022-11-30T11:35:43.947Z"
   },
   {
    "duration": 1430,
    "start_time": "2022-11-30T11:35:48.866Z"
   },
   {
    "duration": 96,
    "start_time": "2022-11-30T11:35:50.298Z"
   },
   {
    "duration": 22,
    "start_time": "2022-11-30T11:35:50.395Z"
   },
   {
    "duration": 24,
    "start_time": "2022-11-30T11:35:50.418Z"
   },
   {
    "duration": 5493,
    "start_time": "2022-11-30T11:35:50.444Z"
   },
   {
    "duration": 4,
    "start_time": "2022-11-30T11:35:55.939Z"
   },
   {
    "duration": 132,
    "start_time": "2022-11-30T11:35:55.945Z"
   },
   {
    "duration": 16,
    "start_time": "2022-11-30T11:38:11.148Z"
   },
   {
    "duration": 10,
    "start_time": "2022-11-30T11:42:16.269Z"
   },
   {
    "duration": 16,
    "start_time": "2022-11-30T11:42:31.241Z"
   },
   {
    "duration": 16,
    "start_time": "2022-11-30T11:44:38.431Z"
   },
   {
    "duration": 9,
    "start_time": "2022-11-30T11:47:07.856Z"
   },
   {
    "duration": 18,
    "start_time": "2022-11-30T11:47:38.399Z"
   },
   {
    "duration": 1324,
    "start_time": "2022-11-30T11:47:54.534Z"
   },
   {
    "duration": 98,
    "start_time": "2022-11-30T11:47:55.861Z"
   },
   {
    "duration": 22,
    "start_time": "2022-11-30T11:47:55.961Z"
   },
   {
    "duration": 13,
    "start_time": "2022-11-30T11:47:55.985Z"
   },
   {
    "duration": 5758,
    "start_time": "2022-11-30T11:47:55.999Z"
   },
   {
    "duration": 4,
    "start_time": "2022-11-30T11:48:01.759Z"
   },
   {
    "duration": 129,
    "start_time": "2022-11-30T11:48:01.765Z"
   },
   {
    "duration": 67,
    "start_time": "2022-11-30T11:49:26.611Z"
   },
   {
    "duration": 0,
    "start_time": "2022-11-30T11:49:26.681Z"
   },
   {
    "duration": 0,
    "start_time": "2022-11-30T11:49:26.684Z"
   },
   {
    "duration": 0,
    "start_time": "2022-11-30T11:49:26.685Z"
   },
   {
    "duration": 0,
    "start_time": "2022-11-30T11:49:26.687Z"
   },
   {
    "duration": 0,
    "start_time": "2022-11-30T11:49:26.688Z"
   },
   {
    "duration": 0,
    "start_time": "2022-11-30T11:49:26.690Z"
   },
   {
    "duration": 6518,
    "start_time": "2022-11-30T11:50:40.153Z"
   },
   {
    "duration": 2605,
    "start_time": "2022-11-30T11:51:43.540Z"
   },
   {
    "duration": 1190,
    "start_time": "2022-11-30T11:51:46.147Z"
   },
   {
    "duration": 96,
    "start_time": "2022-11-30T11:51:47.341Z"
   },
   {
    "duration": 22,
    "start_time": "2022-11-30T11:51:47.439Z"
   },
   {
    "duration": 12,
    "start_time": "2022-11-30T11:51:47.462Z"
   },
   {
    "duration": 5785,
    "start_time": "2022-11-30T11:51:47.476Z"
   },
   {
    "duration": 5,
    "start_time": "2022-11-30T11:51:53.263Z"
   },
   {
    "duration": 113,
    "start_time": "2022-11-30T11:51:53.269Z"
   },
   {
    "duration": 11,
    "start_time": "2022-11-30T11:52:03.217Z"
   },
   {
    "duration": 13,
    "start_time": "2022-11-30T11:53:47.233Z"
   },
   {
    "duration": 26,
    "start_time": "2022-11-30T11:54:07.658Z"
   },
   {
    "duration": 12,
    "start_time": "2022-11-30T13:56:50.824Z"
   },
   {
    "duration": 49,
    "start_time": "2022-11-30T14:04:44.516Z"
   },
   {
    "duration": 9,
    "start_time": "2022-11-30T14:06:43.660Z"
   },
   {
    "duration": 8,
    "start_time": "2022-11-30T14:07:04.916Z"
   },
   {
    "duration": 3,
    "start_time": "2022-11-30T14:07:26.869Z"
   },
   {
    "duration": 2645,
    "start_time": "2022-11-30T14:07:32.720Z"
   },
   {
    "duration": 1188,
    "start_time": "2022-11-30T14:07:35.367Z"
   },
   {
    "duration": 115,
    "start_time": "2022-11-30T14:07:36.557Z"
   },
   {
    "duration": 24,
    "start_time": "2022-11-30T14:07:36.674Z"
   },
   {
    "duration": 37,
    "start_time": "2022-11-30T14:07:36.700Z"
   },
   {
    "duration": 5422,
    "start_time": "2022-11-30T14:07:36.739Z"
   },
   {
    "duration": 5,
    "start_time": "2022-11-30T14:07:42.163Z"
   },
   {
    "duration": 40,
    "start_time": "2022-11-30T14:07:42.169Z"
   },
   {
    "duration": 10,
    "start_time": "2022-11-30T14:07:42.211Z"
   },
   {
    "duration": 9,
    "start_time": "2022-11-30T14:07:42.235Z"
   },
   {
    "duration": 130,
    "start_time": "2022-11-30T14:08:44.005Z"
   },
   {
    "duration": 15,
    "start_time": "2022-11-30T14:08:57.926Z"
   },
   {
    "duration": 10,
    "start_time": "2022-11-30T14:09:13.933Z"
   },
   {
    "duration": 23,
    "start_time": "2022-11-30T14:09:16.097Z"
   },
   {
    "duration": 14,
    "start_time": "2022-11-30T14:11:14.261Z"
   },
   {
    "duration": 2864,
    "start_time": "2022-11-30T14:11:26.198Z"
   },
   {
    "duration": 1273,
    "start_time": "2022-11-30T14:11:29.065Z"
   },
   {
    "duration": 101,
    "start_time": "2022-11-30T14:11:30.340Z"
   },
   {
    "duration": 29,
    "start_time": "2022-11-30T14:11:30.443Z"
   },
   {
    "duration": 54,
    "start_time": "2022-11-30T14:11:30.474Z"
   },
   {
    "duration": 5760,
    "start_time": "2022-11-30T14:11:30.533Z"
   },
   {
    "duration": 4,
    "start_time": "2022-11-30T14:11:36.295Z"
   },
   {
    "duration": 31,
    "start_time": "2022-11-30T14:11:36.301Z"
   },
   {
    "duration": 13,
    "start_time": "2022-11-30T14:11:36.333Z"
   },
   {
    "duration": 14,
    "start_time": "2022-11-30T14:11:36.349Z"
   },
   {
    "duration": 114,
    "start_time": "2022-11-30T14:11:36.365Z"
   },
   {
    "duration": 24,
    "start_time": "2022-11-30T14:12:14.558Z"
   },
   {
    "duration": 15,
    "start_time": "2022-11-30T14:27:54.605Z"
   },
   {
    "duration": 22,
    "start_time": "2022-11-30T14:28:45.205Z"
   },
   {
    "duration": 10,
    "start_time": "2022-11-30T14:30:05.030Z"
   },
   {
    "duration": 17,
    "start_time": "2022-11-30T14:32:22.727Z"
   },
   {
    "duration": 79,
    "start_time": "2022-11-30T14:33:02.288Z"
   },
   {
    "duration": 34,
    "start_time": "2022-11-30T14:33:25.631Z"
   },
   {
    "duration": 11,
    "start_time": "2022-11-30T14:34:46.096Z"
   },
   {
    "duration": 6,
    "start_time": "2022-11-30T14:35:12.720Z"
   },
   {
    "duration": 16,
    "start_time": "2022-11-30T14:35:20.792Z"
   },
   {
    "duration": 21,
    "start_time": "2022-11-30T14:35:28.753Z"
   },
   {
    "duration": 6807,
    "start_time": "2022-12-04T11:51:04.447Z"
   },
   {
    "duration": 1388,
    "start_time": "2022-12-04T11:51:11.256Z"
   },
   {
    "duration": 148,
    "start_time": "2022-12-04T11:51:12.646Z"
   },
   {
    "duration": 155,
    "start_time": "2022-12-04T11:51:12.797Z"
   },
   {
    "duration": 0,
    "start_time": "2022-12-04T11:51:12.954Z"
   },
   {
    "duration": 0,
    "start_time": "2022-12-04T11:51:12.956Z"
   },
   {
    "duration": 0,
    "start_time": "2022-12-04T11:51:12.957Z"
   },
   {
    "duration": 0,
    "start_time": "2022-12-04T11:51:12.959Z"
   },
   {
    "duration": 0,
    "start_time": "2022-12-04T11:51:12.960Z"
   },
   {
    "duration": 0,
    "start_time": "2022-12-04T11:51:12.962Z"
   },
   {
    "duration": 0,
    "start_time": "2022-12-04T11:51:12.976Z"
   },
   {
    "duration": 0,
    "start_time": "2022-12-04T11:51:12.979Z"
   },
   {
    "duration": 0,
    "start_time": "2022-12-04T11:51:12.980Z"
   },
   {
    "duration": 0,
    "start_time": "2022-12-04T11:51:12.982Z"
   },
   {
    "duration": 0,
    "start_time": "2022-12-04T11:51:12.984Z"
   },
   {
    "duration": 0,
    "start_time": "2022-12-04T11:51:12.985Z"
   },
   {
    "duration": 0,
    "start_time": "2022-12-04T11:51:12.986Z"
   },
   {
    "duration": 20,
    "start_time": "2022-12-04T11:52:01.177Z"
   },
   {
    "duration": 3,
    "start_time": "2022-12-04T11:52:08.824Z"
   },
   {
    "duration": 84,
    "start_time": "2022-12-04T11:52:10.745Z"
   },
   {
    "duration": 19,
    "start_time": "2022-12-04T11:52:16.721Z"
   },
   {
    "duration": 13,
    "start_time": "2022-12-04T11:52:30.700Z"
   },
   {
    "duration": 10,
    "start_time": "2022-12-04T11:52:38.732Z"
   },
   {
    "duration": 12,
    "start_time": "2022-12-04T11:52:52.468Z"
   },
   {
    "duration": 5372,
    "start_time": "2022-12-04T11:52:56.695Z"
   },
   {
    "duration": 4,
    "start_time": "2022-12-04T11:53:02.402Z"
   },
   {
    "duration": 14,
    "start_time": "2022-12-04T11:53:05.467Z"
   },
   {
    "duration": 12,
    "start_time": "2022-12-04T11:53:22.572Z"
   },
   {
    "duration": 2,
    "start_time": "2022-12-04T11:53:30.957Z"
   },
   {
    "duration": 178,
    "start_time": "2022-12-04T11:53:32.781Z"
   },
   {
    "duration": 19,
    "start_time": "2022-12-04T11:53:39.108Z"
   },
   {
    "duration": 12,
    "start_time": "2022-12-04T11:53:47.194Z"
   },
   {
    "duration": 5,
    "start_time": "2022-12-04T11:53:54.223Z"
   },
   {
    "duration": 11,
    "start_time": "2022-12-04T11:55:19.430Z"
   },
   {
    "duration": 23,
    "start_time": "2022-12-04T11:55:30.398Z"
   },
   {
    "duration": 11,
    "start_time": "2022-12-04T11:55:37.053Z"
   },
   {
    "duration": 11,
    "start_time": "2022-12-04T11:59:37.230Z"
   },
   {
    "duration": 15,
    "start_time": "2022-12-04T12:01:59.930Z"
   },
   {
    "duration": 23,
    "start_time": "2022-12-04T12:02:18.329Z"
   },
   {
    "duration": 10,
    "start_time": "2022-12-04T12:02:44.250Z"
   },
   {
    "duration": 5,
    "start_time": "2022-12-04T12:05:12.378Z"
   },
   {
    "duration": 9,
    "start_time": "2022-12-04T12:09:24.364Z"
   },
   {
    "duration": 1005,
    "start_time": "2022-12-04T12:10:01.309Z"
   },
   {
    "duration": 8,
    "start_time": "2022-12-04T12:10:29.551Z"
   },
   {
    "duration": 31,
    "start_time": "2022-12-04T12:12:49.387Z"
   },
   {
    "duration": 19,
    "start_time": "2022-12-04T12:13:24.054Z"
   },
   {
    "duration": 40,
    "start_time": "2022-12-04T12:13:28.232Z"
   },
   {
    "duration": 45,
    "start_time": "2022-12-04T12:19:18.578Z"
   },
   {
    "duration": 19,
    "start_time": "2022-12-04T12:19:37.413Z"
   },
   {
    "duration": 3,
    "start_time": "2022-12-04T12:20:22.030Z"
   },
   {
    "duration": 377,
    "start_time": "2022-12-04T12:20:27.391Z"
   },
   {
    "duration": 106,
    "start_time": "2022-12-04T12:24:41.972Z"
   },
   {
    "duration": 19,
    "start_time": "2022-12-04T12:26:21.139Z"
   },
   {
    "duration": 104,
    "start_time": "2022-12-04T12:27:08.694Z"
   },
   {
    "duration": 101,
    "start_time": "2022-12-04T12:27:24.463Z"
   },
   {
    "duration": 110,
    "start_time": "2022-12-04T12:27:36.671Z"
   },
   {
    "duration": 88,
    "start_time": "2022-12-04T12:27:39.021Z"
   },
   {
    "duration": 5,
    "start_time": "2022-12-04T12:29:07.532Z"
   },
   {
    "duration": 31,
    "start_time": "2022-12-04T12:29:42.449Z"
   },
   {
    "duration": 119,
    "start_time": "2022-12-04T12:29:45.191Z"
   },
   {
    "duration": 98,
    "start_time": "2022-12-04T12:29:47.743Z"
   },
   {
    "duration": 4,
    "start_time": "2022-12-04T12:30:17.212Z"
   },
   {
    "duration": 12,
    "start_time": "2022-12-04T12:33:06.332Z"
   },
   {
    "duration": 4,
    "start_time": "2022-12-04T12:33:22.245Z"
   },
   {
    "duration": 4,
    "start_time": "2022-12-04T12:33:40.682Z"
   },
   {
    "duration": 7,
    "start_time": "2022-12-04T12:33:43.215Z"
   },
   {
    "duration": 3,
    "start_time": "2022-12-04T12:37:30.842Z"
   },
   {
    "duration": 11,
    "start_time": "2022-12-04T12:37:54.281Z"
   },
   {
    "duration": 4,
    "start_time": "2022-12-04T12:59:50.999Z"
   },
   {
    "duration": 2455,
    "start_time": "2022-12-04T13:08:17.549Z"
   },
   {
    "duration": 1137,
    "start_time": "2022-12-04T13:08:20.006Z"
   },
   {
    "duration": 89,
    "start_time": "2022-12-04T13:08:21.145Z"
   },
   {
    "duration": 19,
    "start_time": "2022-12-04T13:08:21.235Z"
   },
   {
    "duration": 22,
    "start_time": "2022-12-04T13:08:21.255Z"
   },
   {
    "duration": 5071,
    "start_time": "2022-12-04T13:08:21.278Z"
   },
   {
    "duration": 5,
    "start_time": "2022-12-04T13:08:26.351Z"
   },
   {
    "duration": 130,
    "start_time": "2022-12-04T13:08:26.358Z"
   },
   {
    "duration": 11,
    "start_time": "2022-12-04T13:08:26.490Z"
   },
   {
    "duration": 11,
    "start_time": "2022-12-04T13:08:26.503Z"
   },
   {
    "duration": 23,
    "start_time": "2022-12-04T13:08:26.515Z"
   },
   {
    "duration": 106,
    "start_time": "2022-12-04T13:08:26.539Z"
   },
   {
    "duration": 0,
    "start_time": "2022-12-04T13:08:26.646Z"
   },
   {
    "duration": 0,
    "start_time": "2022-12-04T13:08:26.647Z"
   },
   {
    "duration": 0,
    "start_time": "2022-12-04T13:08:26.648Z"
   },
   {
    "duration": 0,
    "start_time": "2022-12-04T13:08:26.649Z"
   },
   {
    "duration": 0,
    "start_time": "2022-12-04T13:08:26.650Z"
   },
   {
    "duration": 0,
    "start_time": "2022-12-04T13:08:26.651Z"
   },
   {
    "duration": 0,
    "start_time": "2022-12-04T13:08:26.652Z"
   },
   {
    "duration": 0,
    "start_time": "2022-12-04T13:08:26.653Z"
   },
   {
    "duration": 20,
    "start_time": "2022-12-04T13:09:33.348Z"
   },
   {
    "duration": 38,
    "start_time": "2022-12-04T13:09:37.276Z"
   },
   {
    "duration": 38,
    "start_time": "2022-12-04T13:09:44.741Z"
   },
   {
    "duration": 109,
    "start_time": "2022-12-04T13:09:49.094Z"
   },
   {
    "duration": 102,
    "start_time": "2022-12-04T13:09:51.110Z"
   },
   {
    "duration": 5,
    "start_time": "2022-12-04T13:09:53.403Z"
   },
   {
    "duration": 10,
    "start_time": "2022-12-04T13:10:14.757Z"
   },
   {
    "duration": 118,
    "start_time": "2022-12-04T13:10:45.270Z"
   },
   {
    "duration": 9,
    "start_time": "2022-12-04T13:19:57.804Z"
   },
   {
    "duration": 9,
    "start_time": "2022-12-04T13:20:27.897Z"
   },
   {
    "duration": 637,
    "start_time": "2022-12-04T13:20:33.427Z"
   },
   {
    "duration": 20,
    "start_time": "2022-12-04T13:20:45.413Z"
   },
   {
    "duration": 2605,
    "start_time": "2022-12-04T13:25:50.261Z"
   },
   {
    "duration": 1233,
    "start_time": "2022-12-04T13:25:52.869Z"
   },
   {
    "duration": 95,
    "start_time": "2022-12-04T13:25:54.103Z"
   },
   {
    "duration": 22,
    "start_time": "2022-12-04T13:25:54.201Z"
   },
   {
    "duration": 12,
    "start_time": "2022-12-04T13:25:54.225Z"
   },
   {
    "duration": 5426,
    "start_time": "2022-12-04T13:25:54.239Z"
   },
   {
    "duration": 4,
    "start_time": "2022-12-04T13:25:59.666Z"
   },
   {
    "duration": 131,
    "start_time": "2022-12-04T13:25:59.672Z"
   },
   {
    "duration": 10,
    "start_time": "2022-12-04T13:25:59.805Z"
   },
   {
    "duration": 8,
    "start_time": "2022-12-04T13:25:59.817Z"
   },
   {
    "duration": 13,
    "start_time": "2022-12-04T13:25:59.826Z"
   },
   {
    "duration": 36,
    "start_time": "2022-12-04T13:25:59.840Z"
   },
   {
    "duration": 33,
    "start_time": "2022-12-04T13:25:59.877Z"
   },
   {
    "duration": 599,
    "start_time": "2022-12-04T13:25:59.911Z"
   },
   {
    "duration": 18,
    "start_time": "2022-12-04T13:26:00.512Z"
   },
   {
    "duration": 423514,
    "start_time": "2022-12-04T13:26:00.531Z"
   },
   {
    "duration": 0,
    "start_time": "2022-12-04T13:33:04.047Z"
   },
   {
    "duration": 0,
    "start_time": "2022-12-04T13:33:04.048Z"
   },
   {
    "duration": 0,
    "start_time": "2022-12-04T13:33:04.049Z"
   },
   {
    "duration": 0,
    "start_time": "2022-12-04T13:33:04.050Z"
   },
   {
    "duration": 0,
    "start_time": "2022-12-04T13:33:04.051Z"
   },
   {
    "duration": 0,
    "start_time": "2022-12-04T13:33:04.052Z"
   },
   {
    "duration": 11062,
    "start_time": "2022-12-04T13:35:39.222Z"
   },
   {
    "duration": 6833,
    "start_time": "2022-12-04T13:37:00.444Z"
   },
   {
    "duration": 13,
    "start_time": "2022-12-04T13:38:14.431Z"
   },
   {
    "duration": 11,
    "start_time": "2022-12-04T13:38:50.124Z"
   },
   {
    "duration": 14,
    "start_time": "2022-12-04T13:39:15.255Z"
   },
   {
    "duration": 12,
    "start_time": "2022-12-04T13:41:48.691Z"
   },
   {
    "duration": 70,
    "start_time": "2022-12-04T13:42:01.920Z"
   },
   {
    "duration": 59,
    "start_time": "2022-12-04T13:42:08.342Z"
   },
   {
    "duration": 11,
    "start_time": "2022-12-04T13:45:00.457Z"
   },
   {
    "duration": 0,
    "start_time": "2022-12-04T13:47:04.594Z"
   },
   {
    "duration": 6627,
    "start_time": "2022-12-04T13:47:07.750Z"
   },
   {
    "duration": 9,
    "start_time": "2022-12-04T13:47:33.633Z"
   },
   {
    "duration": 16,
    "start_time": "2022-12-04T13:47:47.252Z"
   },
   {
    "duration": 347051,
    "start_time": "2022-12-04T13:47:56.512Z"
   },
   {
    "duration": 11520,
    "start_time": "2022-12-04T13:53:50.271Z"
   },
   {
    "duration": 20,
    "start_time": "2022-12-04T13:54:24.874Z"
   },
   {
    "duration": 101,
    "start_time": "2022-12-04T13:54:39.654Z"
   },
   {
    "duration": 121,
    "start_time": "2022-12-04T13:54:44.748Z"
   },
   {
    "duration": 262,
    "start_time": "2022-12-04T13:54:49.875Z"
   },
   {
    "duration": 11,
    "start_time": "2022-12-04T13:55:00.677Z"
   },
   {
    "duration": 9742,
    "start_time": "2022-12-04T13:55:54.687Z"
   },
   {
    "duration": 92,
    "start_time": "2022-12-04T13:56:33.282Z"
   },
   {
    "duration": 113,
    "start_time": "2022-12-04T13:56:40.772Z"
   },
   {
    "duration": 6,
    "start_time": "2022-12-04T13:57:19.784Z"
   },
   {
    "duration": 210,
    "start_time": "2022-12-04T13:59:16.567Z"
   },
   {
    "duration": 44,
    "start_time": "2022-12-04T14:04:40.461Z"
   },
   {
    "duration": 21,
    "start_time": "2022-12-04T14:04:47.801Z"
   },
   {
    "duration": 197,
    "start_time": "2022-12-04T14:07:13.180Z"
   },
   {
    "duration": 266,
    "start_time": "2022-12-04T14:07:39.295Z"
   },
   {
    "duration": 4,
    "start_time": "2022-12-04T14:18:58.076Z"
   },
   {
    "duration": 9,
    "start_time": "2022-12-04T14:20:16.950Z"
   },
   {
    "duration": 19,
    "start_time": "2022-12-04T14:22:13.118Z"
   },
   {
    "duration": 3,
    "start_time": "2022-12-04T14:22:41.944Z"
   },
   {
    "duration": 11,
    "start_time": "2022-12-04T14:22:46.775Z"
   },
   {
    "duration": 37,
    "start_time": "2022-12-04T14:25:18.677Z"
   },
   {
    "duration": 35,
    "start_time": "2022-12-04T14:25:49.537Z"
   },
   {
    "duration": 181,
    "start_time": "2022-12-04T14:25:54.333Z"
   },
   {
    "duration": 374,
    "start_time": "2022-12-04T14:30:17.099Z"
   },
   {
    "duration": 5112,
    "start_time": "2022-12-04T14:30:21.185Z"
   },
   {
    "duration": 674,
    "start_time": "2022-12-04T14:30:31.402Z"
   },
   {
    "duration": 2622,
    "start_time": "2022-12-04T14:30:37.674Z"
   },
   {
    "duration": 1171,
    "start_time": "2022-12-04T14:30:59.596Z"
   },
   {
    "duration": 316,
    "start_time": "2022-12-04T14:31:03.560Z"
   },
   {
    "duration": 334,
    "start_time": "2022-12-04T14:31:10.943Z"
   },
   {
    "duration": 200,
    "start_time": "2022-12-04T14:32:01.739Z"
   },
   {
    "duration": 9,
    "start_time": "2022-12-04T14:32:40.334Z"
   },
   {
    "duration": 197,
    "start_time": "2022-12-04T14:32:50.258Z"
   },
   {
    "duration": 191,
    "start_time": "2022-12-04T14:33:00.662Z"
   },
   {
    "duration": 153,
    "start_time": "2022-12-04T14:40:11.425Z"
   },
   {
    "duration": 4,
    "start_time": "2022-12-04T14:40:31.745Z"
   },
   {
    "duration": 75,
    "start_time": "2022-12-04T14:40:40.710Z"
   },
   {
    "duration": 168,
    "start_time": "2022-12-04T14:40:52.911Z"
   },
   {
    "duration": 41,
    "start_time": "2022-12-04T14:41:35.641Z"
   },
   {
    "duration": 187,
    "start_time": "2022-12-04T14:41:38.029Z"
   },
   {
    "duration": 4,
    "start_time": "2022-12-04T14:47:07.042Z"
   },
   {
    "duration": 10,
    "start_time": "2022-12-04T14:49:05.196Z"
   },
   {
    "duration": 20,
    "start_time": "2022-12-04T14:49:06.979Z"
   },
   {
    "duration": 9,
    "start_time": "2022-12-04T14:50:01.235Z"
   },
   {
    "duration": 67,
    "start_time": "2022-12-04T14:50:03.212Z"
   },
   {
    "duration": 9,
    "start_time": "2022-12-04T14:50:07.314Z"
   },
   {
    "duration": 20,
    "start_time": "2022-12-04T14:50:09.331Z"
   },
   {
    "duration": 39,
    "start_time": "2022-12-04T14:50:36.376Z"
   },
   {
    "duration": 21,
    "start_time": "2022-12-04T14:51:15.513Z"
   },
   {
    "duration": 62,
    "start_time": "2022-12-04T14:51:17.421Z"
   },
   {
    "duration": 77,
    "start_time": "2022-12-04T14:51:26.827Z"
   },
   {
    "duration": 67,
    "start_time": "2022-12-04T14:51:37.847Z"
   },
   {
    "duration": 506,
    "start_time": "2022-12-04T14:51:41.589Z"
   },
   {
    "duration": 21998,
    "start_time": "2022-12-04T14:51:45.411Z"
   },
   {
    "duration": 65,
    "start_time": "2022-12-04T14:52:09.267Z"
   },
   {
    "duration": 19,
    "start_time": "2022-12-04T14:52:53.213Z"
   },
   {
    "duration": 71,
    "start_time": "2022-12-04T14:52:55.713Z"
   },
   {
    "duration": 49,
    "start_time": "2022-12-04T14:52:57.927Z"
   },
   {
    "duration": 318,
    "start_time": "2022-12-04T14:53:00.585Z"
   },
   {
    "duration": 8,
    "start_time": "2022-12-04T14:53:06.029Z"
   },
   {
    "duration": 107,
    "start_time": "2022-12-04T14:53:08.370Z"
   },
   {
    "duration": 28,
    "start_time": "2022-12-04T14:53:11.357Z"
   },
   {
    "duration": 127,
    "start_time": "2022-12-04T14:53:13.708Z"
   },
   {
    "duration": 10,
    "start_time": "2022-12-04T14:53:23.247Z"
   },
   {
    "duration": 27,
    "start_time": "2022-12-04T14:53:26.166Z"
   },
   {
    "duration": 29,
    "start_time": "2022-12-04T14:53:28.315Z"
   },
   {
    "duration": 140,
    "start_time": "2022-12-04T14:53:30.225Z"
   },
   {
    "duration": 12,
    "start_time": "2022-12-04T14:53:34.977Z"
   },
   {
    "duration": 46,
    "start_time": "2022-12-04T14:53:36.934Z"
   },
   {
    "duration": 28,
    "start_time": "2022-12-04T14:53:40.874Z"
   },
   {
    "duration": 151,
    "start_time": "2022-12-04T14:53:42.633Z"
   },
   {
    "duration": 36,
    "start_time": "2022-12-04T14:54:20.642Z"
   },
   {
    "duration": 212,
    "start_time": "2022-12-04T14:54:20.680Z"
   },
   {
    "duration": 170,
    "start_time": "2022-12-04T14:54:20.894Z"
   },
   {
    "duration": 15,
    "start_time": "2022-12-04T14:54:27.380Z"
   },
   {
    "duration": 116,
    "start_time": "2022-12-04T14:54:35.563Z"
   },
   {
    "duration": 132,
    "start_time": "2022-12-04T14:54:35.681Z"
   },
   {
    "duration": 204,
    "start_time": "2022-12-04T14:54:35.815Z"
   },
   {
    "duration": 9,
    "start_time": "2022-12-04T14:54:46.166Z"
   },
   {
    "duration": 39,
    "start_time": "2022-12-04T14:54:50.940Z"
   },
   {
    "duration": 211,
    "start_time": "2022-12-04T14:54:50.981Z"
   },
   {
    "duration": 170,
    "start_time": "2022-12-04T14:54:51.194Z"
   },
   {
    "duration": 10,
    "start_time": "2022-12-04T14:55:01.815Z"
   },
   {
    "duration": 179,
    "start_time": "2022-12-04T14:55:04.780Z"
   },
   {
    "duration": 10,
    "start_time": "2022-12-04T14:55:09.231Z"
   },
   {
    "duration": 164,
    "start_time": "2022-12-04T14:55:12.639Z"
   },
   {
    "duration": 1384,
    "start_time": "2022-12-04T14:55:17.481Z"
   },
   {
    "duration": 189,
    "start_time": "2022-12-04T14:55:24.787Z"
   },
   {
    "duration": 148,
    "start_time": "2022-12-04T14:55:33.296Z"
   },
   {
    "duration": 151,
    "start_time": "2022-12-04T14:55:37.378Z"
   },
   {
    "duration": 169,
    "start_time": "2022-12-04T14:55:44.226Z"
   },
   {
    "duration": 147,
    "start_time": "2022-12-04T14:55:48.633Z"
   },
   {
    "duration": 2375,
    "start_time": "2022-12-04T15:37:17.950Z"
   },
   {
    "duration": 1112,
    "start_time": "2022-12-04T15:37:20.327Z"
   },
   {
    "duration": 92,
    "start_time": "2022-12-04T15:37:21.441Z"
   },
   {
    "duration": 20,
    "start_time": "2022-12-04T15:37:21.535Z"
   },
   {
    "duration": 28,
    "start_time": "2022-12-04T15:37:21.556Z"
   },
   {
    "duration": 5012,
    "start_time": "2022-12-04T15:37:21.585Z"
   },
   {
    "duration": 4,
    "start_time": "2022-12-04T15:37:26.599Z"
   },
   {
    "duration": 134,
    "start_time": "2022-12-04T15:37:26.605Z"
   },
   {
    "duration": 11,
    "start_time": "2022-12-04T15:37:26.740Z"
   },
   {
    "duration": 10,
    "start_time": "2022-12-04T15:37:26.753Z"
   },
   {
    "duration": 16,
    "start_time": "2022-12-04T15:37:26.764Z"
   },
   {
    "duration": 25,
    "start_time": "2022-12-04T15:37:26.781Z"
   },
   {
    "duration": 34,
    "start_time": "2022-12-04T15:37:26.808Z"
   },
   {
    "duration": 593,
    "start_time": "2022-12-04T15:37:26.843Z"
   },
   {
    "duration": 18,
    "start_time": "2022-12-04T15:37:27.438Z"
   },
   {
    "duration": 6422,
    "start_time": "2022-12-04T15:37:27.457Z"
   },
   {
    "duration": 196,
    "start_time": "2022-12-04T15:37:33.881Z"
   },
   {
    "duration": 9429,
    "start_time": "2022-12-04T15:37:34.079Z"
   },
   {
    "duration": 99,
    "start_time": "2022-12-04T15:37:43.509Z"
   },
   {
    "duration": 112,
    "start_time": "2022-12-04T15:37:43.610Z"
   },
   {
    "duration": 99,
    "start_time": "2022-12-04T15:37:43.723Z"
   },
   {
    "duration": 214,
    "start_time": "2022-12-04T15:37:43.824Z"
   },
   {
    "duration": 106,
    "start_time": "2022-12-04T15:37:44.040Z"
   },
   {
    "duration": 5,
    "start_time": "2022-12-04T15:37:44.147Z"
   },
   {
    "duration": 227,
    "start_time": "2022-12-04T15:37:44.153Z"
   },
   {
    "duration": 286,
    "start_time": "2022-12-04T15:37:44.381Z"
   },
   {
    "duration": 4,
    "start_time": "2022-12-04T15:37:44.677Z"
   },
   {
    "duration": 13,
    "start_time": "2022-12-04T15:37:44.685Z"
   },
   {
    "duration": 82,
    "start_time": "2022-12-04T15:37:44.700Z"
   },
   {
    "duration": 121,
    "start_time": "2022-12-04T15:37:44.784Z"
   },
   {
    "duration": 155,
    "start_time": "2022-12-04T15:37:44.906Z"
   },
   {
    "duration": 13,
    "start_time": "2022-12-04T15:37:45.063Z"
   },
   {
    "duration": 58,
    "start_time": "2022-12-04T15:37:45.078Z"
   },
   {
    "duration": 35,
    "start_time": "2022-12-04T15:37:45.138Z"
   },
   {
    "duration": 206,
    "start_time": "2022-12-04T15:37:45.176Z"
   },
   {
    "duration": 92,
    "start_time": "2022-12-04T15:37:45.384Z"
   },
   {
    "duration": 184,
    "start_time": "2022-12-04T15:48:34.584Z"
   },
   {
    "duration": 181,
    "start_time": "2022-12-04T15:50:07.315Z"
   },
   {
    "duration": 20,
    "start_time": "2022-12-04T15:53:17.083Z"
   },
   {
    "duration": 2624,
    "start_time": "2022-12-04T15:54:03.063Z"
   },
   {
    "duration": 1216,
    "start_time": "2022-12-04T15:54:05.690Z"
   },
   {
    "duration": 100,
    "start_time": "2022-12-04T15:54:06.907Z"
   },
   {
    "duration": 21,
    "start_time": "2022-12-04T15:54:07.009Z"
   },
   {
    "duration": 12,
    "start_time": "2022-12-04T15:54:07.031Z"
   },
   {
    "duration": 5045,
    "start_time": "2022-12-04T15:54:07.044Z"
   },
   {
    "duration": 4,
    "start_time": "2022-12-04T15:54:12.090Z"
   },
   {
    "duration": 119,
    "start_time": "2022-12-04T15:54:12.096Z"
   },
   {
    "duration": 9,
    "start_time": "2022-12-04T15:54:12.217Z"
   },
   {
    "duration": 12,
    "start_time": "2022-12-04T15:54:12.228Z"
   },
   {
    "duration": 8,
    "start_time": "2022-12-04T15:54:12.242Z"
   },
   {
    "duration": 33,
    "start_time": "2022-12-04T15:54:12.252Z"
   },
   {
    "duration": 31,
    "start_time": "2022-12-04T15:54:12.287Z"
   },
   {
    "duration": 568,
    "start_time": "2022-12-04T15:54:12.319Z"
   },
   {
    "duration": 18,
    "start_time": "2022-12-04T15:54:12.888Z"
   },
   {
    "duration": 6276,
    "start_time": "2022-12-04T15:54:12.908Z"
   },
   {
    "duration": 191,
    "start_time": "2022-12-04T15:54:19.186Z"
   },
   {
    "duration": 9487,
    "start_time": "2022-12-04T15:54:19.379Z"
   },
   {
    "duration": 96,
    "start_time": "2022-12-04T15:54:28.868Z"
   },
   {
    "duration": 130,
    "start_time": "2022-12-04T15:54:28.966Z"
   },
   {
    "duration": 100,
    "start_time": "2022-12-04T15:54:29.098Z"
   },
   {
    "duration": 239,
    "start_time": "2022-12-04T15:54:29.199Z"
   },
   {
    "duration": 116,
    "start_time": "2022-12-04T15:54:29.439Z"
   },
   {
    "duration": 5,
    "start_time": "2022-12-04T15:54:29.557Z"
   },
   {
    "duration": 215,
    "start_time": "2022-12-04T15:54:29.563Z"
   },
   {
    "duration": 309,
    "start_time": "2022-12-04T15:54:29.779Z"
   },
   {
    "duration": 4,
    "start_time": "2022-12-04T15:54:30.090Z"
   },
   {
    "duration": 39,
    "start_time": "2022-12-04T15:54:30.097Z"
   },
   {
    "duration": 48,
    "start_time": "2022-12-04T15:54:30.138Z"
   },
   {
    "duration": 206,
    "start_time": "2022-12-04T15:54:30.189Z"
   },
   {
    "duration": 179,
    "start_time": "2022-12-04T15:54:30.397Z"
   },
   {
    "duration": 4,
    "start_time": "2022-12-04T15:54:30.577Z"
   },
   {
    "duration": 47,
    "start_time": "2022-12-04T15:54:30.583Z"
   },
   {
    "duration": 54,
    "start_time": "2022-12-04T15:54:30.632Z"
   },
   {
    "duration": 209,
    "start_time": "2022-12-04T15:54:30.688Z"
   },
   {
    "duration": 72,
    "start_time": "2022-12-04T15:54:30.899Z"
   },
   {
    "duration": 163,
    "start_time": "2022-12-04T15:54:30.973Z"
   },
   {
    "duration": 27,
    "start_time": "2022-12-04T15:54:31.138Z"
   },
   {
    "duration": 276,
    "start_time": "2022-12-04T16:03:10.906Z"
   },
   {
    "duration": 98,
    "start_time": "2022-12-04T16:03:42.279Z"
   },
   {
    "duration": 4,
    "start_time": "2022-12-04T16:06:01.476Z"
   },
   {
    "duration": 10,
    "start_time": "2022-12-04T16:06:03.399Z"
   },
   {
    "duration": 87,
    "start_time": "2022-12-04T16:06:05.095Z"
   },
   {
    "duration": 32,
    "start_time": "2022-12-04T16:06:08.953Z"
   },
   {
    "duration": 147,
    "start_time": "2022-12-04T16:06:13.938Z"
   },
   {
    "duration": 4,
    "start_time": "2022-12-04T16:06:19.495Z"
   },
   {
    "duration": 111,
    "start_time": "2022-12-04T16:06:58.466Z"
   },
   {
    "duration": 17,
    "start_time": "2022-12-04T16:07:11.490Z"
   },
   {
    "duration": 65,
    "start_time": "2022-12-04T16:07:21.822Z"
   },
   {
    "duration": 75,
    "start_time": "2022-12-04T16:08:35.108Z"
   },
   {
    "duration": 24,
    "start_time": "2022-12-04T16:08:39.517Z"
   },
   {
    "duration": 22,
    "start_time": "2022-12-04T16:08:44.355Z"
   },
   {
    "duration": 17,
    "start_time": "2022-12-04T16:08:49.991Z"
   },
   {
    "duration": 20,
    "start_time": "2022-12-04T16:08:55.552Z"
   },
   {
    "duration": 142,
    "start_time": "2022-12-04T16:09:00.033Z"
   },
   {
    "duration": 17,
    "start_time": "2022-12-04T16:09:05.768Z"
   },
   {
    "duration": 20,
    "start_time": "2022-12-04T16:09:10.510Z"
   },
   {
    "duration": 212,
    "start_time": "2022-12-04T16:16:39.138Z"
   },
   {
    "duration": 305,
    "start_time": "2022-12-04T16:16:49.364Z"
   },
   {
    "duration": 211,
    "start_time": "2022-12-04T16:16:52.852Z"
   },
   {
    "duration": 233,
    "start_time": "2022-12-04T16:16:58.769Z"
   },
   {
    "duration": 20500,
    "start_time": "2022-12-04T16:17:07.107Z"
   },
   {
    "duration": 220,
    "start_time": "2022-12-04T16:17:46.536Z"
   },
   {
    "duration": 228,
    "start_time": "2022-12-04T16:17:50.391Z"
   },
   {
    "duration": 244,
    "start_time": "2022-12-04T16:17:55.786Z"
   },
   {
    "duration": 232,
    "start_time": "2022-12-04T16:17:59.675Z"
   },
   {
    "duration": 183,
    "start_time": "2022-12-04T16:18:04.352Z"
   },
   {
    "duration": 193,
    "start_time": "2022-12-04T16:18:08.528Z"
   },
   {
    "duration": 223,
    "start_time": "2022-12-04T16:18:12.684Z"
   },
   {
    "duration": 278,
    "start_time": "2022-12-04T16:18:16.265Z"
   },
   {
    "duration": 247,
    "start_time": "2022-12-04T16:18:19.981Z"
   },
   {
    "duration": 25,
    "start_time": "2022-12-04T16:18:29.830Z"
   },
   {
    "duration": 65,
    "start_time": "2022-12-04T16:19:43.658Z"
   },
   {
    "duration": 19,
    "start_time": "2022-12-04T16:20:07.208Z"
   },
   {
    "duration": 150,
    "start_time": "2022-12-04T16:20:28.491Z"
   },
   {
    "duration": 33,
    "start_time": "2022-12-04T16:22:30.659Z"
   },
   {
    "duration": 31,
    "start_time": "2022-12-04T16:22:33.846Z"
   },
   {
    "duration": 7,
    "start_time": "2022-12-04T16:22:41.925Z"
   },
   {
    "duration": 69,
    "start_time": "2022-12-04T16:22:43.910Z"
   },
   {
    "duration": 91,
    "start_time": "2022-12-04T16:22:46.888Z"
   },
   {
    "duration": 10,
    "start_time": "2022-12-04T16:22:54.596Z"
   },
   {
    "duration": 33,
    "start_time": "2022-12-04T16:22:56.852Z"
   },
   {
    "duration": 68,
    "start_time": "2022-12-04T16:22:58.714Z"
   },
   {
    "duration": 41,
    "start_time": "2022-12-04T16:23:08.338Z"
   },
   {
    "duration": 89,
    "start_time": "2022-12-04T16:23:11.091Z"
   },
   {
    "duration": 34,
    "start_time": "2022-12-04T16:23:15.766Z"
   },
   {
    "duration": 83,
    "start_time": "2022-12-04T16:23:17.595Z"
   },
   {
    "duration": 32,
    "start_time": "2022-12-04T16:23:39.054Z"
   },
   {
    "duration": 24,
    "start_time": "2022-12-04T16:23:41.355Z"
   },
   {
    "duration": 31,
    "start_time": "2022-12-04T16:23:49.466Z"
   },
   {
    "duration": 21,
    "start_time": "2022-12-04T16:25:56.197Z"
   },
   {
    "duration": 2727,
    "start_time": "2022-12-04T16:26:04.069Z"
   },
   {
    "duration": 1191,
    "start_time": "2022-12-04T16:26:06.799Z"
   },
   {
    "duration": 92,
    "start_time": "2022-12-04T16:26:07.991Z"
   },
   {
    "duration": 21,
    "start_time": "2022-12-04T16:26:08.085Z"
   },
   {
    "duration": 12,
    "start_time": "2022-12-04T16:26:08.107Z"
   },
   {
    "duration": 5133,
    "start_time": "2022-12-04T16:26:08.120Z"
   },
   {
    "duration": 4,
    "start_time": "2022-12-04T16:26:13.255Z"
   },
   {
    "duration": 131,
    "start_time": "2022-12-04T16:26:13.261Z"
   },
   {
    "duration": 12,
    "start_time": "2022-12-04T16:26:13.394Z"
   },
   {
    "duration": 10,
    "start_time": "2022-12-04T16:26:13.409Z"
   },
   {
    "duration": 23,
    "start_time": "2022-12-04T16:26:13.421Z"
   },
   {
    "duration": 51,
    "start_time": "2022-12-04T16:26:13.446Z"
   },
   {
    "duration": 50,
    "start_time": "2022-12-04T16:26:13.499Z"
   },
   {
    "duration": 615,
    "start_time": "2022-12-04T16:26:13.552Z"
   },
   {
    "duration": 29,
    "start_time": "2022-12-04T16:26:14.169Z"
   },
   {
    "duration": 5191,
    "start_time": "2022-12-04T16:26:14.199Z"
   },
   {
    "duration": 107,
    "start_time": "2022-12-04T16:26:19.481Z"
   },
   {
    "duration": 9557,
    "start_time": "2022-12-04T16:26:19.589Z"
   },
   {
    "duration": 99,
    "start_time": "2022-12-04T16:26:29.148Z"
   },
   {
    "duration": 109,
    "start_time": "2022-12-04T16:26:29.248Z"
   },
   {
    "duration": 117,
    "start_time": "2022-12-04T16:26:29.359Z"
   },
   {
    "duration": 264,
    "start_time": "2022-12-04T16:26:29.478Z"
   },
   {
    "duration": 107,
    "start_time": "2022-12-04T16:26:29.744Z"
   },
   {
    "duration": 5,
    "start_time": "2022-12-04T16:26:29.852Z"
   },
   {
    "duration": 234,
    "start_time": "2022-12-04T16:26:29.858Z"
   },
   {
    "duration": 404,
    "start_time": "2022-12-04T16:26:30.094Z"
   },
   {
    "duration": 4,
    "start_time": "2022-12-04T16:26:30.500Z"
   },
   {
    "duration": 62,
    "start_time": "2022-12-04T16:26:30.508Z"
   },
   {
    "duration": 207,
    "start_time": "2022-12-04T16:26:30.572Z"
   },
   {
    "duration": 99,
    "start_time": "2022-12-04T16:26:30.781Z"
   },
   {
    "duration": 212,
    "start_time": "2022-12-04T16:26:30.882Z"
   },
   {
    "duration": 154,
    "start_time": "2022-12-04T16:26:31.096Z"
   },
   {
    "duration": 4,
    "start_time": "2022-12-04T16:26:31.251Z"
   },
   {
    "duration": 23,
    "start_time": "2022-12-04T16:26:31.257Z"
   },
   {
    "duration": 195,
    "start_time": "2022-12-04T16:26:31.282Z"
   },
   {
    "duration": 23,
    "start_time": "2022-12-04T16:26:31.479Z"
   },
   {
    "duration": 147,
    "start_time": "2022-12-04T16:26:31.504Z"
   },
   {
    "duration": 128,
    "start_time": "2022-12-04T16:26:31.653Z"
   },
   {
    "duration": 98,
    "start_time": "2022-12-04T16:26:31.782Z"
   },
   {
    "duration": 110,
    "start_time": "2022-12-04T16:26:31.882Z"
   },
   {
    "duration": 101,
    "start_time": "2022-12-04T16:26:32.078Z"
   },
   {
    "duration": 111,
    "start_time": "2022-12-04T16:26:32.181Z"
   },
   {
    "duration": 188,
    "start_time": "2022-12-04T16:26:32.294Z"
   },
   {
    "duration": 293,
    "start_time": "2022-12-04T16:26:32.484Z"
   },
   {
    "duration": 114,
    "start_time": "2022-12-04T16:26:32.779Z"
   },
   {
    "duration": 92,
    "start_time": "2022-12-04T16:26:32.895Z"
   },
   {
    "duration": 2525,
    "start_time": "2022-12-04T16:35:52.034Z"
   },
   {
    "duration": 1253,
    "start_time": "2022-12-04T16:35:54.562Z"
   },
   {
    "duration": 88,
    "start_time": "2022-12-04T16:35:55.817Z"
   },
   {
    "duration": 19,
    "start_time": "2022-12-04T16:35:55.906Z"
   },
   {
    "duration": 11,
    "start_time": "2022-12-04T16:35:55.927Z"
   },
   {
    "duration": 5313,
    "start_time": "2022-12-04T16:35:55.940Z"
   },
   {
    "duration": 4,
    "start_time": "2022-12-04T16:36:01.256Z"
   },
   {
    "duration": 152,
    "start_time": "2022-12-04T16:36:01.262Z"
   },
   {
    "duration": 12,
    "start_time": "2022-12-04T16:36:01.415Z"
   },
   {
    "duration": 27,
    "start_time": "2022-12-04T16:36:01.430Z"
   },
   {
    "duration": 33,
    "start_time": "2022-12-04T16:36:01.458Z"
   },
   {
    "duration": 50,
    "start_time": "2022-12-04T16:36:01.493Z"
   },
   {
    "duration": 54,
    "start_time": "2022-12-04T16:36:01.547Z"
   },
   {
    "duration": 641,
    "start_time": "2022-12-04T16:36:01.603Z"
   },
   {
    "duration": 31,
    "start_time": "2022-12-04T16:36:02.246Z"
   },
   {
    "duration": 6907,
    "start_time": "2022-12-04T16:36:02.279Z"
   },
   {
    "duration": 191,
    "start_time": "2022-12-04T16:36:09.190Z"
   },
   {
    "duration": 9895,
    "start_time": "2022-12-04T16:36:09.383Z"
   },
   {
    "duration": 99,
    "start_time": "2022-12-04T16:36:19.280Z"
   },
   {
    "duration": 113,
    "start_time": "2022-12-04T16:36:19.381Z"
   },
   {
    "duration": 103,
    "start_time": "2022-12-04T16:36:19.495Z"
   },
   {
    "duration": 252,
    "start_time": "2022-12-04T16:36:19.600Z"
   },
   {
    "duration": 108,
    "start_time": "2022-12-04T16:36:19.854Z"
   },
   {
    "duration": 14,
    "start_time": "2022-12-04T16:36:19.964Z"
   },
   {
    "duration": 201,
    "start_time": "2022-12-04T16:36:19.979Z"
   },
   {
    "duration": 335,
    "start_time": "2022-12-04T16:36:20.182Z"
   },
   {
    "duration": 4,
    "start_time": "2022-12-04T16:36:20.519Z"
   },
   {
    "duration": 58,
    "start_time": "2022-12-04T16:36:20.526Z"
   },
   {
    "duration": 93,
    "start_time": "2022-12-04T16:36:20.586Z"
   },
   {
    "duration": 122,
    "start_time": "2022-12-04T16:36:20.681Z"
   },
   {
    "duration": 157,
    "start_time": "2022-12-04T16:36:20.805Z"
   },
   {
    "duration": 3,
    "start_time": "2022-12-04T16:36:20.964Z"
   },
   {
    "duration": 18,
    "start_time": "2022-12-04T16:36:20.975Z"
   },
   {
    "duration": 83,
    "start_time": "2022-12-04T16:36:20.995Z"
   },
   {
    "duration": 109,
    "start_time": "2022-12-04T16:36:21.081Z"
   },
   {
    "duration": 68,
    "start_time": "2022-12-04T16:36:21.192Z"
   },
   {
    "duration": 117,
    "start_time": "2022-12-04T16:36:21.261Z"
   },
   {
    "duration": 197,
    "start_time": "2022-12-04T16:36:21.380Z"
   },
   {
    "duration": 120,
    "start_time": "2022-12-04T16:36:21.581Z"
   },
   {
    "duration": 275,
    "start_time": "2022-12-04T16:36:21.709Z"
   },
   {
    "duration": 110,
    "start_time": "2022-12-04T16:36:21.994Z"
   },
   {
    "duration": 130,
    "start_time": "2022-12-04T16:36:22.176Z"
   },
   {
    "duration": 171,
    "start_time": "2022-12-04T16:36:22.310Z"
   },
   {
    "duration": 203,
    "start_time": "2022-12-04T16:36:22.483Z"
   },
   {
    "duration": 193,
    "start_time": "2022-12-04T16:36:22.688Z"
   },
   {
    "duration": 6907,
    "start_time": "2022-12-05T17:38:03.796Z"
   },
   {
    "duration": 1346,
    "start_time": "2022-12-05T17:38:10.705Z"
   },
   {
    "duration": 148,
    "start_time": "2022-12-05T17:38:12.052Z"
   },
   {
    "duration": 1018,
    "start_time": "2022-12-05T17:38:12.201Z"
   },
   {
    "duration": 215,
    "start_time": "2022-12-05T17:38:13.220Z"
   },
   {
    "duration": 5346,
    "start_time": "2022-12-05T17:38:13.437Z"
   },
   {
    "duration": 14,
    "start_time": "2022-12-05T17:38:18.785Z"
   },
   {
    "duration": 62,
    "start_time": "2022-12-05T17:38:18.801Z"
   },
   {
    "duration": 0,
    "start_time": "2022-12-05T17:38:18.865Z"
   },
   {
    "duration": 0,
    "start_time": "2022-12-05T17:38:18.866Z"
   },
   {
    "duration": 125,
    "start_time": "2022-12-05T17:39:49.091Z"
   },
   {
    "duration": 2342,
    "start_time": "2022-12-05T17:40:08.638Z"
   },
   {
    "duration": 5,
    "start_time": "2022-12-05T17:40:10.982Z"
   },
   {
    "duration": 208,
    "start_time": "2022-12-05T17:40:10.989Z"
   },
   {
    "duration": 20,
    "start_time": "2022-12-05T17:40:11.199Z"
   },
   {
    "duration": 12,
    "start_time": "2022-12-05T17:40:11.221Z"
   },
   {
    "duration": 5469,
    "start_time": "2022-12-05T17:40:11.234Z"
   },
   {
    "duration": 4,
    "start_time": "2022-12-05T17:40:16.705Z"
   },
   {
    "duration": 47,
    "start_time": "2022-12-05T17:40:16.711Z"
   },
   {
    "duration": 0,
    "start_time": "2022-12-05T17:40:16.759Z"
   },
   {
    "duration": 0,
    "start_time": "2022-12-05T17:40:16.761Z"
   },
   {
    "duration": 2540,
    "start_time": "2022-12-05T17:40:53.177Z"
   },
   {
    "duration": 5,
    "start_time": "2022-12-05T17:40:55.847Z"
   },
   {
    "duration": 93,
    "start_time": "2022-12-05T17:40:58.760Z"
   },
   {
    "duration": 20,
    "start_time": "2022-12-05T17:41:03.723Z"
   },
   {
    "duration": 12,
    "start_time": "2022-12-05T17:41:06.740Z"
   },
   {
    "duration": 5592,
    "start_time": "2022-12-05T17:41:10.029Z"
   },
   {
    "duration": 5,
    "start_time": "2022-12-05T17:41:18.575Z"
   },
   {
    "duration": 2,
    "start_time": "2022-12-05T17:41:34.167Z"
   },
   {
    "duration": 9,
    "start_time": "2022-12-05T17:41:37.773Z"
   },
   {
    "duration": 7,
    "start_time": "2022-12-05T17:41:41.104Z"
   },
   {
    "duration": 43,
    "start_time": "2022-12-05T17:47:04.555Z"
   },
   {
    "duration": 16,
    "start_time": "2022-12-05T18:00:13.509Z"
   },
   {
    "duration": 2303,
    "start_time": "2022-12-05T18:00:31.709Z"
   },
   {
    "duration": 4,
    "start_time": "2022-12-05T18:00:34.014Z"
   },
   {
    "duration": 99,
    "start_time": "2022-12-05T18:00:34.020Z"
   },
   {
    "duration": 22,
    "start_time": "2022-12-05T18:00:34.121Z"
   },
   {
    "duration": 13,
    "start_time": "2022-12-05T18:00:34.144Z"
   },
   {
    "duration": 5800,
    "start_time": "2022-12-05T18:00:34.159Z"
   },
   {
    "duration": 5,
    "start_time": "2022-12-05T18:00:39.961Z"
   },
   {
    "duration": 11,
    "start_time": "2022-12-05T18:00:39.967Z"
   },
   {
    "duration": 9,
    "start_time": "2022-12-05T18:00:39.998Z"
   },
   {
    "duration": 10,
    "start_time": "2022-12-05T18:00:40.009Z"
   },
   {
    "duration": 66,
    "start_time": "2022-12-05T18:00:40.020Z"
   },
   {
    "duration": 2391,
    "start_time": "2022-12-05T18:04:18.050Z"
   },
   {
    "duration": 5,
    "start_time": "2022-12-05T18:04:20.443Z"
   },
   {
    "duration": 99,
    "start_time": "2022-12-05T18:04:20.450Z"
   },
   {
    "duration": 20,
    "start_time": "2022-12-05T18:04:20.551Z"
   },
   {
    "duration": 32,
    "start_time": "2022-12-05T18:04:20.572Z"
   },
   {
    "duration": 6127,
    "start_time": "2022-12-05T18:04:20.606Z"
   },
   {
    "duration": 5,
    "start_time": "2022-12-05T18:04:26.734Z"
   },
   {
    "duration": 7,
    "start_time": "2022-12-05T18:04:26.740Z"
   },
   {
    "duration": 15,
    "start_time": "2022-12-05T18:04:26.748Z"
   },
   {
    "duration": 9,
    "start_time": "2022-12-05T18:04:26.765Z"
   },
   {
    "duration": 78,
    "start_time": "2022-12-05T18:04:26.775Z"
   },
   {
    "duration": 15,
    "start_time": "2022-12-05T18:05:01.592Z"
   },
   {
    "duration": 14,
    "start_time": "2022-12-05T18:10:16.755Z"
   },
   {
    "duration": 102,
    "start_time": "2022-12-05T18:10:41.413Z"
   },
   {
    "duration": 47,
    "start_time": "2022-12-05T18:15:35.089Z"
   },
   {
    "duration": 100,
    "start_time": "2022-12-05T18:15:58.145Z"
   },
   {
    "duration": 91,
    "start_time": "2022-12-05T18:16:26.943Z"
   },
   {
    "duration": 22,
    "start_time": "2022-12-05T18:16:30.523Z"
   },
   {
    "duration": 13,
    "start_time": "2022-12-05T18:16:34.203Z"
   },
   {
    "duration": 4,
    "start_time": "2022-12-05T18:16:36.755Z"
   },
   {
    "duration": 9,
    "start_time": "2022-12-05T18:16:39.988Z"
   },
   {
    "duration": 8,
    "start_time": "2022-12-05T18:16:45.128Z"
   },
   {
    "duration": 67,
    "start_time": "2022-12-05T18:16:50.018Z"
   },
   {
    "duration": 17,
    "start_time": "2022-12-05T18:16:53.195Z"
   },
   {
    "duration": 104,
    "start_time": "2022-12-05T18:16:57.949Z"
   },
   {
    "duration": 13,
    "start_time": "2022-12-05T18:17:47.737Z"
   },
   {
    "duration": 13,
    "start_time": "2022-12-05T18:17:53.760Z"
   },
   {
    "duration": 91,
    "start_time": "2022-12-05T18:18:50.787Z"
   },
   {
    "duration": 22,
    "start_time": "2022-12-05T18:18:57.247Z"
   },
   {
    "duration": 3,
    "start_time": "2022-12-05T18:19:16.799Z"
   },
   {
    "duration": 84,
    "start_time": "2022-12-05T18:19:18.795Z"
   },
   {
    "duration": 20,
    "start_time": "2022-12-05T18:19:26.894Z"
   },
   {
    "duration": 4,
    "start_time": "2022-12-05T18:19:34.410Z"
   },
   {
    "duration": 10,
    "start_time": "2022-12-05T18:19:42.538Z"
   },
   {
    "duration": 8,
    "start_time": "2022-12-05T18:19:48.021Z"
   },
   {
    "duration": 52,
    "start_time": "2022-12-05T18:19:51.857Z"
   },
   {
    "duration": 2375,
    "start_time": "2022-12-05T18:22:41.865Z"
   },
   {
    "duration": 5,
    "start_time": "2022-12-05T18:22:47.861Z"
   },
   {
    "duration": 96,
    "start_time": "2022-12-05T18:22:51.297Z"
   },
   {
    "duration": 22,
    "start_time": "2022-12-05T18:22:55.277Z"
   },
   {
    "duration": 17,
    "start_time": "2022-12-05T18:23:05.438Z"
   },
   {
    "duration": 6,
    "start_time": "2022-12-05T18:23:08.666Z"
   },
   {
    "duration": 15,
    "start_time": "2022-12-05T18:23:20.997Z"
   },
   {
    "duration": 8,
    "start_time": "2022-12-05T18:23:24.322Z"
   },
   {
    "duration": 27,
    "start_time": "2022-12-05T18:23:33.845Z"
   },
   {
    "duration": 21,
    "start_time": "2022-12-05T18:23:37.651Z"
   },
   {
    "duration": 19,
    "start_time": "2022-12-05T18:23:39.897Z"
   },
   {
    "duration": 2590,
    "start_time": "2022-12-05T18:23:44.414Z"
   },
   {
    "duration": 1196,
    "start_time": "2022-12-05T18:23:47.007Z"
   },
   {
    "duration": 95,
    "start_time": "2022-12-05T18:23:48.204Z"
   },
   {
    "duration": 20,
    "start_time": "2022-12-05T18:23:48.302Z"
   },
   {
    "duration": 11,
    "start_time": "2022-12-05T18:23:48.324Z"
   },
   {
    "duration": 5485,
    "start_time": "2022-12-05T18:23:48.337Z"
   },
   {
    "duration": 6,
    "start_time": "2022-12-05T18:23:53.824Z"
   },
   {
    "duration": 26,
    "start_time": "2022-12-05T18:23:53.831Z"
   },
   {
    "duration": 19,
    "start_time": "2022-12-05T18:23:53.858Z"
   },
   {
    "duration": 12,
    "start_time": "2022-12-05T18:23:53.990Z"
   },
   {
    "duration": 30,
    "start_time": "2022-12-05T18:23:54.004Z"
   },
   {
    "duration": 34,
    "start_time": "2022-12-05T18:23:54.036Z"
   },
   {
    "duration": 25,
    "start_time": "2022-12-05T18:23:54.072Z"
   },
   {
    "duration": 16,
    "start_time": "2022-12-05T18:23:54.099Z"
   },
   {
    "duration": 209,
    "start_time": "2022-12-05T18:23:54.117Z"
   },
   {
    "duration": 0,
    "start_time": "2022-12-05T18:23:54.328Z"
   },
   {
    "duration": 0,
    "start_time": "2022-12-05T18:23:54.330Z"
   },
   {
    "duration": 0,
    "start_time": "2022-12-05T18:23:54.331Z"
   },
   {
    "duration": 0,
    "start_time": "2022-12-05T18:23:54.332Z"
   },
   {
    "duration": 0,
    "start_time": "2022-12-05T18:23:54.333Z"
   },
   {
    "duration": 0,
    "start_time": "2022-12-05T18:23:54.334Z"
   },
   {
    "duration": 0,
    "start_time": "2022-12-05T18:23:54.335Z"
   },
   {
    "duration": 0,
    "start_time": "2022-12-05T18:23:54.337Z"
   },
   {
    "duration": 0,
    "start_time": "2022-12-05T18:23:54.338Z"
   },
   {
    "duration": 0,
    "start_time": "2022-12-05T18:23:54.339Z"
   },
   {
    "duration": 0,
    "start_time": "2022-12-05T18:23:54.340Z"
   },
   {
    "duration": 0,
    "start_time": "2022-12-05T18:23:54.341Z"
   },
   {
    "duration": 0,
    "start_time": "2022-12-05T18:23:54.342Z"
   },
   {
    "duration": 0,
    "start_time": "2022-12-05T18:23:54.343Z"
   },
   {
    "duration": 0,
    "start_time": "2022-12-05T18:23:54.343Z"
   },
   {
    "duration": 0,
    "start_time": "2022-12-05T18:23:54.344Z"
   },
   {
    "duration": 0,
    "start_time": "2022-12-05T18:23:54.345Z"
   },
   {
    "duration": 0,
    "start_time": "2022-12-05T18:23:54.346Z"
   },
   {
    "duration": 0,
    "start_time": "2022-12-05T18:23:54.347Z"
   },
   {
    "duration": 0,
    "start_time": "2022-12-05T18:23:54.348Z"
   },
   {
    "duration": 0,
    "start_time": "2022-12-05T18:23:54.349Z"
   },
   {
    "duration": 0,
    "start_time": "2022-12-05T18:23:54.350Z"
   },
   {
    "duration": 0,
    "start_time": "2022-12-05T18:23:54.351Z"
   },
   {
    "duration": 10,
    "start_time": "2022-12-05T18:33:39.260Z"
   },
   {
    "duration": 2431,
    "start_time": "2022-12-05T18:34:45.195Z"
   },
   {
    "duration": 4,
    "start_time": "2022-12-05T18:34:47.629Z"
   },
   {
    "duration": 98,
    "start_time": "2022-12-05T18:34:47.635Z"
   },
   {
    "duration": 19,
    "start_time": "2022-12-05T18:34:47.735Z"
   },
   {
    "duration": 11,
    "start_time": "2022-12-05T18:34:47.755Z"
   },
   {
    "duration": 5503,
    "start_time": "2022-12-05T18:34:47.767Z"
   },
   {
    "duration": 5,
    "start_time": "2022-12-05T18:34:53.271Z"
   },
   {
    "duration": 20,
    "start_time": "2022-12-05T18:34:53.277Z"
   },
   {
    "duration": 14,
    "start_time": "2022-12-05T18:34:53.299Z"
   },
   {
    "duration": 14,
    "start_time": "2022-12-05T18:34:53.315Z"
   },
   {
    "duration": 13,
    "start_time": "2022-12-05T18:35:13.570Z"
   },
   {
    "duration": 13,
    "start_time": "2022-12-05T18:36:14.741Z"
   },
   {
    "duration": 11,
    "start_time": "2022-12-05T18:36:20.299Z"
   },
   {
    "duration": 11,
    "start_time": "2022-12-05T18:36:42.766Z"
   },
   {
    "duration": 12,
    "start_time": "2022-12-05T18:36:56.634Z"
   },
   {
    "duration": 10,
    "start_time": "2022-12-05T18:40:32.340Z"
   },
   {
    "duration": 16,
    "start_time": "2022-12-05T18:40:37.951Z"
   },
   {
    "duration": 4,
    "start_time": "2022-12-05T18:41:03.805Z"
   },
   {
    "duration": 14,
    "start_time": "2022-12-05T18:41:09.597Z"
   },
   {
    "duration": 6,
    "start_time": "2022-12-05T18:45:37.503Z"
   },
   {
    "duration": 18,
    "start_time": "2022-12-05T18:45:40.392Z"
   },
   {
    "duration": 4,
    "start_time": "2022-12-05T18:46:12.055Z"
   },
   {
    "duration": 93,
    "start_time": "2022-12-05T18:46:14.355Z"
   },
   {
    "duration": 23,
    "start_time": "2022-12-05T18:46:20.433Z"
   },
   {
    "duration": 13,
    "start_time": "2022-12-05T18:46:25.078Z"
   },
   {
    "duration": 5,
    "start_time": "2022-12-05T18:46:28.186Z"
   },
   {
    "duration": 10,
    "start_time": "2022-12-05T18:46:32.489Z"
   },
   {
    "duration": 10,
    "start_time": "2022-12-05T18:46:36.189Z"
   },
   {
    "duration": 23,
    "start_time": "2022-12-05T18:46:40.310Z"
   },
   {
    "duration": 19,
    "start_time": "2022-12-05T18:47:00.588Z"
   },
   {
    "duration": 20,
    "start_time": "2022-12-05T18:48:44.878Z"
   },
   {
    "duration": 24,
    "start_time": "2022-12-05T18:48:54.411Z"
   },
   {
    "duration": 2453,
    "start_time": "2022-12-05T18:49:04.169Z"
   },
   {
    "duration": 1193,
    "start_time": "2022-12-05T18:49:06.624Z"
   },
   {
    "duration": 97,
    "start_time": "2022-12-05T18:49:07.819Z"
   },
   {
    "duration": 20,
    "start_time": "2022-12-05T18:49:07.918Z"
   },
   {
    "duration": 20,
    "start_time": "2022-12-05T18:49:07.940Z"
   },
   {
    "duration": 5347,
    "start_time": "2022-12-05T18:49:07.963Z"
   },
   {
    "duration": 5,
    "start_time": "2022-12-05T18:49:13.312Z"
   },
   {
    "duration": 11,
    "start_time": "2022-12-05T18:49:13.319Z"
   },
   {
    "duration": 16,
    "start_time": "2022-12-05T18:49:13.331Z"
   },
   {
    "duration": 8,
    "start_time": "2022-12-05T18:49:13.444Z"
   },
   {
    "duration": 34,
    "start_time": "2022-12-05T18:49:13.454Z"
   },
   {
    "duration": 25,
    "start_time": "2022-12-05T18:49:13.497Z"
   },
   {
    "duration": 21,
    "start_time": "2022-12-05T18:49:13.524Z"
   },
   {
    "duration": 24,
    "start_time": "2022-12-05T18:49:13.547Z"
   },
   {
    "duration": 770,
    "start_time": "2022-12-05T18:49:13.573Z"
   },
   {
    "duration": 24,
    "start_time": "2022-12-05T18:49:14.345Z"
   },
   {
    "duration": 8227,
    "start_time": "2022-12-05T18:49:14.371Z"
   },
   {
    "duration": 102,
    "start_time": "2022-12-05T18:49:22.600Z"
   },
   {
    "duration": 10613,
    "start_time": "2022-12-05T18:49:22.704Z"
   },
   {
    "duration": 124,
    "start_time": "2022-12-05T18:49:33.319Z"
   },
   {
    "duration": 120,
    "start_time": "2022-12-05T18:49:33.445Z"
   },
   {
    "duration": 108,
    "start_time": "2022-12-05T18:49:33.567Z"
   },
   {
    "duration": 277,
    "start_time": "2022-12-05T18:49:33.677Z"
   },
   {
    "duration": 113,
    "start_time": "2022-12-05T18:49:33.956Z"
   },
   {
    "duration": 5,
    "start_time": "2022-12-05T18:49:34.071Z"
   },
   {
    "duration": 228,
    "start_time": "2022-12-05T18:49:34.077Z"
   },
   {
    "duration": 309,
    "start_time": "2022-12-05T18:49:34.306Z"
   },
   {
    "duration": 3,
    "start_time": "2022-12-05T18:49:34.620Z"
   },
   {
    "duration": 163,
    "start_time": "2022-12-05T18:49:34.625Z"
   },
   {
    "duration": 0,
    "start_time": "2022-12-05T18:49:34.789Z"
   },
   {
    "duration": 0,
    "start_time": "2022-12-05T18:49:34.791Z"
   },
   {
    "duration": 0,
    "start_time": "2022-12-05T18:49:34.793Z"
   },
   {
    "duration": 0,
    "start_time": "2022-12-05T18:49:34.793Z"
   },
   {
    "duration": 0,
    "start_time": "2022-12-05T18:49:34.794Z"
   },
   {
    "duration": 0,
    "start_time": "2022-12-05T18:49:34.794Z"
   },
   {
    "duration": 0,
    "start_time": "2022-12-05T18:49:34.795Z"
   },
   {
    "duration": 0,
    "start_time": "2022-12-05T18:49:34.795Z"
   },
   {
    "duration": 0,
    "start_time": "2022-12-05T18:49:34.796Z"
   },
   {
    "duration": 2,
    "start_time": "2022-12-05T18:50:37.858Z"
   },
   {
    "duration": 706,
    "start_time": "2022-12-05T18:57:30.952Z"
   },
   {
    "duration": 30,
    "start_time": "2022-12-05T18:59:19.392Z"
   },
   {
    "duration": 592,
    "start_time": "2022-12-05T18:59:58.408Z"
   },
   {
    "duration": 8314,
    "start_time": "2022-12-05T19:00:06.593Z"
   },
   {
    "duration": 8879,
    "start_time": "2022-12-05T19:03:15.921Z"
   },
   {
    "duration": 21,
    "start_time": "2022-12-05T19:04:46.321Z"
   },
   {
    "duration": 10761,
    "start_time": "2022-12-05T19:05:14.637Z"
   },
   {
    "duration": 212,
    "start_time": "2022-12-05T19:06:13.343Z"
   },
   {
    "duration": 106,
    "start_time": "2022-12-05T19:08:11.565Z"
   },
   {
    "duration": 147,
    "start_time": "2022-12-05T19:11:36.357Z"
   },
   {
    "duration": 12,
    "start_time": "2022-12-05T19:22:51.302Z"
   },
   {
    "duration": 20,
    "start_time": "2022-12-05T19:23:03.046Z"
   },
   {
    "duration": 14,
    "start_time": "2022-12-05T19:24:41.775Z"
   },
   {
    "duration": 2406,
    "start_time": "2022-12-05T19:24:46.075Z"
   },
   {
    "duration": 1272,
    "start_time": "2022-12-05T19:24:48.483Z"
   },
   {
    "duration": 97,
    "start_time": "2022-12-05T19:24:49.757Z"
   },
   {
    "duration": 21,
    "start_time": "2022-12-05T19:24:49.857Z"
   },
   {
    "duration": 36,
    "start_time": "2022-12-05T19:24:49.880Z"
   },
   {
    "duration": 5344,
    "start_time": "2022-12-05T19:24:49.918Z"
   },
   {
    "duration": 6,
    "start_time": "2022-12-05T19:24:55.264Z"
   },
   {
    "duration": 23,
    "start_time": "2022-12-05T19:24:55.271Z"
   },
   {
    "duration": 33,
    "start_time": "2022-12-05T19:24:55.295Z"
   },
   {
    "duration": 8,
    "start_time": "2022-12-05T19:24:55.433Z"
   },
   {
    "duration": 31,
    "start_time": "2022-12-05T19:24:55.443Z"
   },
   {
    "duration": 29,
    "start_time": "2022-12-05T19:24:55.475Z"
   },
   {
    "duration": 16,
    "start_time": "2022-12-05T19:24:55.506Z"
   },
   {
    "duration": 21,
    "start_time": "2022-12-05T19:24:55.524Z"
   },
   {
    "duration": 285,
    "start_time": "2022-12-05T19:24:55.546Z"
   },
   {
    "duration": 0,
    "start_time": "2022-12-05T19:24:55.833Z"
   },
   {
    "duration": 0,
    "start_time": "2022-12-05T19:24:55.835Z"
   },
   {
    "duration": 0,
    "start_time": "2022-12-05T19:24:55.837Z"
   },
   {
    "duration": 0,
    "start_time": "2022-12-05T19:24:55.838Z"
   },
   {
    "duration": 0,
    "start_time": "2022-12-05T19:24:55.839Z"
   },
   {
    "duration": 0,
    "start_time": "2022-12-05T19:24:55.841Z"
   },
   {
    "duration": 0,
    "start_time": "2022-12-05T19:24:55.842Z"
   },
   {
    "duration": 0,
    "start_time": "2022-12-05T19:24:55.844Z"
   },
   {
    "duration": 0,
    "start_time": "2022-12-05T19:24:55.845Z"
   },
   {
    "duration": 0,
    "start_time": "2022-12-05T19:24:55.847Z"
   },
   {
    "duration": 0,
    "start_time": "2022-12-05T19:24:55.848Z"
   },
   {
    "duration": 0,
    "start_time": "2022-12-05T19:24:55.849Z"
   },
   {
    "duration": 0,
    "start_time": "2022-12-05T19:24:55.850Z"
   },
   {
    "duration": 0,
    "start_time": "2022-12-05T19:24:55.851Z"
   },
   {
    "duration": 0,
    "start_time": "2022-12-05T19:24:55.852Z"
   },
   {
    "duration": 0,
    "start_time": "2022-12-05T19:24:55.853Z"
   },
   {
    "duration": 0,
    "start_time": "2022-12-05T19:24:55.854Z"
   },
   {
    "duration": 0,
    "start_time": "2022-12-05T19:24:55.855Z"
   },
   {
    "duration": 0,
    "start_time": "2022-12-05T19:24:55.897Z"
   },
   {
    "duration": 2371,
    "start_time": "2022-12-05T19:25:30.733Z"
   },
   {
    "duration": 1293,
    "start_time": "2022-12-05T19:25:33.106Z"
   },
   {
    "duration": 124,
    "start_time": "2022-12-05T19:25:34.401Z"
   },
   {
    "duration": 21,
    "start_time": "2022-12-05T19:25:34.527Z"
   },
   {
    "duration": 15,
    "start_time": "2022-12-05T19:25:34.550Z"
   },
   {
    "duration": 5443,
    "start_time": "2022-12-05T19:25:34.567Z"
   },
   {
    "duration": 5,
    "start_time": "2022-12-05T19:25:40.012Z"
   },
   {
    "duration": 28,
    "start_time": "2022-12-05T19:25:40.020Z"
   },
   {
    "duration": 27,
    "start_time": "2022-12-05T19:25:40.050Z"
   },
   {
    "duration": 13,
    "start_time": "2022-12-05T19:25:40.188Z"
   },
   {
    "duration": 48,
    "start_time": "2022-12-05T19:25:40.202Z"
   },
   {
    "duration": 17,
    "start_time": "2022-12-05T19:25:40.252Z"
   },
   {
    "duration": 30,
    "start_time": "2022-12-05T19:25:40.271Z"
   },
   {
    "duration": 20,
    "start_time": "2022-12-05T19:25:40.302Z"
   },
   {
    "duration": 215,
    "start_time": "2022-12-05T19:25:40.324Z"
   },
   {
    "duration": 0,
    "start_time": "2022-12-05T19:25:40.541Z"
   },
   {
    "duration": 0,
    "start_time": "2022-12-05T19:25:40.542Z"
   },
   {
    "duration": 0,
    "start_time": "2022-12-05T19:25:40.544Z"
   },
   {
    "duration": 0,
    "start_time": "2022-12-05T19:25:40.545Z"
   },
   {
    "duration": 0,
    "start_time": "2022-12-05T19:25:40.546Z"
   },
   {
    "duration": 0,
    "start_time": "2022-12-05T19:25:40.548Z"
   },
   {
    "duration": 0,
    "start_time": "2022-12-05T19:25:40.549Z"
   },
   {
    "duration": 0,
    "start_time": "2022-12-05T19:25:40.551Z"
   },
   {
    "duration": 0,
    "start_time": "2022-12-05T19:25:40.552Z"
   },
   {
    "duration": 0,
    "start_time": "2022-12-05T19:25:40.553Z"
   },
   {
    "duration": 0,
    "start_time": "2022-12-05T19:25:40.555Z"
   },
   {
    "duration": 0,
    "start_time": "2022-12-05T19:25:40.556Z"
   },
   {
    "duration": 0,
    "start_time": "2022-12-05T19:25:40.558Z"
   },
   {
    "duration": 0,
    "start_time": "2022-12-05T19:25:40.560Z"
   },
   {
    "duration": 0,
    "start_time": "2022-12-05T19:25:40.598Z"
   },
   {
    "duration": 0,
    "start_time": "2022-12-05T19:25:40.599Z"
   },
   {
    "duration": 0,
    "start_time": "2022-12-05T19:25:40.601Z"
   },
   {
    "duration": 0,
    "start_time": "2022-12-05T19:25:40.602Z"
   },
   {
    "duration": 0,
    "start_time": "2022-12-05T19:25:40.604Z"
   },
   {
    "duration": 15,
    "start_time": "2022-12-05T19:27:07.420Z"
   },
   {
    "duration": 2335,
    "start_time": "2022-12-05T19:27:11.455Z"
   },
   {
    "duration": 1272,
    "start_time": "2022-12-05T19:27:13.792Z"
   },
   {
    "duration": 101,
    "start_time": "2022-12-05T19:27:15.066Z"
   },
   {
    "duration": 31,
    "start_time": "2022-12-05T19:27:15.169Z"
   },
   {
    "duration": 26,
    "start_time": "2022-12-05T19:27:15.201Z"
   },
   {
    "duration": 5393,
    "start_time": "2022-12-05T19:27:15.229Z"
   },
   {
    "duration": 4,
    "start_time": "2022-12-05T19:27:20.624Z"
   },
   {
    "duration": 7,
    "start_time": "2022-12-05T19:27:20.630Z"
   },
   {
    "duration": 11,
    "start_time": "2022-12-05T19:27:20.638Z"
   },
   {
    "duration": 8,
    "start_time": "2022-12-05T19:27:20.762Z"
   },
   {
    "duration": 40,
    "start_time": "2022-12-05T19:27:20.772Z"
   },
   {
    "duration": 20,
    "start_time": "2022-12-05T19:27:20.813Z"
   },
   {
    "duration": 18,
    "start_time": "2022-12-05T19:27:20.834Z"
   },
   {
    "duration": 21,
    "start_time": "2022-12-05T19:27:20.854Z"
   },
   {
    "duration": 229,
    "start_time": "2022-12-05T19:27:20.876Z"
   },
   {
    "duration": 0,
    "start_time": "2022-12-05T19:27:21.108Z"
   },
   {
    "duration": 0,
    "start_time": "2022-12-05T19:27:21.108Z"
   },
   {
    "duration": 0,
    "start_time": "2022-12-05T19:27:21.110Z"
   },
   {
    "duration": 0,
    "start_time": "2022-12-05T19:27:21.111Z"
   },
   {
    "duration": 0,
    "start_time": "2022-12-05T19:27:21.112Z"
   },
   {
    "duration": 0,
    "start_time": "2022-12-05T19:27:21.113Z"
   },
   {
    "duration": 0,
    "start_time": "2022-12-05T19:27:21.114Z"
   },
   {
    "duration": 0,
    "start_time": "2022-12-05T19:27:21.115Z"
   },
   {
    "duration": 0,
    "start_time": "2022-12-05T19:27:21.117Z"
   },
   {
    "duration": 0,
    "start_time": "2022-12-05T19:27:21.118Z"
   },
   {
    "duration": 0,
    "start_time": "2022-12-05T19:27:21.119Z"
   },
   {
    "duration": 0,
    "start_time": "2022-12-05T19:27:21.120Z"
   },
   {
    "duration": 0,
    "start_time": "2022-12-05T19:27:21.122Z"
   },
   {
    "duration": 0,
    "start_time": "2022-12-05T19:27:21.123Z"
   },
   {
    "duration": 0,
    "start_time": "2022-12-05T19:27:21.124Z"
   },
   {
    "duration": 0,
    "start_time": "2022-12-05T19:27:21.125Z"
   },
   {
    "duration": 0,
    "start_time": "2022-12-05T19:27:21.128Z"
   },
   {
    "duration": 0,
    "start_time": "2022-12-05T19:27:21.129Z"
   },
   {
    "duration": 0,
    "start_time": "2022-12-05T19:27:21.131Z"
   },
   {
    "duration": 104,
    "start_time": "2022-12-05T19:28:48.190Z"
   },
   {
    "duration": 22,
    "start_time": "2022-12-05T19:28:51.920Z"
   },
   {
    "duration": 4,
    "start_time": "2022-12-05T19:28:58.602Z"
   },
   {
    "duration": 11,
    "start_time": "2022-12-05T19:29:01.285Z"
   },
   {
    "duration": 104,
    "start_time": "2022-12-05T19:34:28.064Z"
   },
   {
    "duration": 13,
    "start_time": "2022-12-05T19:34:37.170Z"
   },
   {
    "duration": 5,
    "start_time": "2022-12-05T19:34:42.219Z"
   },
   {
    "duration": 92,
    "start_time": "2022-12-05T19:34:54.246Z"
   },
   {
    "duration": 21,
    "start_time": "2022-12-05T19:34:58.093Z"
   },
   {
    "duration": 12,
    "start_time": "2022-12-05T19:35:01.181Z"
   },
   {
    "duration": 6,
    "start_time": "2022-12-05T19:35:03.672Z"
   },
   {
    "duration": 10,
    "start_time": "2022-12-05T19:35:07.204Z"
   },
   {
    "duration": 8,
    "start_time": "2022-12-05T19:35:11.298Z"
   },
   {
    "duration": 9,
    "start_time": "2022-12-05T19:35:14.508Z"
   },
   {
    "duration": 10,
    "start_time": "2022-12-05T19:35:16.826Z"
   },
   {
    "duration": 4,
    "start_time": "2022-12-05T19:35:32.018Z"
   },
   {
    "duration": 15,
    "start_time": "2022-12-05T19:35:40.065Z"
   },
   {
    "duration": 5,
    "start_time": "2022-12-05T19:36:33.911Z"
   },
   {
    "duration": 12,
    "start_time": "2022-12-05T19:36:41.503Z"
   },
   {
    "duration": 2353,
    "start_time": "2022-12-05T19:37:41.515Z"
   },
   {
    "duration": 1288,
    "start_time": "2022-12-05T19:37:43.870Z"
   },
   {
    "duration": 100,
    "start_time": "2022-12-05T19:37:45.160Z"
   },
   {
    "duration": 19,
    "start_time": "2022-12-05T19:37:45.262Z"
   },
   {
    "duration": 21,
    "start_time": "2022-12-05T19:37:45.282Z"
   },
   {
    "duration": 5501,
    "start_time": "2022-12-05T19:37:45.305Z"
   },
   {
    "duration": 4,
    "start_time": "2022-12-05T19:37:50.808Z"
   },
   {
    "duration": 15,
    "start_time": "2022-12-05T19:37:50.814Z"
   },
   {
    "duration": 11,
    "start_time": "2022-12-05T19:37:50.831Z"
   },
   {
    "duration": 8,
    "start_time": "2022-12-05T19:37:50.941Z"
   },
   {
    "duration": 45,
    "start_time": "2022-12-05T19:37:50.950Z"
   },
   {
    "duration": 24,
    "start_time": "2022-12-05T19:37:50.997Z"
   },
   {
    "duration": 18,
    "start_time": "2022-12-05T19:37:51.022Z"
   },
   {
    "duration": 26,
    "start_time": "2022-12-05T19:37:51.042Z"
   },
   {
    "duration": 629,
    "start_time": "2022-12-05T19:37:51.069Z"
   },
   {
    "duration": 19,
    "start_time": "2022-12-05T19:37:51.700Z"
   },
   {
    "duration": 7179,
    "start_time": "2022-12-05T19:37:51.720Z"
   },
   {
    "duration": 114,
    "start_time": "2022-12-05T19:37:58.901Z"
   },
   {
    "duration": 9987,
    "start_time": "2022-12-05T19:37:59.017Z"
   },
   {
    "duration": 182,
    "start_time": "2022-12-05T19:38:09.006Z"
   },
   {
    "duration": 114,
    "start_time": "2022-12-05T19:38:09.190Z"
   },
   {
    "duration": 197,
    "start_time": "2022-12-05T19:38:09.306Z"
   },
   {
    "duration": 292,
    "start_time": "2022-12-05T19:38:09.505Z"
   },
   {
    "duration": 3,
    "start_time": "2022-12-05T19:38:09.799Z"
   },
   {
    "duration": 17,
    "start_time": "2022-12-05T19:38:09.804Z"
   },
   {
    "duration": 76,
    "start_time": "2022-12-05T19:38:09.822Z"
   },
   {
    "duration": 118,
    "start_time": "2022-12-05T19:38:09.901Z"
   },
   {
    "duration": 174,
    "start_time": "2022-12-05T19:38:10.023Z"
   },
   {
    "duration": 4,
    "start_time": "2022-12-05T19:38:10.199Z"
   },
   {
    "duration": 11,
    "start_time": "2022-12-05T19:38:10.204Z"
   },
   {
    "duration": 81,
    "start_time": "2022-12-05T19:38:10.217Z"
   },
   {
    "duration": 115,
    "start_time": "2022-12-05T19:38:10.301Z"
   },
   {
    "duration": 65,
    "start_time": "2022-12-05T19:38:10.417Z"
   },
   {
    "duration": 17,
    "start_time": "2022-12-05T19:38:10.498Z"
   },
   {
    "duration": 614,
    "start_time": "2022-12-05T19:39:08.948Z"
   },
   {
    "duration": 26,
    "start_time": "2022-12-05T19:39:11.139Z"
   },
   {
    "duration": 17,
    "start_time": "2022-12-05T19:39:20.997Z"
   },
   {
    "duration": 92,
    "start_time": "2022-12-05T19:39:26.953Z"
   },
   {
    "duration": 10535,
    "start_time": "2022-12-05T19:42:35.656Z"
   },
   {
    "duration": 626,
    "start_time": "2022-12-05T19:43:10.321Z"
   },
   {
    "duration": 9794,
    "start_time": "2022-12-05T19:43:12.313Z"
   },
   {
    "duration": 122,
    "start_time": "2022-12-05T19:44:36.689Z"
   },
   {
    "duration": 70533,
    "start_time": "2022-12-05T19:45:06.166Z"
   },
   {
    "duration": 16,
    "start_time": "2022-12-05T20:01:28.945Z"
   },
   {
    "duration": 12,
    "start_time": "2022-12-05T20:01:58.802Z"
   },
   {
    "duration": 391,
    "start_time": "2022-12-05T20:03:34.312Z"
   },
   {
    "duration": 263,
    "start_time": "2022-12-05T20:04:51.305Z"
   },
   {
    "duration": 499,
    "start_time": "2022-12-05T20:06:43.335Z"
   },
   {
    "duration": 784,
    "start_time": "2022-12-05T20:10:28.781Z"
   },
   {
    "duration": 13380,
    "start_time": "2022-12-05T20:10:30.961Z"
   },
   {
    "duration": 9,
    "start_time": "2022-12-05T20:18:36.712Z"
   },
   {
    "duration": 12,
    "start_time": "2022-12-05T20:18:46.538Z"
   },
   {
    "duration": 12,
    "start_time": "2022-12-05T20:18:54.528Z"
   },
   {
    "duration": 9,
    "start_time": "2022-12-05T20:18:56.997Z"
   },
   {
    "duration": 43504,
    "start_time": "2022-12-05T20:19:44.081Z"
   },
   {
    "duration": 40,
    "start_time": "2022-12-05T20:20:36.694Z"
   },
   {
    "duration": 2389,
    "start_time": "2022-12-05T20:20:50.728Z"
   },
   {
    "duration": 11360,
    "start_time": "2022-12-05T20:20:53.119Z"
   },
   {
    "duration": 1296,
    "start_time": "2022-12-05T20:21:04.481Z"
   },
   {
    "duration": 104,
    "start_time": "2022-12-05T20:21:05.780Z"
   },
   {
    "duration": 24,
    "start_time": "2022-12-05T20:21:05.885Z"
   },
   {
    "duration": 13,
    "start_time": "2022-12-05T20:21:05.910Z"
   },
   {
    "duration": 5428,
    "start_time": "2022-12-05T20:21:05.926Z"
   },
   {
    "duration": 3,
    "start_time": "2022-12-05T20:21:11.356Z"
   },
   {
    "duration": 5,
    "start_time": "2022-12-05T20:21:11.361Z"
   },
   {
    "duration": 13,
    "start_time": "2022-12-05T20:21:11.370Z"
   },
   {
    "duration": 14,
    "start_time": "2022-12-05T20:21:11.384Z"
   },
   {
    "duration": 117,
    "start_time": "2022-12-05T20:21:11.399Z"
   },
   {
    "duration": 0,
    "start_time": "2022-12-05T20:21:11.518Z"
   },
   {
    "duration": 0,
    "start_time": "2022-12-05T20:21:11.519Z"
   },
   {
    "duration": 0,
    "start_time": "2022-12-05T20:21:11.521Z"
   },
   {
    "duration": 0,
    "start_time": "2022-12-05T20:21:11.522Z"
   },
   {
    "duration": 0,
    "start_time": "2022-12-05T20:21:11.523Z"
   },
   {
    "duration": 0,
    "start_time": "2022-12-05T20:21:11.524Z"
   },
   {
    "duration": 0,
    "start_time": "2022-12-05T20:21:11.525Z"
   },
   {
    "duration": 0,
    "start_time": "2022-12-05T20:21:11.527Z"
   },
   {
    "duration": 0,
    "start_time": "2022-12-05T20:21:11.528Z"
   },
   {
    "duration": 0,
    "start_time": "2022-12-05T20:21:11.529Z"
   },
   {
    "duration": 0,
    "start_time": "2022-12-05T20:21:11.530Z"
   },
   {
    "duration": 0,
    "start_time": "2022-12-05T20:21:11.531Z"
   },
   {
    "duration": 0,
    "start_time": "2022-12-05T20:21:11.532Z"
   },
   {
    "duration": 0,
    "start_time": "2022-12-05T20:21:11.533Z"
   },
   {
    "duration": 0,
    "start_time": "2022-12-05T20:21:11.534Z"
   },
   {
    "duration": 0,
    "start_time": "2022-12-05T20:21:11.535Z"
   },
   {
    "duration": 0,
    "start_time": "2022-12-05T20:21:11.536Z"
   },
   {
    "duration": 0,
    "start_time": "2022-12-05T20:21:11.537Z"
   },
   {
    "duration": 0,
    "start_time": "2022-12-05T20:21:11.538Z"
   },
   {
    "duration": 0,
    "start_time": "2022-12-05T20:21:11.539Z"
   },
   {
    "duration": 0,
    "start_time": "2022-12-05T20:21:11.540Z"
   },
   {
    "duration": 0,
    "start_time": "2022-12-05T20:21:11.541Z"
   },
   {
    "duration": 0,
    "start_time": "2022-12-05T20:21:11.542Z"
   },
   {
    "duration": 0,
    "start_time": "2022-12-05T20:21:11.542Z"
   },
   {
    "duration": 0,
    "start_time": "2022-12-05T20:21:11.544Z"
   },
   {
    "duration": 0,
    "start_time": "2022-12-05T20:21:11.545Z"
   },
   {
    "duration": 0,
    "start_time": "2022-12-05T20:21:11.546Z"
   },
   {
    "duration": 0,
    "start_time": "2022-12-05T20:21:11.547Z"
   },
   {
    "duration": 4,
    "start_time": "2022-12-05T20:21:21.726Z"
   },
   {
    "duration": 2426,
    "start_time": "2022-12-05T20:21:44.038Z"
   },
   {
    "duration": 11280,
    "start_time": "2022-12-05T20:21:49.442Z"
   },
   {
    "duration": 21,
    "start_time": "2022-12-05T20:22:16.400Z"
   },
   {
    "duration": 2457,
    "start_time": "2022-12-05T20:23:03.609Z"
   },
   {
    "duration": 11248,
    "start_time": "2022-12-05T20:23:06.069Z"
   },
   {
    "duration": 1136,
    "start_time": "2022-12-05T20:23:17.319Z"
   },
   {
    "duration": 94,
    "start_time": "2022-12-05T20:23:18.458Z"
   },
   {
    "duration": 18,
    "start_time": "2022-12-05T20:23:18.554Z"
   },
   {
    "duration": 25,
    "start_time": "2022-12-05T20:23:18.573Z"
   },
   {
    "duration": 5111,
    "start_time": "2022-12-05T20:23:18.599Z"
   },
   {
    "duration": 5,
    "start_time": "2022-12-05T20:23:23.712Z"
   },
   {
    "duration": 9,
    "start_time": "2022-12-05T20:23:23.718Z"
   },
   {
    "duration": 10,
    "start_time": "2022-12-05T20:23:23.731Z"
   },
   {
    "duration": 8,
    "start_time": "2022-12-05T20:23:23.742Z"
   },
   {
    "duration": 127,
    "start_time": "2022-12-05T20:23:23.751Z"
   },
   {
    "duration": 0,
    "start_time": "2022-12-05T20:23:23.881Z"
   },
   {
    "duration": 0,
    "start_time": "2022-12-05T20:23:23.882Z"
   },
   {
    "duration": 0,
    "start_time": "2022-12-05T20:23:23.883Z"
   },
   {
    "duration": 0,
    "start_time": "2022-12-05T20:23:23.885Z"
   },
   {
    "duration": 0,
    "start_time": "2022-12-05T20:23:23.898Z"
   },
   {
    "duration": 0,
    "start_time": "2022-12-05T20:23:23.899Z"
   },
   {
    "duration": 0,
    "start_time": "2022-12-05T20:23:23.901Z"
   },
   {
    "duration": 0,
    "start_time": "2022-12-05T20:23:23.902Z"
   },
   {
    "duration": 0,
    "start_time": "2022-12-05T20:23:23.903Z"
   },
   {
    "duration": 0,
    "start_time": "2022-12-05T20:23:23.905Z"
   },
   {
    "duration": 0,
    "start_time": "2022-12-05T20:23:23.907Z"
   },
   {
    "duration": 0,
    "start_time": "2022-12-05T20:23:23.908Z"
   },
   {
    "duration": 0,
    "start_time": "2022-12-05T20:23:23.909Z"
   },
   {
    "duration": 0,
    "start_time": "2022-12-05T20:23:23.910Z"
   },
   {
    "duration": 0,
    "start_time": "2022-12-05T20:23:23.911Z"
   },
   {
    "duration": 0,
    "start_time": "2022-12-05T20:23:23.913Z"
   },
   {
    "duration": 0,
    "start_time": "2022-12-05T20:23:23.914Z"
   },
   {
    "duration": 0,
    "start_time": "2022-12-05T20:23:23.915Z"
   },
   {
    "duration": 0,
    "start_time": "2022-12-05T20:23:23.916Z"
   },
   {
    "duration": 0,
    "start_time": "2022-12-05T20:23:23.917Z"
   },
   {
    "duration": 0,
    "start_time": "2022-12-05T20:23:23.919Z"
   },
   {
    "duration": 0,
    "start_time": "2022-12-05T20:23:23.920Z"
   },
   {
    "duration": 0,
    "start_time": "2022-12-05T20:23:23.921Z"
   },
   {
    "duration": 0,
    "start_time": "2022-12-05T20:23:23.922Z"
   },
   {
    "duration": 0,
    "start_time": "2022-12-05T20:23:23.923Z"
   },
   {
    "duration": 0,
    "start_time": "2022-12-05T20:23:23.925Z"
   },
   {
    "duration": 0,
    "start_time": "2022-12-05T20:23:23.926Z"
   },
   {
    "duration": 0,
    "start_time": "2022-12-05T20:23:23.927Z"
   },
   {
    "duration": 11020,
    "start_time": "2022-12-05T20:25:28.939Z"
   },
   {
    "duration": 2396,
    "start_time": "2022-12-05T20:25:42.601Z"
   },
   {
    "duration": 4,
    "start_time": "2022-12-05T20:25:50.730Z"
   },
   {
    "duration": 94,
    "start_time": "2022-12-05T20:25:55.786Z"
   },
   {
    "duration": 19,
    "start_time": "2022-12-05T20:26:00.354Z"
   },
   {
    "duration": 13,
    "start_time": "2022-12-05T20:26:04.100Z"
   },
   {
    "duration": 11056,
    "start_time": "2022-12-05T20:27:20.461Z"
   },
   {
    "duration": 2343,
    "start_time": "2022-12-05T20:27:31.520Z"
   },
   {
    "duration": 1158,
    "start_time": "2022-12-05T20:27:33.865Z"
   },
   {
    "duration": 97,
    "start_time": "2022-12-05T20:27:35.025Z"
   },
   {
    "duration": 20,
    "start_time": "2022-12-05T20:27:35.123Z"
   },
   {
    "duration": 10,
    "start_time": "2022-12-05T20:27:35.145Z"
   },
   {
    "duration": 5265,
    "start_time": "2022-12-05T20:27:35.157Z"
   },
   {
    "duration": 4,
    "start_time": "2022-12-05T20:27:40.424Z"
   },
   {
    "duration": 10,
    "start_time": "2022-12-05T20:27:40.429Z"
   },
   {
    "duration": 11,
    "start_time": "2022-12-05T20:27:40.442Z"
   },
   {
    "duration": 11,
    "start_time": "2022-12-05T20:27:40.455Z"
   },
   {
    "duration": 129,
    "start_time": "2022-12-05T20:27:40.468Z"
   },
   {
    "duration": 0,
    "start_time": "2022-12-05T20:27:40.600Z"
   },
   {
    "duration": 0,
    "start_time": "2022-12-05T20:27:40.601Z"
   },
   {
    "duration": 0,
    "start_time": "2022-12-05T20:27:40.602Z"
   },
   {
    "duration": 0,
    "start_time": "2022-12-05T20:27:40.603Z"
   },
   {
    "duration": 0,
    "start_time": "2022-12-05T20:27:40.605Z"
   },
   {
    "duration": 0,
    "start_time": "2022-12-05T20:27:40.606Z"
   },
   {
    "duration": 0,
    "start_time": "2022-12-05T20:27:40.607Z"
   },
   {
    "duration": 0,
    "start_time": "2022-12-05T20:27:40.609Z"
   },
   {
    "duration": 0,
    "start_time": "2022-12-05T20:27:40.611Z"
   },
   {
    "duration": 0,
    "start_time": "2022-12-05T20:27:40.612Z"
   },
   {
    "duration": 0,
    "start_time": "2022-12-05T20:27:40.613Z"
   },
   {
    "duration": 0,
    "start_time": "2022-12-05T20:27:40.615Z"
   },
   {
    "duration": 0,
    "start_time": "2022-12-05T20:27:40.616Z"
   },
   {
    "duration": 0,
    "start_time": "2022-12-05T20:27:40.618Z"
   },
   {
    "duration": 0,
    "start_time": "2022-12-05T20:27:40.619Z"
   },
   {
    "duration": 0,
    "start_time": "2022-12-05T20:27:40.620Z"
   },
   {
    "duration": 0,
    "start_time": "2022-12-05T20:27:40.622Z"
   },
   {
    "duration": 0,
    "start_time": "2022-12-05T20:27:40.623Z"
   },
   {
    "duration": 0,
    "start_time": "2022-12-05T20:27:40.624Z"
   },
   {
    "duration": 0,
    "start_time": "2022-12-05T20:27:40.626Z"
   },
   {
    "duration": 0,
    "start_time": "2022-12-05T20:27:40.627Z"
   },
   {
    "duration": 0,
    "start_time": "2022-12-05T20:27:40.628Z"
   },
   {
    "duration": 0,
    "start_time": "2022-12-05T20:27:40.629Z"
   },
   {
    "duration": 0,
    "start_time": "2022-12-05T20:27:40.630Z"
   },
   {
    "duration": 0,
    "start_time": "2022-12-05T20:27:40.631Z"
   },
   {
    "duration": 0,
    "start_time": "2022-12-05T20:27:40.632Z"
   },
   {
    "duration": 0,
    "start_time": "2022-12-05T20:27:40.634Z"
   },
   {
    "duration": 0,
    "start_time": "2022-12-05T20:27:40.635Z"
   },
   {
    "duration": 49,
    "start_time": "2022-12-05T20:34:40.413Z"
   },
   {
    "duration": 2324,
    "start_time": "2022-12-05T20:35:11.381Z"
   },
   {
    "duration": 1102,
    "start_time": "2022-12-05T20:35:13.707Z"
   },
   {
    "duration": 111,
    "start_time": "2022-12-05T20:35:14.811Z"
   },
   {
    "duration": 26,
    "start_time": "2022-12-05T20:35:14.924Z"
   },
   {
    "duration": 12,
    "start_time": "2022-12-05T20:35:14.952Z"
   },
   {
    "duration": 5417,
    "start_time": "2022-12-05T20:35:14.965Z"
   },
   {
    "duration": 4,
    "start_time": "2022-12-05T20:35:20.383Z"
   },
   {
    "duration": 50,
    "start_time": "2022-12-05T20:35:20.389Z"
   },
   {
    "duration": 69,
    "start_time": "2022-12-05T20:35:20.440Z"
   },
   {
    "duration": 33,
    "start_time": "2022-12-05T20:35:20.512Z"
   },
   {
    "duration": 143,
    "start_time": "2022-12-05T20:35:20.547Z"
   },
   {
    "duration": 0,
    "start_time": "2022-12-05T20:35:20.692Z"
   },
   {
    "duration": 0,
    "start_time": "2022-12-05T20:35:20.694Z"
   },
   {
    "duration": 0,
    "start_time": "2022-12-05T20:35:20.697Z"
   },
   {
    "duration": 0,
    "start_time": "2022-12-05T20:35:20.699Z"
   },
   {
    "duration": 0,
    "start_time": "2022-12-05T20:35:20.700Z"
   },
   {
    "duration": 0,
    "start_time": "2022-12-05T20:35:20.701Z"
   },
   {
    "duration": 0,
    "start_time": "2022-12-05T20:35:20.703Z"
   },
   {
    "duration": 0,
    "start_time": "2022-12-05T20:35:20.705Z"
   },
   {
    "duration": 0,
    "start_time": "2022-12-05T20:35:20.706Z"
   },
   {
    "duration": 0,
    "start_time": "2022-12-05T20:35:20.707Z"
   },
   {
    "duration": 0,
    "start_time": "2022-12-05T20:35:20.709Z"
   },
   {
    "duration": 0,
    "start_time": "2022-12-05T20:35:20.710Z"
   },
   {
    "duration": 0,
    "start_time": "2022-12-05T20:35:20.711Z"
   },
   {
    "duration": 0,
    "start_time": "2022-12-05T20:35:20.712Z"
   },
   {
    "duration": 0,
    "start_time": "2022-12-05T20:35:20.713Z"
   },
   {
    "duration": 0,
    "start_time": "2022-12-05T20:35:20.714Z"
   },
   {
    "duration": 0,
    "start_time": "2022-12-05T20:35:20.715Z"
   },
   {
    "duration": 0,
    "start_time": "2022-12-05T20:35:20.716Z"
   },
   {
    "duration": 0,
    "start_time": "2022-12-05T20:35:20.717Z"
   },
   {
    "duration": 0,
    "start_time": "2022-12-05T20:35:20.718Z"
   },
   {
    "duration": 0,
    "start_time": "2022-12-05T20:35:20.719Z"
   },
   {
    "duration": 0,
    "start_time": "2022-12-05T20:35:20.720Z"
   },
   {
    "duration": 0,
    "start_time": "2022-12-05T20:35:20.721Z"
   },
   {
    "duration": 0,
    "start_time": "2022-12-05T20:35:20.722Z"
   },
   {
    "duration": 0,
    "start_time": "2022-12-05T20:35:20.723Z"
   },
   {
    "duration": 0,
    "start_time": "2022-12-05T20:35:20.724Z"
   },
   {
    "duration": 0,
    "start_time": "2022-12-05T20:35:20.725Z"
   },
   {
    "duration": 0,
    "start_time": "2022-12-05T20:35:20.726Z"
   },
   {
    "duration": 2334,
    "start_time": "2022-12-05T20:37:34.825Z"
   },
   {
    "duration": 5,
    "start_time": "2022-12-05T20:37:43.312Z"
   },
   {
    "duration": 24,
    "start_time": "2022-12-05T20:38:02.803Z"
   },
   {
    "duration": 2365,
    "start_time": "2022-12-05T20:43:10.151Z"
   },
   {
    "duration": 1109,
    "start_time": "2022-12-05T20:43:12.518Z"
   },
   {
    "duration": 94,
    "start_time": "2022-12-05T20:43:13.628Z"
   },
   {
    "duration": 19,
    "start_time": "2022-12-05T20:43:13.725Z"
   },
   {
    "duration": 12,
    "start_time": "2022-12-05T20:43:13.746Z"
   },
   {
    "duration": 5315,
    "start_time": "2022-12-05T20:43:13.759Z"
   },
   {
    "duration": 4,
    "start_time": "2022-12-05T20:43:19.076Z"
   },
   {
    "duration": 13,
    "start_time": "2022-12-05T20:43:19.082Z"
   },
   {
    "duration": 20,
    "start_time": "2022-12-05T20:43:19.097Z"
   },
   {
    "duration": 7,
    "start_time": "2022-12-05T20:43:19.120Z"
   },
   {
    "duration": 125,
    "start_time": "2022-12-05T20:43:19.129Z"
   },
   {
    "duration": 0,
    "start_time": "2022-12-05T20:43:19.256Z"
   },
   {
    "duration": 0,
    "start_time": "2022-12-05T20:43:19.257Z"
   },
   {
    "duration": 0,
    "start_time": "2022-12-05T20:43:19.259Z"
   },
   {
    "duration": 0,
    "start_time": "2022-12-05T20:43:19.260Z"
   },
   {
    "duration": 0,
    "start_time": "2022-12-05T20:43:19.261Z"
   },
   {
    "duration": 0,
    "start_time": "2022-12-05T20:43:19.263Z"
   },
   {
    "duration": 0,
    "start_time": "2022-12-05T20:43:19.264Z"
   },
   {
    "duration": 0,
    "start_time": "2022-12-05T20:43:19.265Z"
   },
   {
    "duration": 0,
    "start_time": "2022-12-05T20:43:19.267Z"
   },
   {
    "duration": 0,
    "start_time": "2022-12-05T20:43:19.268Z"
   },
   {
    "duration": 0,
    "start_time": "2022-12-05T20:43:19.269Z"
   },
   {
    "duration": 0,
    "start_time": "2022-12-05T20:43:19.298Z"
   },
   {
    "duration": 0,
    "start_time": "2022-12-05T20:43:19.299Z"
   },
   {
    "duration": 0,
    "start_time": "2022-12-05T20:43:19.300Z"
   },
   {
    "duration": 0,
    "start_time": "2022-12-05T20:43:19.301Z"
   },
   {
    "duration": 0,
    "start_time": "2022-12-05T20:43:19.302Z"
   },
   {
    "duration": 0,
    "start_time": "2022-12-05T20:43:19.303Z"
   },
   {
    "duration": 0,
    "start_time": "2022-12-05T20:43:19.304Z"
   },
   {
    "duration": 0,
    "start_time": "2022-12-05T20:43:19.305Z"
   },
   {
    "duration": 0,
    "start_time": "2022-12-05T20:43:19.306Z"
   },
   {
    "duration": 0,
    "start_time": "2022-12-05T20:43:19.307Z"
   },
   {
    "duration": 0,
    "start_time": "2022-12-05T20:43:19.308Z"
   },
   {
    "duration": 0,
    "start_time": "2022-12-05T20:43:19.309Z"
   },
   {
    "duration": 0,
    "start_time": "2022-12-05T20:43:19.310Z"
   },
   {
    "duration": 0,
    "start_time": "2022-12-05T20:43:19.311Z"
   },
   {
    "duration": 0,
    "start_time": "2022-12-05T20:43:19.312Z"
   },
   {
    "duration": 0,
    "start_time": "2022-12-05T20:43:19.313Z"
   },
   {
    "duration": 0,
    "start_time": "2022-12-05T20:43:19.314Z"
   },
   {
    "duration": 2304,
    "start_time": "2022-12-05T20:44:41.822Z"
   },
   {
    "duration": 1160,
    "start_time": "2022-12-05T20:44:44.128Z"
   },
   {
    "duration": 96,
    "start_time": "2022-12-05T20:44:45.290Z"
   },
   {
    "duration": 20,
    "start_time": "2022-12-05T20:44:45.388Z"
   },
   {
    "duration": 11,
    "start_time": "2022-12-05T20:44:45.410Z"
   },
   {
    "duration": 5279,
    "start_time": "2022-12-05T20:44:45.423Z"
   },
   {
    "duration": 4,
    "start_time": "2022-12-05T20:44:50.704Z"
   },
   {
    "duration": 28,
    "start_time": "2022-12-05T20:44:50.710Z"
   },
   {
    "duration": 23,
    "start_time": "2022-12-05T20:44:50.740Z"
   },
   {
    "duration": 25,
    "start_time": "2022-12-05T20:44:50.765Z"
   },
   {
    "duration": 110,
    "start_time": "2022-12-05T20:44:50.791Z"
   },
   {
    "duration": 0,
    "start_time": "2022-12-05T20:44:50.903Z"
   },
   {
    "duration": 0,
    "start_time": "2022-12-05T20:44:50.904Z"
   },
   {
    "duration": 0,
    "start_time": "2022-12-05T20:44:50.905Z"
   },
   {
    "duration": 0,
    "start_time": "2022-12-05T20:44:50.906Z"
   },
   {
    "duration": 0,
    "start_time": "2022-12-05T20:44:50.907Z"
   },
   {
    "duration": 0,
    "start_time": "2022-12-05T20:44:50.908Z"
   },
   {
    "duration": 0,
    "start_time": "2022-12-05T20:44:50.909Z"
   },
   {
    "duration": 0,
    "start_time": "2022-12-05T20:44:50.910Z"
   },
   {
    "duration": 0,
    "start_time": "2022-12-05T20:44:50.911Z"
   },
   {
    "duration": 0,
    "start_time": "2022-12-05T20:44:50.912Z"
   },
   {
    "duration": 0,
    "start_time": "2022-12-05T20:44:50.913Z"
   },
   {
    "duration": 0,
    "start_time": "2022-12-05T20:44:50.914Z"
   },
   {
    "duration": 0,
    "start_time": "2022-12-05T20:44:50.914Z"
   },
   {
    "duration": 0,
    "start_time": "2022-12-05T20:44:50.915Z"
   },
   {
    "duration": 0,
    "start_time": "2022-12-05T20:44:50.916Z"
   },
   {
    "duration": 0,
    "start_time": "2022-12-05T20:44:50.917Z"
   },
   {
    "duration": 0,
    "start_time": "2022-12-05T20:44:50.918Z"
   },
   {
    "duration": 0,
    "start_time": "2022-12-05T20:44:50.918Z"
   },
   {
    "duration": 0,
    "start_time": "2022-12-05T20:44:50.919Z"
   },
   {
    "duration": 0,
    "start_time": "2022-12-05T20:44:50.920Z"
   },
   {
    "duration": 0,
    "start_time": "2022-12-05T20:44:50.921Z"
   },
   {
    "duration": 0,
    "start_time": "2022-12-05T20:44:50.922Z"
   },
   {
    "duration": 0,
    "start_time": "2022-12-05T20:44:50.923Z"
   },
   {
    "duration": 0,
    "start_time": "2022-12-05T20:44:50.924Z"
   },
   {
    "duration": 0,
    "start_time": "2022-12-05T20:44:50.925Z"
   },
   {
    "duration": 0,
    "start_time": "2022-12-05T20:44:50.926Z"
   },
   {
    "duration": 0,
    "start_time": "2022-12-05T20:44:50.927Z"
   },
   {
    "duration": 0,
    "start_time": "2022-12-05T20:44:50.928Z"
   },
   {
    "duration": 962,
    "start_time": "2022-12-05T20:46:16.636Z"
   },
   {
    "duration": 953,
    "start_time": "2022-12-05T20:46:28.400Z"
   },
   {
    "duration": 2729,
    "start_time": "2022-12-05T20:46:49.629Z"
   },
   {
    "duration": 2449,
    "start_time": "2022-12-05T20:47:01.081Z"
   },
   {
    "duration": 2435,
    "start_time": "2022-12-05T20:47:09.491Z"
   },
   {
    "duration": 2220,
    "start_time": "2022-12-05T20:47:11.928Z"
   },
   {
    "duration": 1182,
    "start_time": "2022-12-05T20:47:14.150Z"
   },
   {
    "duration": 0,
    "start_time": "2022-12-05T20:47:15.335Z"
   },
   {
    "duration": 0,
    "start_time": "2022-12-05T20:47:15.336Z"
   },
   {
    "duration": 0,
    "start_time": "2022-12-05T20:47:15.337Z"
   },
   {
    "duration": 0,
    "start_time": "2022-12-05T20:47:15.338Z"
   },
   {
    "duration": 0,
    "start_time": "2022-12-05T20:47:15.339Z"
   },
   {
    "duration": 0,
    "start_time": "2022-12-05T20:47:15.340Z"
   },
   {
    "duration": 0,
    "start_time": "2022-12-05T20:47:15.341Z"
   },
   {
    "duration": 0,
    "start_time": "2022-12-05T20:47:15.342Z"
   },
   {
    "duration": 0,
    "start_time": "2022-12-05T20:47:15.343Z"
   },
   {
    "duration": 0,
    "start_time": "2022-12-05T20:47:15.343Z"
   },
   {
    "duration": 0,
    "start_time": "2022-12-05T20:47:15.344Z"
   },
   {
    "duration": 0,
    "start_time": "2022-12-05T20:47:15.345Z"
   },
   {
    "duration": 0,
    "start_time": "2022-12-05T20:47:15.346Z"
   },
   {
    "duration": 0,
    "start_time": "2022-12-05T20:47:15.347Z"
   },
   {
    "duration": 0,
    "start_time": "2022-12-05T20:47:15.347Z"
   },
   {
    "duration": 0,
    "start_time": "2022-12-05T20:47:15.348Z"
   },
   {
    "duration": 0,
    "start_time": "2022-12-05T20:47:15.349Z"
   },
   {
    "duration": 0,
    "start_time": "2022-12-05T20:47:15.350Z"
   },
   {
    "duration": 0,
    "start_time": "2022-12-05T20:47:15.351Z"
   },
   {
    "duration": 0,
    "start_time": "2022-12-05T20:47:15.352Z"
   },
   {
    "duration": 0,
    "start_time": "2022-12-05T20:47:15.353Z"
   },
   {
    "duration": 0,
    "start_time": "2022-12-05T20:47:15.354Z"
   },
   {
    "duration": 0,
    "start_time": "2022-12-05T20:47:15.355Z"
   },
   {
    "duration": 0,
    "start_time": "2022-12-05T20:47:15.356Z"
   },
   {
    "duration": 0,
    "start_time": "2022-12-05T20:47:15.357Z"
   },
   {
    "duration": 0,
    "start_time": "2022-12-05T20:47:15.358Z"
   },
   {
    "duration": 0,
    "start_time": "2022-12-05T20:47:15.358Z"
   },
   {
    "duration": 0,
    "start_time": "2022-12-05T20:47:15.359Z"
   },
   {
    "duration": 0,
    "start_time": "2022-12-05T20:47:15.360Z"
   },
   {
    "duration": 0,
    "start_time": "2022-12-05T20:47:15.398Z"
   },
   {
    "duration": 0,
    "start_time": "2022-12-05T20:47:15.399Z"
   },
   {
    "duration": 0,
    "start_time": "2022-12-05T20:47:15.400Z"
   },
   {
    "duration": 0,
    "start_time": "2022-12-05T20:47:15.400Z"
   },
   {
    "duration": 0,
    "start_time": "2022-12-05T20:47:15.402Z"
   },
   {
    "duration": 0,
    "start_time": "2022-12-05T20:47:15.403Z"
   },
   {
    "duration": 0,
    "start_time": "2022-12-05T20:47:15.404Z"
   },
   {
    "duration": 0,
    "start_time": "2022-12-05T20:47:15.405Z"
   },
   {
    "duration": 4,
    "start_time": "2022-12-05T20:47:41.581Z"
   },
   {
    "duration": 4,
    "start_time": "2022-12-05T20:48:07.659Z"
   },
   {
    "duration": 117,
    "start_time": "2022-12-05T20:48:07.664Z"
   },
   {
    "duration": 18,
    "start_time": "2022-12-05T20:48:07.782Z"
   },
   {
    "duration": 30,
    "start_time": "2022-12-05T20:48:07.802Z"
   },
   {
    "duration": 5113,
    "start_time": "2022-12-05T20:48:07.833Z"
   },
   {
    "duration": 5,
    "start_time": "2022-12-05T20:48:12.948Z"
   },
   {
    "duration": 6,
    "start_time": "2022-12-05T20:48:12.954Z"
   },
   {
    "duration": 13,
    "start_time": "2022-12-05T20:48:12.962Z"
   },
   {
    "duration": 9,
    "start_time": "2022-12-05T20:48:12.977Z"
   },
   {
    "duration": 16,
    "start_time": "2022-12-05T20:48:12.997Z"
   },
   {
    "duration": 0,
    "start_time": "2022-12-05T20:48:13.014Z"
   },
   {
    "duration": 0,
    "start_time": "2022-12-05T20:48:13.016Z"
   },
   {
    "duration": 0,
    "start_time": "2022-12-05T20:48:13.016Z"
   },
   {
    "duration": 9,
    "start_time": "2022-12-05T20:49:48.032Z"
   },
   {
    "duration": 7,
    "start_time": "2022-12-05T20:49:55.458Z"
   },
   {
    "duration": 1969,
    "start_time": "2022-12-07T00:39:17.968Z"
   },
   {
    "duration": 0,
    "start_time": "2022-12-07T00:39:19.939Z"
   },
   {
    "duration": 7987,
    "start_time": "2022-12-07T00:39:26.448Z"
   },
   {
    "duration": 2780,
    "start_time": "2022-12-07T00:39:34.438Z"
   },
   {
    "duration": 34,
    "start_time": "2022-12-07T00:39:52.133Z"
   },
   {
    "duration": 18,
    "start_time": "2022-12-07T00:40:04.658Z"
   },
   {
    "duration": 20,
    "start_time": "2022-12-07T00:40:31.459Z"
   },
   {
    "duration": 4,
    "start_time": "2022-12-07T00:40:34.864Z"
   },
   {
    "duration": 220,
    "start_time": "2022-12-07T00:40:49.364Z"
   },
   {
    "duration": 20,
    "start_time": "2022-12-07T00:40:50.967Z"
   },
   {
    "duration": 13,
    "start_time": "2022-12-07T00:40:51.974Z"
   },
   {
    "duration": 5491,
    "start_time": "2022-12-07T00:40:52.180Z"
   },
   {
    "duration": 3,
    "start_time": "2022-12-07T00:40:57.673Z"
   },
   {
    "duration": 6,
    "start_time": "2022-12-07T00:40:57.678Z"
   },
   {
    "duration": 11,
    "start_time": "2022-12-07T00:40:57.686Z"
   },
   {
    "duration": 9,
    "start_time": "2022-12-07T00:40:59.624Z"
   },
   {
    "duration": 38,
    "start_time": "2022-12-07T00:41:02.484Z"
   },
   {
    "duration": 11,
    "start_time": "2022-12-07T00:41:19.125Z"
   },
   {
    "duration": 29,
    "start_time": "2022-12-07T00:41:57.461Z"
   },
   {
    "duration": 37,
    "start_time": "2022-12-07T00:42:14.529Z"
   },
   {
    "duration": 2501,
    "start_time": "2022-12-07T01:03:11.117Z"
   },
   {
    "duration": 25,
    "start_time": "2022-12-07T01:03:15.889Z"
   },
   {
    "duration": 2123,
    "start_time": "2022-12-07T01:03:54.477Z"
   },
   {
    "duration": 2227,
    "start_time": "2022-12-07T01:03:56.667Z"
   },
   {
    "duration": 24,
    "start_time": "2022-12-07T01:04:01.965Z"
   },
   {
    "duration": 4,
    "start_time": "2022-12-07T01:05:05.903Z"
   },
   {
    "duration": 48,
    "start_time": "2022-12-07T18:26:33.262Z"
   },
   {
    "duration": 6377,
    "start_time": "2022-12-07T18:44:12.986Z"
   },
   {
    "duration": 2775,
    "start_time": "2022-12-07T18:44:19.366Z"
   },
   {
    "duration": 2674,
    "start_time": "2022-12-07T18:44:22.143Z"
   },
   {
    "duration": 1443,
    "start_time": "2022-12-07T18:44:24.819Z"
   },
   {
    "duration": 150,
    "start_time": "2022-12-07T18:44:26.264Z"
   },
   {
    "duration": 29,
    "start_time": "2022-12-07T18:44:26.415Z"
   },
   {
    "duration": 18,
    "start_time": "2022-12-07T18:44:26.446Z"
   },
   {
    "duration": 5629,
    "start_time": "2022-12-07T18:44:26.466Z"
   },
   {
    "duration": 4,
    "start_time": "2022-12-07T18:44:32.096Z"
   },
   {
    "duration": 12,
    "start_time": "2022-12-07T18:44:32.102Z"
   },
   {
    "duration": 37,
    "start_time": "2022-12-07T18:44:32.115Z"
   },
   {
    "duration": 10,
    "start_time": "2022-12-07T18:44:32.154Z"
   },
   {
    "duration": 7,
    "start_time": "2022-12-07T18:44:32.165Z"
   },
   {
    "duration": 19,
    "start_time": "2022-12-07T18:44:32.289Z"
   },
   {
    "duration": 20,
    "start_time": "2022-12-07T18:44:32.310Z"
   },
   {
    "duration": 138,
    "start_time": "2022-12-07T18:44:32.336Z"
   },
   {
    "duration": 0,
    "start_time": "2022-12-07T18:44:32.477Z"
   },
   {
    "duration": 0,
    "start_time": "2022-12-07T18:44:32.478Z"
   },
   {
    "duration": 0,
    "start_time": "2022-12-07T18:44:32.479Z"
   },
   {
    "duration": 1,
    "start_time": "2022-12-07T18:44:32.480Z"
   },
   {
    "duration": 0,
    "start_time": "2022-12-07T18:44:32.482Z"
   },
   {
    "duration": 0,
    "start_time": "2022-12-07T18:44:32.483Z"
   },
   {
    "duration": 0,
    "start_time": "2022-12-07T18:44:32.485Z"
   },
   {
    "duration": 0,
    "start_time": "2022-12-07T18:44:32.486Z"
   },
   {
    "duration": 0,
    "start_time": "2022-12-07T18:44:32.487Z"
   },
   {
    "duration": 0,
    "start_time": "2022-12-07T18:44:32.488Z"
   },
   {
    "duration": 0,
    "start_time": "2022-12-07T18:44:32.490Z"
   },
   {
    "duration": 0,
    "start_time": "2022-12-07T18:44:32.491Z"
   },
   {
    "duration": 0,
    "start_time": "2022-12-07T18:44:32.493Z"
   },
   {
    "duration": 0,
    "start_time": "2022-12-07T18:44:32.494Z"
   },
   {
    "duration": 0,
    "start_time": "2022-12-07T18:44:32.496Z"
   },
   {
    "duration": 0,
    "start_time": "2022-12-07T18:44:32.497Z"
   },
   {
    "duration": 0,
    "start_time": "2022-12-07T18:44:32.498Z"
   },
   {
    "duration": 0,
    "start_time": "2022-12-07T18:44:32.536Z"
   },
   {
    "duration": 0,
    "start_time": "2022-12-07T18:44:32.537Z"
   },
   {
    "duration": 0,
    "start_time": "2022-12-07T18:44:32.539Z"
   },
   {
    "duration": 0,
    "start_time": "2022-12-07T18:44:32.541Z"
   },
   {
    "duration": 0,
    "start_time": "2022-12-07T18:44:32.542Z"
   },
   {
    "duration": 0,
    "start_time": "2022-12-07T18:44:32.543Z"
   },
   {
    "duration": 0,
    "start_time": "2022-12-07T18:44:32.545Z"
   },
   {
    "duration": 0,
    "start_time": "2022-12-07T18:44:32.546Z"
   },
   {
    "duration": 0,
    "start_time": "2022-12-07T18:44:32.547Z"
   },
   {
    "duration": 0,
    "start_time": "2022-12-07T18:44:32.549Z"
   },
   {
    "duration": 0,
    "start_time": "2022-12-07T18:44:32.551Z"
   },
   {
    "duration": 0,
    "start_time": "2022-12-07T18:44:32.553Z"
   },
   {
    "duration": 33,
    "start_time": "2022-12-07T18:45:09.691Z"
   },
   {
    "duration": 2526,
    "start_time": "2022-12-07T18:45:14.622Z"
   },
   {
    "duration": 2331,
    "start_time": "2022-12-07T18:45:17.150Z"
   },
   {
    "duration": 2191,
    "start_time": "2022-12-07T18:45:19.483Z"
   },
   {
    "duration": 1241,
    "start_time": "2022-12-07T18:45:21.677Z"
   },
   {
    "duration": 96,
    "start_time": "2022-12-07T18:45:22.920Z"
   },
   {
    "duration": 24,
    "start_time": "2022-12-07T18:45:23.018Z"
   },
   {
    "duration": 12,
    "start_time": "2022-12-07T18:45:23.043Z"
   },
   {
    "duration": 5627,
    "start_time": "2022-12-07T18:45:23.057Z"
   },
   {
    "duration": 5,
    "start_time": "2022-12-07T18:45:28.685Z"
   },
   {
    "duration": 6,
    "start_time": "2022-12-07T18:45:28.692Z"
   },
   {
    "duration": 140,
    "start_time": "2022-12-07T18:45:28.700Z"
   },
   {
    "duration": 13,
    "start_time": "2022-12-07T18:45:28.842Z"
   },
   {
    "duration": 22,
    "start_time": "2022-12-07T18:45:28.857Z"
   },
   {
    "duration": 31,
    "start_time": "2022-12-07T18:45:28.881Z"
   },
   {
    "duration": 12,
    "start_time": "2022-12-07T18:45:28.914Z"
   },
   {
    "duration": 38,
    "start_time": "2022-12-07T18:45:28.927Z"
   },
   {
    "duration": 121,
    "start_time": "2022-12-07T18:45:28.967Z"
   },
   {
    "duration": 0,
    "start_time": "2022-12-07T18:45:29.091Z"
   },
   {
    "duration": 0,
    "start_time": "2022-12-07T18:45:29.092Z"
   },
   {
    "duration": 0,
    "start_time": "2022-12-07T18:45:29.093Z"
   },
   {
    "duration": 0,
    "start_time": "2022-12-07T18:45:29.094Z"
   },
   {
    "duration": 0,
    "start_time": "2022-12-07T18:45:29.095Z"
   },
   {
    "duration": 0,
    "start_time": "2022-12-07T18:45:29.097Z"
   },
   {
    "duration": 0,
    "start_time": "2022-12-07T18:45:29.098Z"
   },
   {
    "duration": 0,
    "start_time": "2022-12-07T18:45:29.099Z"
   },
   {
    "duration": 0,
    "start_time": "2022-12-07T18:45:29.100Z"
   },
   {
    "duration": 0,
    "start_time": "2022-12-07T18:45:29.101Z"
   },
   {
    "duration": 0,
    "start_time": "2022-12-07T18:45:29.103Z"
   },
   {
    "duration": 0,
    "start_time": "2022-12-07T18:45:29.104Z"
   },
   {
    "duration": 0,
    "start_time": "2022-12-07T18:45:29.136Z"
   },
   {
    "duration": 0,
    "start_time": "2022-12-07T18:45:29.137Z"
   },
   {
    "duration": 0,
    "start_time": "2022-12-07T18:45:29.139Z"
   },
   {
    "duration": 0,
    "start_time": "2022-12-07T18:45:29.140Z"
   },
   {
    "duration": 0,
    "start_time": "2022-12-07T18:45:29.142Z"
   },
   {
    "duration": 0,
    "start_time": "2022-12-07T18:45:29.143Z"
   },
   {
    "duration": 0,
    "start_time": "2022-12-07T18:45:29.145Z"
   },
   {
    "duration": 0,
    "start_time": "2022-12-07T18:45:29.146Z"
   },
   {
    "duration": 0,
    "start_time": "2022-12-07T18:45:29.147Z"
   },
   {
    "duration": 0,
    "start_time": "2022-12-07T18:45:29.149Z"
   },
   {
    "duration": 0,
    "start_time": "2022-12-07T18:45:29.150Z"
   },
   {
    "duration": 0,
    "start_time": "2022-12-07T18:45:29.151Z"
   },
   {
    "duration": 0,
    "start_time": "2022-12-07T18:45:29.153Z"
   },
   {
    "duration": 0,
    "start_time": "2022-12-07T18:45:29.154Z"
   },
   {
    "duration": 0,
    "start_time": "2022-12-07T18:45:29.156Z"
   },
   {
    "duration": 0,
    "start_time": "2022-12-07T18:45:29.157Z"
   },
   {
    "duration": 2609,
    "start_time": "2022-12-07T18:50:26.237Z"
   },
   {
    "duration": 2220,
    "start_time": "2022-12-07T18:50:28.848Z"
   },
   {
    "duration": 2135,
    "start_time": "2022-12-07T18:50:31.070Z"
   },
   {
    "duration": 1246,
    "start_time": "2022-12-07T18:50:33.208Z"
   },
   {
    "duration": 97,
    "start_time": "2022-12-07T18:50:34.455Z"
   },
   {
    "duration": 20,
    "start_time": "2022-12-07T18:50:34.554Z"
   },
   {
    "duration": 12,
    "start_time": "2022-12-07T18:50:34.575Z"
   },
   {
    "duration": 5622,
    "start_time": "2022-12-07T18:50:34.588Z"
   },
   {
    "duration": 4,
    "start_time": "2022-12-07T18:50:40.211Z"
   },
   {
    "duration": 18,
    "start_time": "2022-12-07T18:50:40.218Z"
   },
   {
    "duration": 124,
    "start_time": "2022-12-07T18:50:40.237Z"
   },
   {
    "duration": 11,
    "start_time": "2022-12-07T18:50:40.363Z"
   },
   {
    "duration": 5,
    "start_time": "2022-12-07T18:50:40.376Z"
   },
   {
    "duration": 22,
    "start_time": "2022-12-07T18:50:40.382Z"
   },
   {
    "duration": 29,
    "start_time": "2022-12-07T18:50:40.406Z"
   },
   {
    "duration": 39,
    "start_time": "2022-12-07T18:50:40.437Z"
   },
   {
    "duration": 665,
    "start_time": "2022-12-07T18:50:40.478Z"
   },
   {
    "duration": 31,
    "start_time": "2022-12-07T18:50:41.145Z"
   },
   {
    "duration": 6868,
    "start_time": "2022-12-07T18:50:41.178Z"
   },
   {
    "duration": 109,
    "start_time": "2022-12-07T18:50:48.137Z"
   },
   {
    "duration": 10521,
    "start_time": "2022-12-07T18:50:48.248Z"
   },
   {
    "duration": 110,
    "start_time": "2022-12-07T18:50:58.771Z"
   },
   {
    "duration": 123,
    "start_time": "2022-12-07T18:50:58.882Z"
   },
   {
    "duration": 229,
    "start_time": "2022-12-07T18:50:59.007Z"
   },
   {
    "duration": 669,
    "start_time": "2022-12-07T18:50:59.238Z"
   },
   {
    "duration": 10816,
    "start_time": "2022-12-07T18:50:59.909Z"
   },
   {
    "duration": 70111,
    "start_time": "2022-12-07T18:51:10.726Z"
   },
   {
    "duration": 523,
    "start_time": "2022-12-07T18:52:20.841Z"
   },
   {
    "duration": 5,
    "start_time": "2022-12-07T18:52:21.365Z"
   },
   {
    "duration": 139,
    "start_time": "2022-12-07T18:52:21.371Z"
   },
   {
    "duration": 0,
    "start_time": "2022-12-07T18:52:21.512Z"
   },
   {
    "duration": 0,
    "start_time": "2022-12-07T18:52:21.514Z"
   },
   {
    "duration": 0,
    "start_time": "2022-12-07T18:52:21.515Z"
   },
   {
    "duration": 0,
    "start_time": "2022-12-07T18:52:21.516Z"
   },
   {
    "duration": 0,
    "start_time": "2022-12-07T18:52:21.517Z"
   },
   {
    "duration": 0,
    "start_time": "2022-12-07T18:52:21.518Z"
   },
   {
    "duration": 0,
    "start_time": "2022-12-07T18:52:21.519Z"
   },
   {
    "duration": 0,
    "start_time": "2022-12-07T18:52:21.520Z"
   },
   {
    "duration": 0,
    "start_time": "2022-12-07T18:52:21.535Z"
   },
   {
    "duration": 0,
    "start_time": "2022-12-07T18:52:21.536Z"
   },
   {
    "duration": 0,
    "start_time": "2022-12-07T18:52:21.537Z"
   },
   {
    "duration": 363,
    "start_time": "2022-12-07T18:54:46.678Z"
   },
   {
    "duration": 2571,
    "start_time": "2022-12-07T18:56:08.480Z"
   },
   {
    "duration": 2578,
    "start_time": "2022-12-07T18:56:11.054Z"
   },
   {
    "duration": 2,
    "start_time": "2022-12-07T18:56:13.634Z"
   },
   {
    "duration": 1237,
    "start_time": "2022-12-07T18:56:13.638Z"
   },
   {
    "duration": 107,
    "start_time": "2022-12-07T18:56:14.877Z"
   },
   {
    "duration": 21,
    "start_time": "2022-12-07T18:56:14.986Z"
   },
   {
    "duration": 32,
    "start_time": "2022-12-07T18:56:15.008Z"
   },
   {
    "duration": 5783,
    "start_time": "2022-12-07T18:56:15.042Z"
   },
   {
    "duration": 9,
    "start_time": "2022-12-07T18:56:20.827Z"
   },
   {
    "duration": 18,
    "start_time": "2022-12-07T18:56:20.838Z"
   },
   {
    "duration": 19,
    "start_time": "2022-12-07T18:56:20.858Z"
   },
   {
    "duration": 136,
    "start_time": "2022-12-07T18:56:20.879Z"
   },
   {
    "duration": 18,
    "start_time": "2022-12-07T18:56:21.017Z"
   },
   {
    "duration": 34,
    "start_time": "2022-12-07T18:56:21.038Z"
   },
   {
    "duration": 16,
    "start_time": "2022-12-07T18:56:21.074Z"
   },
   {
    "duration": 48,
    "start_time": "2022-12-07T18:56:21.092Z"
   },
   {
    "duration": 694,
    "start_time": "2022-12-07T18:56:21.142Z"
   },
   {
    "duration": 28,
    "start_time": "2022-12-07T18:56:21.838Z"
   },
   {
    "duration": 7670,
    "start_time": "2022-12-07T18:56:21.867Z"
   },
   {
    "duration": 20,
    "start_time": "2022-12-07T18:56:29.634Z"
   },
   {
    "duration": 10566,
    "start_time": "2022-12-07T18:56:29.655Z"
   },
   {
    "duration": 105,
    "start_time": "2022-12-07T18:56:40.223Z"
   },
   {
    "duration": 129,
    "start_time": "2022-12-07T18:56:40.330Z"
   },
   {
    "duration": 176,
    "start_time": "2022-12-07T18:56:40.461Z"
   },
   {
    "duration": 700,
    "start_time": "2022-12-07T18:56:40.638Z"
   },
   {
    "duration": 10746,
    "start_time": "2022-12-07T18:56:41.340Z"
   },
   {
    "duration": 68649,
    "start_time": "2022-12-07T18:56:52.087Z"
   },
   {
    "duration": 312,
    "start_time": "2022-12-07T18:58:00.738Z"
   },
   {
    "duration": 4,
    "start_time": "2022-12-07T18:58:01.052Z"
   },
   {
    "duration": 150,
    "start_time": "2022-12-07T18:58:01.058Z"
   },
   {
    "duration": 0,
    "start_time": "2022-12-07T18:58:01.210Z"
   },
   {
    "duration": 0,
    "start_time": "2022-12-07T18:58:01.211Z"
   },
   {
    "duration": 0,
    "start_time": "2022-12-07T18:58:01.212Z"
   },
   {
    "duration": 0,
    "start_time": "2022-12-07T18:58:01.213Z"
   },
   {
    "duration": 0,
    "start_time": "2022-12-07T18:58:01.215Z"
   },
   {
    "duration": 0,
    "start_time": "2022-12-07T18:58:01.216Z"
   },
   {
    "duration": 0,
    "start_time": "2022-12-07T18:58:01.217Z"
   },
   {
    "duration": 0,
    "start_time": "2022-12-07T18:58:01.218Z"
   },
   {
    "duration": 0,
    "start_time": "2022-12-07T18:58:01.220Z"
   },
   {
    "duration": 0,
    "start_time": "2022-12-07T18:58:01.235Z"
   },
   {
    "duration": 0,
    "start_time": "2022-12-07T18:58:01.236Z"
   },
   {
    "duration": 2360,
    "start_time": "2022-12-07T18:59:40.061Z"
   },
   {
    "duration": 18,
    "start_time": "2022-12-07T18:59:56.702Z"
   },
   {
    "duration": 9,
    "start_time": "2022-12-07T19:01:15.729Z"
   },
   {
    "duration": 41,
    "start_time": "2022-12-07T19:02:00.502Z"
   },
   {
    "duration": 15,
    "start_time": "2022-12-07T19:02:11.663Z"
   },
   {
    "duration": 2,
    "start_time": "2022-12-07T19:02:17.087Z"
   },
   {
    "duration": 2629,
    "start_time": "2022-12-07T19:03:18.225Z"
   },
   {
    "duration": 2467,
    "start_time": "2022-12-07T19:03:20.856Z"
   },
   {
    "duration": 3,
    "start_time": "2022-12-07T19:03:23.325Z"
   },
   {
    "duration": 1275,
    "start_time": "2022-12-07T19:03:23.330Z"
   },
   {
    "duration": 99,
    "start_time": "2022-12-07T19:03:24.607Z"
   },
   {
    "duration": 42,
    "start_time": "2022-12-07T19:03:24.707Z"
   },
   {
    "duration": 12,
    "start_time": "2022-12-07T19:03:24.751Z"
   },
   {
    "duration": 5627,
    "start_time": "2022-12-07T19:03:24.765Z"
   },
   {
    "duration": 4,
    "start_time": "2022-12-07T19:03:30.394Z"
   },
   {
    "duration": 20,
    "start_time": "2022-12-07T19:03:30.400Z"
   },
   {
    "duration": 126,
    "start_time": "2022-12-07T19:03:30.436Z"
   },
   {
    "duration": 20,
    "start_time": "2022-12-07T19:03:30.564Z"
   },
   {
    "duration": 20,
    "start_time": "2022-12-07T19:03:30.586Z"
   },
   {
    "duration": 46,
    "start_time": "2022-12-07T19:03:30.608Z"
   },
   {
    "duration": 54,
    "start_time": "2022-12-07T19:03:30.656Z"
   },
   {
    "duration": 72,
    "start_time": "2022-12-07T19:03:30.712Z"
   },
   {
    "duration": 685,
    "start_time": "2022-12-07T19:03:30.786Z"
   },
   {
    "duration": 30,
    "start_time": "2022-12-07T19:03:31.473Z"
   },
   {
    "duration": 7533,
    "start_time": "2022-12-07T19:03:31.504Z"
   },
   {
    "duration": 108,
    "start_time": "2022-12-07T19:03:39.039Z"
   },
   {
    "duration": 10396,
    "start_time": "2022-12-07T19:03:39.149Z"
   },
   {
    "duration": 122,
    "start_time": "2022-12-07T19:03:49.547Z"
   },
   {
    "duration": 133,
    "start_time": "2022-12-07T19:03:49.671Z"
   },
   {
    "duration": 230,
    "start_time": "2022-12-07T19:03:49.806Z"
   },
   {
    "duration": 665,
    "start_time": "2022-12-07T19:03:50.038Z"
   },
   {
    "duration": 10072,
    "start_time": "2022-12-07T19:03:50.705Z"
   },
   {
    "duration": 70070,
    "start_time": "2022-12-07T19:04:00.778Z"
   },
   {
    "duration": 518,
    "start_time": "2022-12-07T19:05:10.937Z"
   },
   {
    "duration": 4,
    "start_time": "2022-12-07T19:05:11.457Z"
   },
   {
    "duration": 14,
    "start_time": "2022-12-07T19:05:11.462Z"
   },
   {
    "duration": 90,
    "start_time": "2022-12-07T19:05:11.478Z"
   },
   {
    "duration": 2396,
    "start_time": "2022-12-07T19:05:11.570Z"
   },
   {
    "duration": 17322,
    "start_time": "2022-12-07T19:05:13.968Z"
   },
   {
    "duration": 35882,
    "start_time": "2022-12-07T19:05:31.292Z"
   },
   {
    "duration": 0,
    "start_time": "2022-12-07T19:06:07.176Z"
   },
   {
    "duration": 0,
    "start_time": "2022-12-07T19:06:07.177Z"
   },
   {
    "duration": 0,
    "start_time": "2022-12-07T19:06:07.178Z"
   },
   {
    "duration": 0,
    "start_time": "2022-12-07T19:06:07.179Z"
   },
   {
    "duration": 0,
    "start_time": "2022-12-07T19:06:07.180Z"
   },
   {
    "duration": 0,
    "start_time": "2022-12-07T19:06:07.181Z"
   },
   {
    "duration": 0,
    "start_time": "2022-12-07T19:06:07.182Z"
   },
   {
    "duration": 0,
    "start_time": "2022-12-07T19:06:07.183Z"
   },
   {
    "duration": 9,
    "start_time": "2022-12-07T19:06:19.316Z"
   },
   {
    "duration": 13,
    "start_time": "2022-12-07T19:06:30.994Z"
   },
   {
    "duration": 12,
    "start_time": "2022-12-07T19:06:43.123Z"
   },
   {
    "duration": 2378,
    "start_time": "2022-12-07T19:11:22.685Z"
   },
   {
    "duration": 2460,
    "start_time": "2022-12-07T19:11:25.065Z"
   },
   {
    "duration": 3,
    "start_time": "2022-12-07T19:11:27.527Z"
   },
   {
    "duration": 1232,
    "start_time": "2022-12-07T19:11:27.532Z"
   },
   {
    "duration": 99,
    "start_time": "2022-12-07T19:11:28.766Z"
   },
   {
    "duration": 22,
    "start_time": "2022-12-07T19:11:28.866Z"
   },
   {
    "duration": 13,
    "start_time": "2022-12-07T19:11:28.890Z"
   },
   {
    "duration": 5605,
    "start_time": "2022-12-07T19:11:28.905Z"
   },
   {
    "duration": 4,
    "start_time": "2022-12-07T19:11:34.512Z"
   },
   {
    "duration": 17,
    "start_time": "2022-12-07T19:11:34.518Z"
   },
   {
    "duration": 143,
    "start_time": "2022-12-07T19:11:34.537Z"
   },
   {
    "duration": 8,
    "start_time": "2022-12-07T19:11:34.681Z"
   },
   {
    "duration": 9,
    "start_time": "2022-12-07T19:11:34.690Z"
   },
   {
    "duration": 40,
    "start_time": "2022-12-07T19:11:34.700Z"
   },
   {
    "duration": 13,
    "start_time": "2022-12-07T19:11:34.742Z"
   },
   {
    "duration": 40,
    "start_time": "2022-12-07T19:11:34.756Z"
   },
   {
    "duration": 691,
    "start_time": "2022-12-07T19:11:34.798Z"
   },
   {
    "duration": 29,
    "start_time": "2022-12-07T19:11:35.490Z"
   },
   {
    "duration": 8000,
    "start_time": "2022-12-07T19:11:35.534Z"
   },
   {
    "duration": 110,
    "start_time": "2022-12-07T19:11:43.537Z"
   },
   {
    "duration": 10783,
    "start_time": "2022-12-07T19:11:43.649Z"
   },
   {
    "duration": 107,
    "start_time": "2022-12-07T19:11:54.435Z"
   },
   {
    "duration": 132,
    "start_time": "2022-12-07T19:11:54.544Z"
   },
   {
    "duration": 163,
    "start_time": "2022-12-07T19:11:54.678Z"
   },
   {
    "duration": 697,
    "start_time": "2022-12-07T19:11:54.842Z"
   },
   {
    "duration": 10624,
    "start_time": "2022-12-07T19:11:55.541Z"
   },
   {
    "duration": 67470,
    "start_time": "2022-12-07T19:12:06.166Z"
   },
   {
    "duration": 307,
    "start_time": "2022-12-07T19:13:13.639Z"
   },
   {
    "duration": 4,
    "start_time": "2022-12-07T19:13:13.947Z"
   },
   {
    "duration": 16,
    "start_time": "2022-12-07T19:13:13.952Z"
   },
   {
    "duration": 63,
    "start_time": "2022-12-07T19:13:13.971Z"
   },
   {
    "duration": 1046,
    "start_time": "2022-12-07T19:13:14.036Z"
   },
   {
    "duration": 15689,
    "start_time": "2022-12-07T19:13:15.084Z"
   },
   {
    "duration": 86362,
    "start_time": "2022-12-07T19:13:30.775Z"
   },
   {
    "duration": 532,
    "start_time": "2022-12-07T19:14:57.138Z"
   },
   {
    "duration": 4,
    "start_time": "2022-12-07T19:14:57.672Z"
   },
   {
    "duration": 20,
    "start_time": "2022-12-07T19:14:57.677Z"
   },
   {
    "duration": 44,
    "start_time": "2022-12-07T19:14:57.699Z"
   },
   {
    "duration": 204,
    "start_time": "2022-12-07T19:14:57.745Z"
   },
   {
    "duration": 88,
    "start_time": "2022-12-07T19:14:57.950Z"
   },
   {
    "duration": 132,
    "start_time": "2022-12-07T19:14:58.040Z"
   },
   {
    "duration": 5,
    "start_time": "2022-12-07T19:22:34.474Z"
   },
   {
    "duration": 11,
    "start_time": "2022-12-07T19:23:25.278Z"
   },
   {
    "duration": 9,
    "start_time": "2022-12-07T19:24:18.384Z"
   },
   {
    "duration": 10,
    "start_time": "2022-12-07T19:25:40.729Z"
   },
   {
    "duration": 3,
    "start_time": "2022-12-07T19:25:54.484Z"
   },
   {
    "duration": 10,
    "start_time": "2022-12-07T19:25:57.618Z"
   },
   {
    "duration": 171,
    "start_time": "2022-12-07T19:26:25.807Z"
   },
   {
    "duration": 54,
    "start_time": "2022-12-07T19:27:44.829Z"
   },
   {
    "duration": 615,
    "start_time": "2022-12-07T19:29:52.850Z"
   },
   {
    "duration": 10238,
    "start_time": "2022-12-07T19:29:54.892Z"
   },
   {
    "duration": 70205,
    "start_time": "2022-12-07T19:30:05.132Z"
   },
   {
    "duration": 415,
    "start_time": "2022-12-07T19:31:15.339Z"
   },
   {
    "duration": 470,
    "start_time": "2022-12-07T19:33:48.405Z"
   },
   {
    "duration": 3,
    "start_time": "2022-12-07T19:40:12.132Z"
   },
   {
    "duration": 14,
    "start_time": "2022-12-07T19:40:40.693Z"
   },
   {
    "duration": 102,
    "start_time": "2022-12-07T19:41:30.777Z"
   },
   {
    "duration": 28,
    "start_time": "2022-12-07T19:41:33.171Z"
   },
   {
    "duration": 2707,
    "start_time": "2022-12-07T19:46:41.161Z"
   },
   {
    "duration": 2323,
    "start_time": "2022-12-07T19:46:43.870Z"
   },
   {
    "duration": 3,
    "start_time": "2022-12-07T19:46:46.195Z"
   },
   {
    "duration": 1289,
    "start_time": "2022-12-07T19:46:46.200Z"
   },
   {
    "duration": 99,
    "start_time": "2022-12-07T19:46:47.491Z"
   },
   {
    "duration": 19,
    "start_time": "2022-12-07T19:46:47.592Z"
   },
   {
    "duration": 32,
    "start_time": "2022-12-07T19:46:47.613Z"
   },
   {
    "duration": 6054,
    "start_time": "2022-12-07T19:46:47.647Z"
   },
   {
    "duration": 5,
    "start_time": "2022-12-07T19:46:53.703Z"
   },
   {
    "duration": 27,
    "start_time": "2022-12-07T19:46:53.711Z"
   },
   {
    "duration": 41,
    "start_time": "2022-12-07T19:46:53.740Z"
   },
   {
    "duration": 44,
    "start_time": "2022-12-07T19:46:53.784Z"
   },
   {
    "duration": 44,
    "start_time": "2022-12-07T19:46:53.830Z"
   },
   {
    "duration": 111,
    "start_time": "2022-12-07T19:46:53.876Z"
   },
   {
    "duration": 51,
    "start_time": "2022-12-07T19:46:53.989Z"
   },
   {
    "duration": 49,
    "start_time": "2022-12-07T19:46:54.042Z"
   },
   {
    "duration": 645,
    "start_time": "2022-12-07T19:46:54.092Z"
   },
   {
    "duration": 29,
    "start_time": "2022-12-07T19:46:54.740Z"
   },
   {
    "duration": 7779,
    "start_time": "2022-12-07T19:46:54.771Z"
   },
   {
    "duration": 97,
    "start_time": "2022-12-07T19:47:02.552Z"
   },
   {
    "duration": 10726,
    "start_time": "2022-12-07T19:47:02.737Z"
   },
   {
    "duration": 122,
    "start_time": "2022-12-07T19:47:13.465Z"
   },
   {
    "duration": 136,
    "start_time": "2022-12-07T19:47:13.589Z"
   },
   {
    "duration": 200,
    "start_time": "2022-12-07T19:47:13.736Z"
   },
   {
    "duration": 717,
    "start_time": "2022-12-07T19:47:13.938Z"
   },
   {
    "duration": 10844,
    "start_time": "2022-12-07T19:47:14.657Z"
   },
   {
    "duration": 67633,
    "start_time": "2022-12-07T19:47:25.503Z"
   },
   {
    "duration": 310,
    "start_time": "2022-12-07T19:48:33.139Z"
   },
   {
    "duration": 3,
    "start_time": "2022-12-07T19:48:33.450Z"
   },
   {
    "duration": 33,
    "start_time": "2022-12-07T19:48:33.455Z"
   },
   {
    "duration": 49,
    "start_time": "2022-12-07T19:48:33.489Z"
   },
   {
    "duration": 1134,
    "start_time": "2022-12-07T19:48:33.540Z"
   },
   {
    "duration": 16718,
    "start_time": "2022-12-07T19:48:34.676Z"
   },
   {
    "duration": 86147,
    "start_time": "2022-12-07T19:48:51.396Z"
   },
   {
    "duration": 412,
    "start_time": "2022-12-07T19:50:17.545Z"
   },
   {
    "duration": 3,
    "start_time": "2022-12-07T19:50:17.959Z"
   },
   {
    "duration": 19,
    "start_time": "2022-12-07T19:50:17.964Z"
   },
   {
    "duration": 206,
    "start_time": "2022-12-07T19:50:17.985Z"
   },
   {
    "duration": 621,
    "start_time": "2022-12-07T19:50:18.192Z"
   },
   {
    "duration": 11180,
    "start_time": "2022-12-07T19:50:18.815Z"
   },
   {
    "duration": 69443,
    "start_time": "2022-12-07T19:50:29.996Z"
   },
   {
    "duration": 419,
    "start_time": "2022-12-07T19:51:39.440Z"
   },
   {
    "duration": 121,
    "start_time": "2022-12-07T19:51:39.861Z"
   },
   {
    "duration": 27,
    "start_time": "2022-12-07T19:51:39.984Z"
   }
  ],
  "kernelspec": {
   "display_name": "Python 3 (ipykernel)",
   "language": "python",
   "name": "python3"
  },
  "language_info": {
   "codemirror_mode": {
    "name": "ipython",
    "version": 3
   },
   "file_extension": ".py",
   "mimetype": "text/x-python",
   "name": "python",
   "nbconvert_exporter": "python",
   "pygments_lexer": "ipython3",
   "version": "3.9.13"
  },
  "toc": {
   "base_numbering": 1,
   "nav_menu": {},
   "number_sections": true,
   "sideBar": true,
   "skip_h1_title": true,
   "title_cell": "Содержание",
   "title_sidebar": "Contents",
   "toc_cell": true,
   "toc_position": {
    "height": "calc(100% - 180px)",
    "left": "10px",
    "top": "150px",
    "width": "352.188px"
   },
   "toc_section_display": true,
   "toc_window_display": true
  }
 },
 "nbformat": 4,
 "nbformat_minor": 2
}
